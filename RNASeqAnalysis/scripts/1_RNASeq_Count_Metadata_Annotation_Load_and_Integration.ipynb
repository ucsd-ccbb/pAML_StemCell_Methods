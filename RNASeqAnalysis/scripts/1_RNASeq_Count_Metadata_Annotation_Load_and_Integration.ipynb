{
 "cells": [
  {
   "cell_type": "markdown",
   "metadata": {},
   "source": [
    "# De Werf/Diep/Jamieson Human Pediatric AML Study in Progenitors and Hematopoietic Stem Cells \n",
    "### Progenitors\n",
    "* Pediatric AML vs Adult AML\n",
    "* Pediatric AML vs Pediatric Non-leukemia\n",
    "\n",
    "### Stem Cells\n",
    "* Pediatric AML vs Adult AML\n",
    "* Pediatric AML vs Pediatric Non-leukemia\n",
    "\n",
    "### Pediatric AML\n",
    "* Progenitors vs Stem Cells\n",
    "\n",
    "### Adult AML\n",
    "* Progenitors vs Stem Cells\n"
   ]
  },
  {
   "cell_type": "markdown",
   "metadata": {},
   "source": [
    "# RNASeq Data Integration"
   ]
  },
  {
   "cell_type": "markdown",
   "metadata": {},
   "source": [
    "   > * Tom Whisenant, CCBB (twhisenant@ucsd.edu)\n",
    "   > * Based on upstream analysis by Guorong Xu, CCBB (g1xu@ucsd.edu)\n",
    "</div>"
   ]
  },
  {
   "cell_type": "markdown",
   "metadata": {},
   "source": [
    "* Modeled on \"RNA-seq analysis is easy as 1-2-3 with limma, Glimma and edgeR\" ([1](#Citations))\n",
    "\n",
    "## Table of Contents\n",
    "* [Background](#Background)\n",
    "* [Introduction](#Introduction)\n",
    "* [Parameter Input](#Parameter-Input)\n",
    "* [Library Import](#Library-Import)\n",
    "* [Data Import](#Data-Import)\n",
    "    * [Count Data](#Count-Data)\n",
    "    * [Metadata](#Metadata)\n",
    "    * [Annotations](#Annotations)\n",
    "* [Gene Separation By Coding Status](#Gene-Separation-By-Coding-Status)\n",
    "* [Data Integration](#Data-Integration)\n",
    "* [Annotation Integration](#Annotation-Integration)\n",
    "* [Summary](#Summary)\n",
    "* [Citations](#Citations)\n",
    "* [Appendix: R Session Info](#Appendix:-R-Session-Info)\n",
    "\n",
    "\n",
    "## Background"
   ]
  },
  {
   "cell_type": "markdown",
   "metadata": {},
   "source": [
    "   >The count data analyzed in this notebook were produced by the upstream analysis of Dr. Guorong Xu of CCBB, who received raw sequencing data and performed quality control, trimming, alignment, and quantification of reads.\n",
    "   \n",
    "</div>"
   ]
  },
  {
   "cell_type": "markdown",
   "metadata": {},
   "source": [
    "[Table of Contents](#Table-of-Contents)\n",
    "\n",
    "## Introduction\n",
    "\n",
    "This notebook takes in per-gene-per-sample count data (prepared either externally or by the  \"RNASeq_RSEM_QC_and_Counts_Preparation\" notebook) and per-sample metadata RNASeq data, and uses the edgeR ([2](#Citations)) Bioconductor ([3](#Citations)) package written in R ([4](#Citations)) to integrate and annotate these inputs in preparation for data exploration and preprocessing."
   ]
  },
  {
   "cell_type": "markdown",
   "metadata": {},
   "source": [
    "[Table of Contents](#Table-of-Contents)\n",
    "\n",
    "## Parameter Input"
   ]
  },
  {
   "cell_type": "code",
   "execution_count": 115,
   "metadata": {},
   "outputs": [],
   "source": [
    "gProjectName = \"20200228_DeWerf_Human_PediatricAML\"\n",
    "gGeneCountsFilename = \"DeWerf_Jamieson_PedAML_counts.txt\"\n",
    "gMetadataFilename = \"DeWerf_Jamieson_PediatricAMLmetadata_02282020.csv\"\n",
    "\n",
    "# Note: the below R object file is necessary only if separating genes into coding \n",
    "# and non-coding before analysis.\n",
    "# If NOT doing this, set the value of this filename to NULL.\n",
    "# Note: be sure to record source of annotations file, such as:\n",
    "# R object of contents of gencode.v29.annotation.gtf based on Homo sapiens GRCh38p12\n",
    "gAnnotationsRdataFilename = \"Homo_sapiens_GRCh38p12_gencodev29_ANNOT.Rdata\"\n",
    "\n",
    "# or use the same one as always\n",
    "gAnnotationsRdataFilename_hg19 = \"/mnt/data1/tomw/Holm_Jamieson_Analysis/gencodev19_ANNOT.RData\""
   ]
  },
  {
   "cell_type": "code",
   "execution_count": 116,
   "metadata": {},
   "outputs": [],
   "source": [
    "gSourceDir = \"/mnt/data1/tomw/RNASeq/notebooks/src/\" # note trailing slash here but not below\n",
    "gOutputDir = \"../outputs\"\n",
    "gInputDir = \"../inputs\"\n",
    "gReferenceDir = \"/mnt/data1/tomw/RNASeq/reference\"\n",
    "gInterimDir = \"../interim\"\n",
    "gGeneCountsFp = file.path(gOutputDir, gGeneCountsFilename)\n",
    "gMetadataFp = file.path(gInputDir, gMetadataFilename)\n",
    "gAnnotationFp_hg19 <- file.path(gAnnotationsRdataFilename_hg19)"
   ]
  },
  {
   "cell_type": "code",
   "execution_count": 117,
   "metadata": {},
   "outputs": [],
   "source": [
    "# Import shared source code to load and save previous notebooks' environments:\n",
    "source(paste0(gSourceDir, \"ChainedNotebookSupport.R\"))"
   ]
  },
  {
   "cell_type": "markdown",
   "metadata": {},
   "source": [
    "Populate the run name parameter automatically to ensure that outputs from different runs do not overwrite each other:"
   ]
  },
  {
   "cell_type": "code",
   "execution_count": 118,
   "metadata": {},
   "outputs": [
    {
     "data": {
      "text/html": [
       "'20200228_DeWerf_Human_PediatricAML_data_integration_20200318124751'"
      ],
      "text/latex": [
       "'20200228\\_DeWerf\\_Human\\_PediatricAML\\_data\\_integration\\_20200318124751'"
      ],
      "text/markdown": [
       "'20200228_DeWerf_Human_PediatricAML_data_integration_20200318124751'"
      ],
      "text/plain": [
       "[1] \"20200228_DeWerf_Human_PediatricAML_data_integration_20200318124751\""
      ]
     },
     "metadata": {},
     "output_type": "display_data"
    }
   ],
   "source": [
    "gRunName = makeRunName(gProjectName, \"data_integration\")\n",
    "gRunName"
   ]
  },
  {
   "cell_type": "markdown",
   "metadata": {},
   "source": [
    "[Table of Contents](#Table-of-Contents)\n",
    "\n",
    "## Library Import\n",
    "\n",
    "Import the necessary R, Bioconductor, and CCBB libraries for the analysis:"
   ]
  },
  {
   "cell_type": "code",
   "execution_count": null,
   "metadata": {},
   "outputs": [],
   "source": [
    "#if (!requireNamespace(\"BiocManager\", quietly = TRUE))\n",
    "#    install.packages(\"BiocManager\")"
   ]
  },
  {
   "cell_type": "code",
   "execution_count": null,
   "metadata": {},
   "outputs": [],
   "source": [
    "#BiocManager::install(\"edgeR\", version = \"3.8\")"
   ]
  },
  {
   "cell_type": "code",
   "execution_count": null,
   "metadata": {},
   "outputs": [],
   "source": [
    "#BiocManager::install(\"Homo.sapiens\", version = \"3.8\")"
   ]
  },
  {
   "cell_type": "code",
   "execution_count": 119,
   "metadata": {},
   "outputs": [],
   "source": [
    "library(Homo.sapiens)\n",
    "gOrganismPackage = Homo.sapiens"
   ]
  },
  {
   "cell_type": "code",
   "execution_count": 120,
   "metadata": {},
   "outputs": [],
   "source": [
    "library(edgeR)"
   ]
  },
  {
   "cell_type": "markdown",
   "metadata": {},
   "source": [
    "[Table of Contents](#Table-of-Contents)\n",
    "\n",
    "\n",
    "## Data Import\n",
    "\n",
    "### Count Data\n",
    "\n",
    "Import the count data file in which rows are genes identifiers, columns are sample identifiers, and row/column intersections contain the number of counts for the relevant gene in the relevant sample:"
   ]
  },
  {
   "cell_type": "code",
   "execution_count": 121,
   "metadata": {},
   "outputs": [
    {
     "data": {
      "text/html": [
       "<ol class=list-inline>\n",
       "\t<li>57820</li>\n",
       "\t<li>36</li>\n",
       "</ol>\n"
      ],
      "text/latex": [
       "\\begin{enumerate*}\n",
       "\\item 57820\n",
       "\\item 36\n",
       "\\end{enumerate*}\n"
      ],
      "text/markdown": [
       "1. 57820\n",
       "2. 36\n",
       "\n",
       "\n"
      ],
      "text/plain": [
       "[1] 57820    36"
      ]
     },
     "metadata": {},
     "output_type": "display_data"
    },
    {
     "data": {
      "text/html": [
       "<ol class=list-inline>\n",
       "\t<li>'X14x12488xPLUSPLUS'</li>\n",
       "\t<li>'X02pid24760ctHPC'</li>\n",
       "\t<li>'cell05id90HSC'</li>\n",
       "\t<li>'X02id11251HSC'</li>\n",
       "\t<li>'X04id11474HSC'</li>\n",
       "\t<li>'X05x00047xPLUSPLUS'</li>\n",
       "\t<li>'X06x00077xPLUSPLUS'</li>\n",
       "\t<li>'X04pid24474ctHPC'</li>\n",
       "\t<li>'X09x00020pxPLUSPLUS'</li>\n",
       "\t<li>'X03id78cellHSC'</li>\n",
       "\t<li>'X04id78cellPROGENITORS'</li>\n",
       "\t<li>'X06id00066PRO'</li>\n",
       "\t<li>'X12x12484xPLUSMINS'</li>\n",
       "\t<li>'X01pid24760ctHSC'</li>\n",
       "\t<li>'X06id90cellPROGENITORS'</li>\n",
       "\t<li>'X07x00023xPLUSPLUS'</li>\n",
       "\t<li>'X02x11379xHSCxxxxx'</li>\n",
       "\t<li>'X05pid25376ctHSC'</li>\n",
       "\t<li>'X06pid25376ctHPC'</li>\n",
       "\t<li>'X08x00020xPLUSMINS'</li>\n",
       "\t<li>'X02id38cellPROGENITORS'</li>\n",
       "\t<li>'X10x00082xPLUSMINS'</li>\n",
       "\t<li>'X18x10720xPLUSPLUS'</li>\n",
       "\t<li>'X03pid24474ctHSC'</li>\n",
       "\t<li>'X01id38cellHSC'</li>\n",
       "\t<li>'X03x11379xHPCxxxxx'</li>\n",
       "\t<li>'X13x12488xPLUSMINS'</li>\n",
       "\t<li>'X03id11474HPC'</li>\n",
       "\t<li>'X05id00066HSC'</li>\n",
       "\t<li>'X15x12584xPLUSPLUS'</li>\n",
       "\t<li>'X01id11251HPC'</li>\n",
       "\t<li>'X17x12451xPLUSPLUS'</li>\n",
       "\t<li>'X11x00082xPLUSPLUS'</li>\n",
       "\t<li>'X01x00077xPROGENIT'</li>\n",
       "\t<li>'X16x12451xPLUSMINS'</li>\n",
       "\t<li>'X04x00068xPLUSMINS'</li>\n",
       "</ol>\n"
      ],
      "text/latex": [
       "\\begin{enumerate*}\n",
       "\\item 'X14x12488xPLUSPLUS'\n",
       "\\item 'X02pid24760ctHPC'\n",
       "\\item 'cell05id90HSC'\n",
       "\\item 'X02id11251HSC'\n",
       "\\item 'X04id11474HSC'\n",
       "\\item 'X05x00047xPLUSPLUS'\n",
       "\\item 'X06x00077xPLUSPLUS'\n",
       "\\item 'X04pid24474ctHPC'\n",
       "\\item 'X09x00020pxPLUSPLUS'\n",
       "\\item 'X03id78cellHSC'\n",
       "\\item 'X04id78cellPROGENITORS'\n",
       "\\item 'X06id00066PRO'\n",
       "\\item 'X12x12484xPLUSMINS'\n",
       "\\item 'X01pid24760ctHSC'\n",
       "\\item 'X06id90cellPROGENITORS'\n",
       "\\item 'X07x00023xPLUSPLUS'\n",
       "\\item 'X02x11379xHSCxxxxx'\n",
       "\\item 'X05pid25376ctHSC'\n",
       "\\item 'X06pid25376ctHPC'\n",
       "\\item 'X08x00020xPLUSMINS'\n",
       "\\item 'X02id38cellPROGENITORS'\n",
       "\\item 'X10x00082xPLUSMINS'\n",
       "\\item 'X18x10720xPLUSPLUS'\n",
       "\\item 'X03pid24474ctHSC'\n",
       "\\item 'X01id38cellHSC'\n",
       "\\item 'X03x11379xHPCxxxxx'\n",
       "\\item 'X13x12488xPLUSMINS'\n",
       "\\item 'X03id11474HPC'\n",
       "\\item 'X05id00066HSC'\n",
       "\\item 'X15x12584xPLUSPLUS'\n",
       "\\item 'X01id11251HPC'\n",
       "\\item 'X17x12451xPLUSPLUS'\n",
       "\\item 'X11x00082xPLUSPLUS'\n",
       "\\item 'X01x00077xPROGENIT'\n",
       "\\item 'X16x12451xPLUSMINS'\n",
       "\\item 'X04x00068xPLUSMINS'\n",
       "\\end{enumerate*}\n"
      ],
      "text/markdown": [
       "1. 'X14x12488xPLUSPLUS'\n",
       "2. 'X02pid24760ctHPC'\n",
       "3. 'cell05id90HSC'\n",
       "4. 'X02id11251HSC'\n",
       "5. 'X04id11474HSC'\n",
       "6. 'X05x00047xPLUSPLUS'\n",
       "7. 'X06x00077xPLUSPLUS'\n",
       "8. 'X04pid24474ctHPC'\n",
       "9. 'X09x00020pxPLUSPLUS'\n",
       "10. 'X03id78cellHSC'\n",
       "11. 'X04id78cellPROGENITORS'\n",
       "12. 'X06id00066PRO'\n",
       "13. 'X12x12484xPLUSMINS'\n",
       "14. 'X01pid24760ctHSC'\n",
       "15. 'X06id90cellPROGENITORS'\n",
       "16. 'X07x00023xPLUSPLUS'\n",
       "17. 'X02x11379xHSCxxxxx'\n",
       "18. 'X05pid25376ctHSC'\n",
       "19. 'X06pid25376ctHPC'\n",
       "20. 'X08x00020xPLUSMINS'\n",
       "21. 'X02id38cellPROGENITORS'\n",
       "22. 'X10x00082xPLUSMINS'\n",
       "23. 'X18x10720xPLUSPLUS'\n",
       "24. 'X03pid24474ctHSC'\n",
       "25. 'X01id38cellHSC'\n",
       "26. 'X03x11379xHPCxxxxx'\n",
       "27. 'X13x12488xPLUSMINS'\n",
       "28. 'X03id11474HPC'\n",
       "29. 'X05id00066HSC'\n",
       "30. 'X15x12584xPLUSPLUS'\n",
       "31. 'X01id11251HPC'\n",
       "32. 'X17x12451xPLUSPLUS'\n",
       "33. 'X11x00082xPLUSPLUS'\n",
       "34. 'X01x00077xPROGENIT'\n",
       "35. 'X16x12451xPLUSMINS'\n",
       "36. 'X04x00068xPLUSMINS'\n",
       "\n",
       "\n"
      ],
      "text/plain": [
       " [1] \"X14x12488xPLUSPLUS\"     \"X02pid24760ctHPC\"       \"cell05id90HSC\"         \n",
       " [4] \"X02id11251HSC\"          \"X04id11474HSC\"          \"X05x00047xPLUSPLUS\"    \n",
       " [7] \"X06x00077xPLUSPLUS\"     \"X04pid24474ctHPC\"       \"X09x00020pxPLUSPLUS\"   \n",
       "[10] \"X03id78cellHSC\"         \"X04id78cellPROGENITORS\" \"X06id00066PRO\"         \n",
       "[13] \"X12x12484xPLUSMINS\"     \"X01pid24760ctHSC\"       \"X06id90cellPROGENITORS\"\n",
       "[16] \"X07x00023xPLUSPLUS\"     \"X02x11379xHSCxxxxx\"     \"X05pid25376ctHSC\"      \n",
       "[19] \"X06pid25376ctHPC\"       \"X08x00020xPLUSMINS\"     \"X02id38cellPROGENITORS\"\n",
       "[22] \"X10x00082xPLUSMINS\"     \"X18x10720xPLUSPLUS\"     \"X03pid24474ctHSC\"      \n",
       "[25] \"X01id38cellHSC\"         \"X03x11379xHPCxxxxx\"     \"X13x12488xPLUSMINS\"    \n",
       "[28] \"X03id11474HPC\"          \"X05id00066HSC\"          \"X15x12584xPLUSPLUS\"    \n",
       "[31] \"X01id11251HPC\"          \"X17x12451xPLUSPLUS\"     \"X11x00082xPLUSPLUS\"    \n",
       "[34] \"X01x00077xPROGENIT\"     \"X16x12451xPLUSMINS\"     \"X04x00068xPLUSMINS\"    "
      ]
     },
     "metadata": {},
     "output_type": "display_data"
    }
   ],
   "source": [
    "# Read in counts file containing info on all samples and genes\n",
    "gUnorderedGeneCountsDf <- read.csv(gGeneCountsFp, sep=\"\\t\", stringsAsFactors=FALSE, row.names=1)\n",
    "colnames(gUnorderedGeneCountsDf) <- gsub(\"_S[0-9]+_R1_001$\", \"\", colnames(gUnorderedGeneCountsDf))\n",
    "dim(gUnorderedGeneCountsDf)\n",
    "colnames(gUnorderedGeneCountsDf) "
   ]
  },
  {
   "cell_type": "code",
   "execution_count": 122,
   "metadata": {},
   "outputs": [
    {
     "data": {
      "text/html": [
       "<table>\n",
       "<caption>A data.frame: 6 × 36</caption>\n",
       "<thead>\n",
       "\t<tr><th></th><th scope=col>X14x12488xPLUSPLUS</th><th scope=col>X02pid24760ctHPC</th><th scope=col>cell05id90HSC</th><th scope=col>X02id11251HSC</th><th scope=col>X04id11474HSC</th><th scope=col>X05x00047xPLUSPLUS</th><th scope=col>X06x00077xPLUSPLUS</th><th scope=col>X04pid24474ctHPC</th><th scope=col>X09x00020pxPLUSPLUS</th><th scope=col>X03id78cellHSC</th><th scope=col>⋯</th><th scope=col>X13x12488xPLUSMINS</th><th scope=col>X03id11474HPC</th><th scope=col>X05id00066HSC</th><th scope=col>X15x12584xPLUSPLUS</th><th scope=col>X01id11251HPC</th><th scope=col>X17x12451xPLUSPLUS</th><th scope=col>X11x00082xPLUSPLUS</th><th scope=col>X01x00077xPROGENIT</th><th scope=col>X16x12451xPLUSMINS</th><th scope=col>X04x00068xPLUSMINS</th></tr>\n",
       "\t<tr><th></th><th scope=col>&lt;dbl&gt;</th><th scope=col>&lt;dbl&gt;</th><th scope=col>&lt;dbl&gt;</th><th scope=col>&lt;dbl&gt;</th><th scope=col>&lt;dbl&gt;</th><th scope=col>&lt;dbl&gt;</th><th scope=col>&lt;dbl&gt;</th><th scope=col>&lt;dbl&gt;</th><th scope=col>&lt;dbl&gt;</th><th scope=col>&lt;dbl&gt;</th><th scope=col>⋯</th><th scope=col>&lt;dbl&gt;</th><th scope=col>&lt;dbl&gt;</th><th scope=col>&lt;dbl&gt;</th><th scope=col>&lt;dbl&gt;</th><th scope=col>&lt;dbl&gt;</th><th scope=col>&lt;dbl&gt;</th><th scope=col>&lt;dbl&gt;</th><th scope=col>&lt;dbl&gt;</th><th scope=col>&lt;dbl&gt;</th><th scope=col>&lt;dbl&gt;</th></tr>\n",
       "</thead>\n",
       "<tbody>\n",
       "\t<tr><th scope=row>ENSG00000000003.10</th><td>  10.00</td><td>  35.00</td><td>   0.00</td><td>   3.0</td><td>   0.00</td><td>  18.00</td><td>  49.00</td><td> 116.00</td><td>   0.00</td><td>   1.00</td><td>⋯</td><td>  54.00</td><td>   0.00</td><td>  0.00</td><td>  15.00</td><td>   0.00</td><td>   0.00</td><td>   0.00</td><td>   0.00</td><td>   0.00</td><td>  0.00</td></tr>\n",
       "\t<tr><th scope=row>ENSG00000000005.5</th><td>   0.00</td><td>   0.00</td><td>   0.00</td><td>   0.0</td><td>   0.00</td><td>   0.00</td><td>   0.00</td><td>   0.00</td><td>   0.00</td><td>   0.00</td><td>⋯</td><td>   0.00</td><td>   0.00</td><td>  0.00</td><td>   0.00</td><td>   0.00</td><td>   0.00</td><td>   0.00</td><td>   0.00</td><td>   0.00</td><td>  0.00</td></tr>\n",
       "\t<tr><th scope=row>ENSG00000000419.8</th><td>3579.00</td><td>2724.00</td><td>1705.00</td><td>1759.0</td><td>1923.00</td><td>2350.00</td><td>4884.00</td><td>3125.00</td><td>1646.00</td><td>1872.00</td><td>⋯</td><td>1712.00</td><td>2125.00</td><td>818.00</td><td>1652.00</td><td>1777.00</td><td>2146.00</td><td>2294.00</td><td>1225.00</td><td>1082.00</td><td>910.00</td></tr>\n",
       "\t<tr><th scope=row>ENSG00000000457.9</th><td> 456.88</td><td>1238.85</td><td> 322.03</td><td> 160.2</td><td> 529.39</td><td> 354.12</td><td>1435.02</td><td> 158.04</td><td> 513.23</td><td>  96.22</td><td>⋯</td><td> 151.32</td><td> 424.19</td><td>488.89</td><td> 158.72</td><td>  20.94</td><td>1295.05</td><td> 102.96</td><td> 351.54</td><td> 178.19</td><td>145.25</td></tr>\n",
       "\t<tr><th scope=row>ENSG00000000460.12</th><td>1413.12</td><td>1699.15</td><td>1042.97</td><td> 352.8</td><td> 543.61</td><td>1377.88</td><td>2543.98</td><td> 768.96</td><td> 199.77</td><td> 297.78</td><td>⋯</td><td> 378.68</td><td> 596.81</td><td>271.11</td><td> 365.28</td><td> 292.06</td><td> 178.95</td><td> 116.04</td><td> 730.46</td><td> 121.81</td><td>281.75</td></tr>\n",
       "\t<tr><th scope=row>ENSG00000000938.8</th><td> 181.00</td><td> 293.00</td><td>  18.00</td><td>  70.0</td><td> 357.00</td><td> 466.00</td><td> 436.00</td><td>  50.00</td><td> 238.00</td><td> 199.00</td><td>⋯</td><td> 230.00</td><td> 659.00</td><td> 91.00</td><td> 129.00</td><td> 286.00</td><td> 279.00</td><td>  13.00</td><td>  43.00</td><td> 133.00</td><td>114.00</td></tr>\n",
       "</tbody>\n",
       "</table>\n"
      ],
      "text/latex": [
       "A data.frame: 6 × 36\n",
       "\\begin{tabular}{r|llllllllllllllllllllllllllllllllllll}\n",
       "  & X14x12488xPLUSPLUS & X02pid24760ctHPC & cell05id90HSC & X02id11251HSC & X04id11474HSC & X05x00047xPLUSPLUS & X06x00077xPLUSPLUS & X04pid24474ctHPC & X09x00020pxPLUSPLUS & X03id78cellHSC & X04id78cellPROGENITORS & X06id00066PRO & X12x12484xPLUSMINS & X01pid24760ctHSC & X06id90cellPROGENITORS & X07x00023xPLUSPLUS & X02x11379xHSCxxxxx & X05pid25376ctHSC & X06pid25376ctHPC & X08x00020xPLUSMINS & X02id38cellPROGENITORS & X10x00082xPLUSMINS & X18x10720xPLUSPLUS & X03pid24474ctHSC & X01id38cellHSC & X03x11379xHPCxxxxx & X13x12488xPLUSMINS & X03id11474HPC & X05id00066HSC & X15x12584xPLUSPLUS & X01id11251HPC & X17x12451xPLUSPLUS & X11x00082xPLUSPLUS & X01x00077xPROGENIT & X16x12451xPLUSMINS & X04x00068xPLUSMINS\\\\\n",
       "  & <dbl> & <dbl> & <dbl> & <dbl> & <dbl> & <dbl> & <dbl> & <dbl> & <dbl> & <dbl> & <dbl> & <dbl> & <dbl> & <dbl> & <dbl> & <dbl> & <dbl> & <dbl> & <dbl> & <dbl> & <dbl> & <dbl> & <dbl> & <dbl> & <dbl> & <dbl> & <dbl> & <dbl> & <dbl> & <dbl> & <dbl> & <dbl> & <dbl> & <dbl> & <dbl> & <dbl>\\\\\n",
       "\\hline\n",
       "\tENSG00000000003.10 &   10.00 &   35.00 &    0.00 &    3.0 &    0.00 &   18.00 &   49.00 &  116.00 &    0.00 &    1.00 &    0.00 &    0.00 &  307.0 &   70.00 &    0.00 &    0.0 &    0.00 &  98 &   47.00 &  602.00 &    0.00 &   57 &   21.00 &    4.00 &    0.00 &    0.00 &   54.00 &    0.00 &   0.00 &   15.00 &    0.00 &    0.00 &    0.00 &    0.00 &    0.00 &   0.00\\\\\n",
       "\tENSG00000000005.5 &    0.00 &    0.00 &    0.00 &    0.0 &    0.00 &    0.00 &    0.00 &    0.00 &    0.00 &    0.00 &    0.00 &    0.00 &    0.0 &    0.00 &    0.00 &    0.0 &    0.00 &   0 &    0.00 &    0.00 &    0.00 &    0 &    0.00 &    0.00 &    0.00 &    0.00 &    0.00 &    0.00 &   0.00 &    0.00 &    0.00 &    0.00 &    0.00 &    0.00 &    0.00 &   0.00\\\\\n",
       "\tENSG00000000419.8 & 3579.00 & 2724.00 & 1705.00 & 1759.0 & 1923.00 & 2350.00 & 4884.00 & 3125.00 & 1646.00 & 1872.00 & 1805.00 & 1745.00 & 3837.0 & 1498.00 & 2351.00 & 1039.0 & 2213.00 & 476 & 3411.00 & 2569.00 & 2200.00 & 1308 & 3122.00 & 1982.00 & 2227.00 & 2308.00 & 1712.00 & 2125.00 & 818.00 & 1652.00 & 1777.00 & 2146.00 & 2294.00 & 1225.00 & 1082.00 & 910.00\\\\\n",
       "\tENSG00000000457.9 &  456.88 & 1238.85 &  322.03 &  160.2 &  529.39 &  354.12 & 1435.02 &  158.04 &  513.23 &   96.22 &  277.31 &  840.19 &  737.5 & 2048.79 &  143.54 &  320.4 &  844.14 &   0 &  656.66 &  374.05 &  347.01 &  178 & 1056.94 &  128.74 &  580.36 &  833.81 &  151.32 &  424.19 & 488.89 &  158.72 &   20.94 & 1295.05 &  102.96 &  351.54 &  178.19 & 145.25\\\\\n",
       "\tENSG00000000460.12 & 1413.12 & 1699.15 & 1042.97 &  352.8 &  543.61 & 1377.88 & 2543.98 &  768.96 &  199.77 &  297.78 &  924.69 &  903.81 &  323.5 &  878.21 &  456.46 &  374.6 &  626.86 & 191 & 2071.34 &   41.95 &  651.99 &    0 & 2008.06 &  218.26 & 1137.64 & 1320.19 &  378.68 &  596.81 & 271.11 &  365.28 &  292.06 &  178.95 &  116.04 &  730.46 &  121.81 & 281.75\\\\\n",
       "\tENSG00000000938.8 &  181.00 &  293.00 &   18.00 &   70.0 &  357.00 &  466.00 &  436.00 &   50.00 &  238.00 &  199.00 &  188.00 &  263.00 &  467.0 &  222.00 &  238.00 &  169.0 &  169.00 &   0 &  155.00 &    0.00 &  444.00 &    0 &  272.00 &    9.00 &  204.00 &  443.00 &  230.00 &  659.00 &  91.00 &  129.00 &  286.00 &  279.00 &   13.00 &   43.00 &  133.00 & 114.00\\\\\n",
       "\\end{tabular}\n"
      ],
      "text/markdown": [
       "\n",
       "A data.frame: 6 × 36\n",
       "\n",
       "| <!--/--> | X14x12488xPLUSPLUS &lt;dbl&gt; | X02pid24760ctHPC &lt;dbl&gt; | cell05id90HSC &lt;dbl&gt; | X02id11251HSC &lt;dbl&gt; | X04id11474HSC &lt;dbl&gt; | X05x00047xPLUSPLUS &lt;dbl&gt; | X06x00077xPLUSPLUS &lt;dbl&gt; | X04pid24474ctHPC &lt;dbl&gt; | X09x00020pxPLUSPLUS &lt;dbl&gt; | X03id78cellHSC &lt;dbl&gt; | ⋯ ⋯ | X13x12488xPLUSMINS &lt;dbl&gt; | X03id11474HPC &lt;dbl&gt; | X05id00066HSC &lt;dbl&gt; | X15x12584xPLUSPLUS &lt;dbl&gt; | X01id11251HPC &lt;dbl&gt; | X17x12451xPLUSPLUS &lt;dbl&gt; | X11x00082xPLUSPLUS &lt;dbl&gt; | X01x00077xPROGENIT &lt;dbl&gt; | X16x12451xPLUSMINS &lt;dbl&gt; | X04x00068xPLUSMINS &lt;dbl&gt; |\n",
       "|---|---|---|---|---|---|---|---|---|---|---|---|---|---|---|---|---|---|---|---|---|---|\n",
       "| ENSG00000000003.10 |   10.00 |   35.00 |    0.00 |    3.0 |    0.00 |   18.00 |   49.00 |  116.00 |    0.00 |    1.00 | ⋯ |   54.00 |    0.00 |   0.00 |   15.00 |    0.00 |    0.00 |    0.00 |    0.00 |    0.00 |   0.00 |\n",
       "| ENSG00000000005.5 |    0.00 |    0.00 |    0.00 |    0.0 |    0.00 |    0.00 |    0.00 |    0.00 |    0.00 |    0.00 | ⋯ |    0.00 |    0.00 |   0.00 |    0.00 |    0.00 |    0.00 |    0.00 |    0.00 |    0.00 |   0.00 |\n",
       "| ENSG00000000419.8 | 3579.00 | 2724.00 | 1705.00 | 1759.0 | 1923.00 | 2350.00 | 4884.00 | 3125.00 | 1646.00 | 1872.00 | ⋯ | 1712.00 | 2125.00 | 818.00 | 1652.00 | 1777.00 | 2146.00 | 2294.00 | 1225.00 | 1082.00 | 910.00 |\n",
       "| ENSG00000000457.9 |  456.88 | 1238.85 |  322.03 |  160.2 |  529.39 |  354.12 | 1435.02 |  158.04 |  513.23 |   96.22 | ⋯ |  151.32 |  424.19 | 488.89 |  158.72 |   20.94 | 1295.05 |  102.96 |  351.54 |  178.19 | 145.25 |\n",
       "| ENSG00000000460.12 | 1413.12 | 1699.15 | 1042.97 |  352.8 |  543.61 | 1377.88 | 2543.98 |  768.96 |  199.77 |  297.78 | ⋯ |  378.68 |  596.81 | 271.11 |  365.28 |  292.06 |  178.95 |  116.04 |  730.46 |  121.81 | 281.75 |\n",
       "| ENSG00000000938.8 |  181.00 |  293.00 |   18.00 |   70.0 |  357.00 |  466.00 |  436.00 |   50.00 |  238.00 |  199.00 | ⋯ |  230.00 |  659.00 |  91.00 |  129.00 |  286.00 |  279.00 |   13.00 |   43.00 |  133.00 | 114.00 |\n",
       "\n"
      ],
      "text/plain": [
       "                   X14x12488xPLUSPLUS X02pid24760ctHPC cell05id90HSC\n",
       "ENSG00000000003.10   10.00              35.00             0.00      \n",
       "ENSG00000000005.5     0.00               0.00             0.00      \n",
       "ENSG00000000419.8  3579.00            2724.00          1705.00      \n",
       "ENSG00000000457.9   456.88            1238.85           322.03      \n",
       "ENSG00000000460.12 1413.12            1699.15          1042.97      \n",
       "ENSG00000000938.8   181.00             293.00            18.00      \n",
       "                   X02id11251HSC X04id11474HSC X05x00047xPLUSPLUS\n",
       "ENSG00000000003.10    3.0           0.00         18.00           \n",
       "ENSG00000000005.5     0.0           0.00          0.00           \n",
       "ENSG00000000419.8  1759.0        1923.00       2350.00           \n",
       "ENSG00000000457.9   160.2         529.39        354.12           \n",
       "ENSG00000000460.12  352.8         543.61       1377.88           \n",
       "ENSG00000000938.8    70.0         357.00        466.00           \n",
       "                   X06x00077xPLUSPLUS X04pid24474ctHPC X09x00020pxPLUSPLUS\n",
       "ENSG00000000003.10   49.00             116.00             0.00            \n",
       "ENSG00000000005.5     0.00               0.00             0.00            \n",
       "ENSG00000000419.8  4884.00            3125.00          1646.00            \n",
       "ENSG00000000457.9  1435.02             158.04           513.23            \n",
       "ENSG00000000460.12 2543.98             768.96           199.77            \n",
       "ENSG00000000938.8   436.00              50.00           238.00            \n",
       "                   X03id78cellHSC ⋯ X13x12488xPLUSMINS X03id11474HPC\n",
       "ENSG00000000003.10    1.00        ⋯   54.00               0.00      \n",
       "ENSG00000000005.5     0.00        ⋯    0.00               0.00      \n",
       "ENSG00000000419.8  1872.00        ⋯ 1712.00            2125.00      \n",
       "ENSG00000000457.9    96.22        ⋯  151.32             424.19      \n",
       "ENSG00000000460.12  297.78        ⋯  378.68             596.81      \n",
       "ENSG00000000938.8   199.00        ⋯  230.00             659.00      \n",
       "                   X05id00066HSC X15x12584xPLUSPLUS X01id11251HPC\n",
       "ENSG00000000003.10   0.00          15.00               0.00      \n",
       "ENSG00000000005.5    0.00           0.00               0.00      \n",
       "ENSG00000000419.8  818.00        1652.00            1777.00      \n",
       "ENSG00000000457.9  488.89         158.72              20.94      \n",
       "ENSG00000000460.12 271.11         365.28             292.06      \n",
       "ENSG00000000938.8   91.00         129.00             286.00      \n",
       "                   X17x12451xPLUSPLUS X11x00082xPLUSPLUS X01x00077xPROGENIT\n",
       "ENSG00000000003.10    0.00               0.00               0.00           \n",
       "ENSG00000000005.5     0.00               0.00               0.00           \n",
       "ENSG00000000419.8  2146.00            2294.00            1225.00           \n",
       "ENSG00000000457.9  1295.05             102.96             351.54           \n",
       "ENSG00000000460.12  178.95             116.04             730.46           \n",
       "ENSG00000000938.8   279.00              13.00              43.00           \n",
       "                   X16x12451xPLUSMINS X04x00068xPLUSMINS\n",
       "ENSG00000000003.10    0.00              0.00            \n",
       "ENSG00000000005.5     0.00              0.00            \n",
       "ENSG00000000419.8  1082.00            910.00            \n",
       "ENSG00000000457.9   178.19            145.25            \n",
       "ENSG00000000460.12  121.81            281.75            \n",
       "ENSG00000000938.8   133.00            114.00            "
      ]
     },
     "metadata": {},
     "output_type": "display_data"
    }
   ],
   "source": [
    "head(gUnorderedGeneCountsDf)"
   ]
  },
  {
   "cell_type": "code",
   "execution_count": 123,
   "metadata": {},
   "outputs": [],
   "source": [
    "detectParRecords = function(geneCountsDf){\n",
    "    gene_names <- rownames(geneCountsDf)\n",
    "    PAR_genes <- gene_names[grep(\"_PAR_\", gene_names)] \n",
    "    if (length(PAR_genes) == 0){\n",
    "        print(\"No PAR genes detected; analysis can proceed.\")\n",
    "    } else {\n",
    "        print(\"ERROR: PAR genes found.  These must be removed before continuing analysis.\")\n",
    "    }\n",
    "    return(PAR_genes)\n",
    "}"
   ]
  },
  {
   "cell_type": "code",
   "execution_count": 124,
   "metadata": {},
   "outputs": [
    {
     "name": "stdout",
     "output_type": "stream",
     "text": [
      "[1] \"No PAR genes detected; analysis can proceed.\"\n"
     ]
    },
    {
     "data": {
      "text/html": [],
      "text/latex": [],
      "text/markdown": [],
      "text/plain": [
       "character(0)"
      ]
     },
     "metadata": {},
     "output_type": "display_data"
    }
   ],
   "source": [
    "detectParRecords(gUnorderedGeneCountsDf)"
   ]
  },
  {
   "cell_type": "markdown",
   "metadata": {},
   "source": [
    "No assumption is made that the columns (samples) of the gene count file are currently ordered in the order desirable for the differential expression analysis."
   ]
  },
  {
   "cell_type": "markdown",
   "metadata": {},
   "source": [
    "[Table of Contents](#Table-of-Contents)\n",
    "\n",
    "### Metadata\n",
    "\n",
    "> For downstream analysis, sample-level information related to the experimental design needs to be associated with the columns of the counts matrix. This should include experimental variables, both biological and technical, that could have an effect on expression levels. Examples [could] include cell type (basal, LP and ML in this experiment), genotype (wild-type, knock-out), phenotype (disease status, sex, age), sample treatment (drug, control) and batch information (date experiment was performed if samples were collected and analysed at distinct time points) to name just a few. ([1](#Citations))\n",
    "\n",
    "Import a metadata file in which rows are sample identifiers, columns are metadata features (e.g., subject id, time point, etc) and row/column intersections contain the value of the relevant feature for the relevant sample:"
   ]
  },
  {
   "cell_type": "code",
   "execution_count": 125,
   "metadata": {},
   "outputs": [
    {
     "data": {
      "text/html": [
       "<ol class=list-inline>\n",
       "\t<li>36</li>\n",
       "\t<li>14</li>\n",
       "</ol>\n"
      ],
      "text/latex": [
       "\\begin{enumerate*}\n",
       "\\item 36\n",
       "\\item 14\n",
       "\\end{enumerate*}\n"
      ],
      "text/markdown": [
       "1. 36\n",
       "2. 14\n",
       "\n",
       "\n"
      ],
      "text/plain": [
       "[1] 36 14"
      ]
     },
     "metadata": {},
     "output_type": "display_data"
    }
   ],
   "source": [
    "#Read in metadata\n",
    "gMetadataDf <- read.csv(gMetadataFp, stringsAsFactors=FALSE)\n",
    "dim(gMetadataDf)"
   ]
  },
  {
   "cell_type": "code",
   "execution_count": 126,
   "metadata": {},
   "outputs": [
    {
     "data": {
      "text/html": [
       "<table>\n",
       "<caption>A data.frame: 6 × 14</caption>\n",
       "<thead>\n",
       "\t<tr><th scope=col>SequenceRun</th><th scope=col>SequenceDate</th><th scope=col>Sample</th><th scope=col>SampleName</th><th scope=col>Patient.ID</th><th scope=col>RIN</th><th scope=col>X</th><th scope=col>Adult.Pediatric</th><th scope=col>Disease</th><th scope=col>Cell.type</th><th scope=col>Sorted.Cell.Type</th><th scope=col>Tissue.Source</th><th scope=col>RNA.seq.status</th><th scope=col>Reads</th></tr>\n",
       "\t<tr><th scope=col>&lt;chr&gt;</th><th scope=col>&lt;chr&gt;</th><th scope=col>&lt;chr&gt;</th><th scope=col>&lt;chr&gt;</th><th scope=col>&lt;int&gt;</th><th scope=col>&lt;dbl&gt;</th><th scope=col>&lt;chr&gt;</th><th scope=col>&lt;chr&gt;</th><th scope=col>&lt;chr&gt;</th><th scope=col>&lt;chr&gt;</th><th scope=col>&lt;chr&gt;</th><th scope=col>&lt;chr&gt;</th><th scope=col>&lt;chr&gt;</th><th scope=col>&lt;int&gt;</th></tr>\n",
       "</thead>\n",
       "<tbody>\n",
       "\t<tr><td>ca_ne_586_001_400_000_JAMIESON_SR_human-ensembl-grch38-r91</td><td>5/5/19</td><td>01id38cellHSC        </td><td>38 HSC        </td><td>32538</td><td>10.0</td><td>PedAML</td><td>Pediatric</td><td>AML </td><td>Stem</td><td>34+38-</td><td>PB</td><td>Completed</td><td>81234305</td></tr>\n",
       "\t<tr><td>ca_ne_586_001_400_000_JAMIESON_SR_human-ensembl-grch38-r91</td><td>5/5/19</td><td>02id38cellPROGENITORS</td><td>38 Progenitors</td><td>32538</td><td> 9.7</td><td>PedAML</td><td>Pediatric</td><td>AML </td><td>Prog</td><td>34+38+</td><td>PB</td><td>Completed</td><td>73196851</td></tr>\n",
       "\t<tr><td>ca_ne_586_001_400_000_JAMIESON_SR_human-ensembl-grch38-r91</td><td>5/5/19</td><td>cell05id90HSC        </td><td>90 HSC        </td><td>22390</td><td>10.0</td><td>PedAML</td><td>Pediatric</td><td>AML </td><td>Stem</td><td>34+38-</td><td>BM</td><td>Completed</td><td>72625632</td></tr>\n",
       "\t<tr><td>ca_ne_586_001_400_000_JAMIESON_SR_human-ensembl-grch38-r91</td><td>5/5/19</td><td>06id90cellPROGENITORS</td><td>90 Progenitors</td><td>22390</td><td>10.0</td><td>PedAML</td><td>Pediatric</td><td>AML </td><td>Prog</td><td>34+38+</td><td>BM</td><td>Completed</td><td>81721991</td></tr>\n",
       "\t<tr><td>ca_ne_586_001_400_000_JAMIESON_SR_human-ensembl-grch38-r91</td><td>5/5/19</td><td>03id78cellHSC        </td><td>78 HSC        </td><td>28678</td><td>10.0</td><td>PedAML</td><td>Pediatric</td><td>AML </td><td>Stem</td><td>34+38-</td><td>PB</td><td>Completed</td><td>68483294</td></tr>\n",
       "\t<tr><td>ca_ne_586_001_400_000_JAMIESON_SR_human-ensembl-grch38-r91</td><td>5/5/19</td><td>04id78cellPROGENITORS</td><td>78 Progenitors</td><td>28678</td><td>10.0</td><td>PedAML</td><td>Pediatric</td><td>AML </td><td>Prog</td><td>34+38+</td><td>PB</td><td>Completed</td><td>88894032</td></tr>\n",
       "</tbody>\n",
       "</table>\n"
      ],
      "text/latex": [
       "A data.frame: 6 × 14\n",
       "\\begin{tabular}{r|llllllllllllll}\n",
       " SequenceRun & SequenceDate & Sample & SampleName & Patient.ID & RIN & X & Adult.Pediatric & Disease & Cell.type & Sorted.Cell.Type & Tissue.Source & RNA.seq.status & Reads\\\\\n",
       " <chr> & <chr> & <chr> & <chr> & <int> & <dbl> & <chr> & <chr> & <chr> & <chr> & <chr> & <chr> & <chr> & <int>\\\\\n",
       "\\hline\n",
       "\t ca\\_ne\\_586\\_001\\_400\\_000\\_JAMIESON\\_SR\\_human-ensembl-grch38-r91 & 5/5/19 & 01id38cellHSC         & 38 HSC         & 32538 & 10.0 & PedAML & Pediatric & AML  & Stem & 34+38- & PB & Completed & 81234305\\\\\n",
       "\t ca\\_ne\\_586\\_001\\_400\\_000\\_JAMIESON\\_SR\\_human-ensembl-grch38-r91 & 5/5/19 & 02id38cellPROGENITORS & 38 Progenitors & 32538 &  9.7 & PedAML & Pediatric & AML  & Prog & 34+38+ & PB & Completed & 73196851\\\\\n",
       "\t ca\\_ne\\_586\\_001\\_400\\_000\\_JAMIESON\\_SR\\_human-ensembl-grch38-r91 & 5/5/19 & cell05id90HSC         & 90 HSC         & 22390 & 10.0 & PedAML & Pediatric & AML  & Stem & 34+38- & BM & Completed & 72625632\\\\\n",
       "\t ca\\_ne\\_586\\_001\\_400\\_000\\_JAMIESON\\_SR\\_human-ensembl-grch38-r91 & 5/5/19 & 06id90cellPROGENITORS & 90 Progenitors & 22390 & 10.0 & PedAML & Pediatric & AML  & Prog & 34+38+ & BM & Completed & 81721991\\\\\n",
       "\t ca\\_ne\\_586\\_001\\_400\\_000\\_JAMIESON\\_SR\\_human-ensembl-grch38-r91 & 5/5/19 & 03id78cellHSC         & 78 HSC         & 28678 & 10.0 & PedAML & Pediatric & AML  & Stem & 34+38- & PB & Completed & 68483294\\\\\n",
       "\t ca\\_ne\\_586\\_001\\_400\\_000\\_JAMIESON\\_SR\\_human-ensembl-grch38-r91 & 5/5/19 & 04id78cellPROGENITORS & 78 Progenitors & 28678 & 10.0 & PedAML & Pediatric & AML  & Prog & 34+38+ & PB & Completed & 88894032\\\\\n",
       "\\end{tabular}\n"
      ],
      "text/markdown": [
       "\n",
       "A data.frame: 6 × 14\n",
       "\n",
       "| SequenceRun &lt;chr&gt; | SequenceDate &lt;chr&gt; | Sample &lt;chr&gt; | SampleName &lt;chr&gt; | Patient.ID &lt;int&gt; | RIN &lt;dbl&gt; | X &lt;chr&gt; | Adult.Pediatric &lt;chr&gt; | Disease &lt;chr&gt; | Cell.type &lt;chr&gt; | Sorted.Cell.Type &lt;chr&gt; | Tissue.Source &lt;chr&gt; | RNA.seq.status &lt;chr&gt; | Reads &lt;int&gt; |\n",
       "|---|---|---|---|---|---|---|---|---|---|---|---|---|---|\n",
       "| ca_ne_586_001_400_000_JAMIESON_SR_human-ensembl-grch38-r91 | 5/5/19 | 01id38cellHSC         | 38 HSC         | 32538 | 10.0 | PedAML | Pediatric | AML  | Stem | 34+38- | PB | Completed | 81234305 |\n",
       "| ca_ne_586_001_400_000_JAMIESON_SR_human-ensembl-grch38-r91 | 5/5/19 | 02id38cellPROGENITORS | 38 Progenitors | 32538 |  9.7 | PedAML | Pediatric | AML  | Prog | 34+38+ | PB | Completed | 73196851 |\n",
       "| ca_ne_586_001_400_000_JAMIESON_SR_human-ensembl-grch38-r91 | 5/5/19 | cell05id90HSC         | 90 HSC         | 22390 | 10.0 | PedAML | Pediatric | AML  | Stem | 34+38- | BM | Completed | 72625632 |\n",
       "| ca_ne_586_001_400_000_JAMIESON_SR_human-ensembl-grch38-r91 | 5/5/19 | 06id90cellPROGENITORS | 90 Progenitors | 22390 | 10.0 | PedAML | Pediatric | AML  | Prog | 34+38+ | BM | Completed | 81721991 |\n",
       "| ca_ne_586_001_400_000_JAMIESON_SR_human-ensembl-grch38-r91 | 5/5/19 | 03id78cellHSC         | 78 HSC         | 28678 | 10.0 | PedAML | Pediatric | AML  | Stem | 34+38- | PB | Completed | 68483294 |\n",
       "| ca_ne_586_001_400_000_JAMIESON_SR_human-ensembl-grch38-r91 | 5/5/19 | 04id78cellPROGENITORS | 78 Progenitors | 28678 | 10.0 | PedAML | Pediatric | AML  | Prog | 34+38+ | PB | Completed | 88894032 |\n",
       "\n"
      ],
      "text/plain": [
       "  SequenceRun                                                SequenceDate\n",
       "1 ca_ne_586_001_400_000_JAMIESON_SR_human-ensembl-grch38-r91 5/5/19      \n",
       "2 ca_ne_586_001_400_000_JAMIESON_SR_human-ensembl-grch38-r91 5/5/19      \n",
       "3 ca_ne_586_001_400_000_JAMIESON_SR_human-ensembl-grch38-r91 5/5/19      \n",
       "4 ca_ne_586_001_400_000_JAMIESON_SR_human-ensembl-grch38-r91 5/5/19      \n",
       "5 ca_ne_586_001_400_000_JAMIESON_SR_human-ensembl-grch38-r91 5/5/19      \n",
       "6 ca_ne_586_001_400_000_JAMIESON_SR_human-ensembl-grch38-r91 5/5/19      \n",
       "  Sample                SampleName     Patient.ID RIN  X      Adult.Pediatric\n",
       "1 01id38cellHSC         38 HSC         32538      10.0 PedAML Pediatric      \n",
       "2 02id38cellPROGENITORS 38 Progenitors 32538       9.7 PedAML Pediatric      \n",
       "3 cell05id90HSC         90 HSC         22390      10.0 PedAML Pediatric      \n",
       "4 06id90cellPROGENITORS 90 Progenitors 22390      10.0 PedAML Pediatric      \n",
       "5 03id78cellHSC         78 HSC         28678      10.0 PedAML Pediatric      \n",
       "6 04id78cellPROGENITORS 78 Progenitors 28678      10.0 PedAML Pediatric      \n",
       "  Disease Cell.type Sorted.Cell.Type Tissue.Source RNA.seq.status Reads   \n",
       "1 AML     Stem      34+38-           PB            Completed      81234305\n",
       "2 AML     Prog      34+38+           PB            Completed      73196851\n",
       "3 AML     Stem      34+38-           BM            Completed      72625632\n",
       "4 AML     Prog      34+38+           BM            Completed      81721991\n",
       "5 AML     Stem      34+38-           PB            Completed      68483294\n",
       "6 AML     Prog      34+38+           PB            Completed      88894032"
      ]
     },
     "metadata": {},
     "output_type": "display_data"
    },
    {
     "data": {
      "text/plain": [
       "\n",
       "AdultAML   PedAML    PedNL \n",
       "       9       18        9 "
      ]
     },
     "metadata": {},
     "output_type": "display_data"
    }
   ],
   "source": [
    "colnames(gUnorderedGeneCountsDf) <- gsub(\"^X|\", \"\", gsub(\"px\", \"x\", colnames(gUnorderedGeneCountsDf)))\n",
    "head(gMetadataDf)\n",
    "table(gMetadataDf$X)"
   ]
  },
  {
   "cell_type": "code",
   "execution_count": 127,
   "metadata": {},
   "outputs": [],
   "source": [
    "gSampleNames = gMetadataDf[[\"Sample\"]]"
   ]
  },
  {
   "cell_type": "markdown",
   "metadata": {},
   "source": [
    "Check the dimensions of the count data and the metadata to ensure that the count dataframe has the same number of columns (samples) as the metadata dataframe has rows (again, samples), and that the sample names are the same in both: "
   ]
  },
  {
   "cell_type": "code",
   "execution_count": 128,
   "metadata": {},
   "outputs": [
    {
     "data": {
      "text/html": [
       "<ol class=list-inline>\n",
       "\t<li>57820</li>\n",
       "\t<li>36</li>\n",
       "</ol>\n"
      ],
      "text/latex": [
       "\\begin{enumerate*}\n",
       "\\item 57820\n",
       "\\item 36\n",
       "\\end{enumerate*}\n"
      ],
      "text/markdown": [
       "1. 57820\n",
       "2. 36\n",
       "\n",
       "\n"
      ],
      "text/plain": [
       "[1] 57820    36"
      ]
     },
     "metadata": {},
     "output_type": "display_data"
    },
    {
     "data": {
      "text/html": [
       "<ol class=list-inline>\n",
       "\t<li>36</li>\n",
       "\t<li>14</li>\n",
       "</ol>\n"
      ],
      "text/latex": [
       "\\begin{enumerate*}\n",
       "\\item 36\n",
       "\\item 14\n",
       "\\end{enumerate*}\n"
      ],
      "text/markdown": [
       "1. 36\n",
       "2. 14\n",
       "\n",
       "\n"
      ],
      "text/plain": [
       "[1] 36 14"
      ]
     },
     "metadata": {},
     "output_type": "display_data"
    },
    {
     "data": {
      "text/html": [
       "TRUE"
      ],
      "text/latex": [
       "TRUE"
      ],
      "text/markdown": [
       "TRUE"
      ],
      "text/plain": [
       "[1] TRUE"
      ]
     },
     "metadata": {},
     "output_type": "display_data"
    }
   ],
   "source": [
    "dim(gUnorderedGeneCountsDf)\n",
    "dim(gMetadataDf)\n",
    "\n",
    "all(colnames(gUnorderedGeneCountsDf) %in% gSampleNames)"
   ]
  },
  {
   "cell_type": "markdown",
   "metadata": {},
   "source": [
    "Assume that the order of the samples shown in the metadata is the desired order, and reorder the columns in the counts table to match it:"
   ]
  },
  {
   "cell_type": "code",
   "execution_count": 129,
   "metadata": {},
   "outputs": [
    {
     "data": {
      "text/html": [
       "<table>\n",
       "<caption>A data.frame: 6 × 36</caption>\n",
       "<thead>\n",
       "\t<tr><th></th><th scope=col>01id38cellHSC</th><th scope=col>02id38cellPROGENITORS</th><th scope=col>cell05id90HSC</th><th scope=col>06id90cellPROGENITORS</th><th scope=col>03id78cellHSC</th><th scope=col>04id78cellPROGENITORS</th><th scope=col>05id00066HSC</th><th scope=col>06id00066PRO</th><th scope=col>04id11474HSC</th><th scope=col>03id11474HPC</th><th scope=col>⋯</th><th scope=col>15x12584xPLUSPLUS</th><th scope=col>16x12451xPLUSMINS</th><th scope=col>17x12451xPLUSPLUS</th><th scope=col>18x10720xPLUSPLUS</th><th scope=col>01pid24760ctHSC</th><th scope=col>02pid24760ctHPC</th><th scope=col>03pid24474ctHSC</th><th scope=col>04pid24474ctHPC</th><th scope=col>05pid25376ctHSC</th><th scope=col>06pid25376ctHPC</th></tr>\n",
       "\t<tr><th></th><th scope=col>&lt;dbl&gt;</th><th scope=col>&lt;dbl&gt;</th><th scope=col>&lt;dbl&gt;</th><th scope=col>&lt;dbl&gt;</th><th scope=col>&lt;dbl&gt;</th><th scope=col>&lt;dbl&gt;</th><th scope=col>&lt;dbl&gt;</th><th scope=col>&lt;dbl&gt;</th><th scope=col>&lt;dbl&gt;</th><th scope=col>&lt;dbl&gt;</th><th scope=col>⋯</th><th scope=col>&lt;dbl&gt;</th><th scope=col>&lt;dbl&gt;</th><th scope=col>&lt;dbl&gt;</th><th scope=col>&lt;dbl&gt;</th><th scope=col>&lt;dbl&gt;</th><th scope=col>&lt;dbl&gt;</th><th scope=col>&lt;dbl&gt;</th><th scope=col>&lt;dbl&gt;</th><th scope=col>&lt;dbl&gt;</th><th scope=col>&lt;dbl&gt;</th></tr>\n",
       "</thead>\n",
       "<tbody>\n",
       "\t<tr><th scope=row>ENSG00000000003.10</th><td>   0.00</td><td>   0.00</td><td>   0.00</td><td>   0.00</td><td>   1.00</td><td>   0.00</td><td>  0.00</td><td>   0.00</td><td>   0.00</td><td>   0.00</td><td>⋯</td><td>  15.00</td><td>   0.00</td><td>   0.00</td><td>  21.00</td><td>  70.00</td><td>  35.00</td><td>   4.00</td><td> 116.00</td><td> 98</td><td>  47.00</td></tr>\n",
       "\t<tr><th scope=row>ENSG00000000005.5</th><td>   0.00</td><td>   0.00</td><td>   0.00</td><td>   0.00</td><td>   0.00</td><td>   0.00</td><td>  0.00</td><td>   0.00</td><td>   0.00</td><td>   0.00</td><td>⋯</td><td>   0.00</td><td>   0.00</td><td>   0.00</td><td>   0.00</td><td>   0.00</td><td>   0.00</td><td>   0.00</td><td>   0.00</td><td>  0</td><td>   0.00</td></tr>\n",
       "\t<tr><th scope=row>ENSG00000000419.8</th><td>2227.00</td><td>2200.00</td><td>1705.00</td><td>2351.00</td><td>1872.00</td><td>1805.00</td><td>818.00</td><td>1745.00</td><td>1923.00</td><td>2125.00</td><td>⋯</td><td>1652.00</td><td>1082.00</td><td>2146.00</td><td>3122.00</td><td>1498.00</td><td>2724.00</td><td>1982.00</td><td>3125.00</td><td>476</td><td>3411.00</td></tr>\n",
       "\t<tr><th scope=row>ENSG00000000457.9</th><td> 580.36</td><td> 347.01</td><td> 322.03</td><td> 143.54</td><td>  96.22</td><td> 277.31</td><td>488.89</td><td> 840.19</td><td> 529.39</td><td> 424.19</td><td>⋯</td><td> 158.72</td><td> 178.19</td><td>1295.05</td><td>1056.94</td><td>2048.79</td><td>1238.85</td><td> 128.74</td><td> 158.04</td><td>  0</td><td> 656.66</td></tr>\n",
       "\t<tr><th scope=row>ENSG00000000460.12</th><td>1137.64</td><td> 651.99</td><td>1042.97</td><td> 456.46</td><td> 297.78</td><td> 924.69</td><td>271.11</td><td> 903.81</td><td> 543.61</td><td> 596.81</td><td>⋯</td><td> 365.28</td><td> 121.81</td><td> 178.95</td><td>2008.06</td><td> 878.21</td><td>1699.15</td><td> 218.26</td><td> 768.96</td><td>191</td><td>2071.34</td></tr>\n",
       "\t<tr><th scope=row>ENSG00000000938.8</th><td> 204.00</td><td> 444.00</td><td>  18.00</td><td> 238.00</td><td> 199.00</td><td> 188.00</td><td> 91.00</td><td> 263.00</td><td> 357.00</td><td> 659.00</td><td>⋯</td><td> 129.00</td><td> 133.00</td><td> 279.00</td><td> 272.00</td><td> 222.00</td><td> 293.00</td><td>   9.00</td><td>  50.00</td><td>  0</td><td> 155.00</td></tr>\n",
       "</tbody>\n",
       "</table>\n"
      ],
      "text/latex": [
       "A data.frame: 6 × 36\n",
       "\\begin{tabular}{r|llllllllllllllllllllllllllllllllllll}\n",
       "  & 01id38cellHSC & 02id38cellPROGENITORS & cell05id90HSC & 06id90cellPROGENITORS & 03id78cellHSC & 04id78cellPROGENITORS & 05id00066HSC & 06id00066PRO & 04id11474HSC & 03id11474HPC & 02id11251HSC & 01id11251HPC & 01x00077xPROGENIT & 02x11379xHSCxxxxx & 03x11379xHPCxxxxx & 04x00068xPLUSMINS & 05x00047xPLUSPLUS & 06x00077xPLUSPLUS & 07x00023xPLUSPLUS & 08x00020xPLUSMINS & 09x00020xPLUSPLUS & 10x00082xPLUSMINS & 11x00082xPLUSPLUS & 12x12484xPLUSMINS & 13x12488xPLUSMINS & 14x12488xPLUSPLUS & 15x12584xPLUSPLUS & 16x12451xPLUSMINS & 17x12451xPLUSPLUS & 18x10720xPLUSPLUS & 01pid24760ctHSC & 02pid24760ctHPC & 03pid24474ctHSC & 04pid24474ctHPC & 05pid25376ctHSC & 06pid25376ctHPC\\\\\n",
       "  & <dbl> & <dbl> & <dbl> & <dbl> & <dbl> & <dbl> & <dbl> & <dbl> & <dbl> & <dbl> & <dbl> & <dbl> & <dbl> & <dbl> & <dbl> & <dbl> & <dbl> & <dbl> & <dbl> & <dbl> & <dbl> & <dbl> & <dbl> & <dbl> & <dbl> & <dbl> & <dbl> & <dbl> & <dbl> & <dbl> & <dbl> & <dbl> & <dbl> & <dbl> & <dbl> & <dbl>\\\\\n",
       "\\hline\n",
       "\tENSG00000000003.10 &    0.00 &    0.00 &    0.00 &    0.00 &    1.00 &    0.00 &   0.00 &    0.00 &    0.00 &    0.00 &    3.0 &    0.00 &    0.00 &    0.00 &    0.00 &   0.00 &   18.00 &   49.00 &    0.0 &  602.00 &    0.00 &   57 &    0.00 &  307.0 &   54.00 &   10.00 &   15.00 &    0.00 &    0.00 &   21.00 &   70.00 &   35.00 &    4.00 &  116.00 &  98 &   47.00\\\\\n",
       "\tENSG00000000005.5 &    0.00 &    0.00 &    0.00 &    0.00 &    0.00 &    0.00 &   0.00 &    0.00 &    0.00 &    0.00 &    0.0 &    0.00 &    0.00 &    0.00 &    0.00 &   0.00 &    0.00 &    0.00 &    0.0 &    0.00 &    0.00 &    0 &    0.00 &    0.0 &    0.00 &    0.00 &    0.00 &    0.00 &    0.00 &    0.00 &    0.00 &    0.00 &    0.00 &    0.00 &   0 &    0.00\\\\\n",
       "\tENSG00000000419.8 & 2227.00 & 2200.00 & 1705.00 & 2351.00 & 1872.00 & 1805.00 & 818.00 & 1745.00 & 1923.00 & 2125.00 & 1759.0 & 1777.00 & 1225.00 & 2213.00 & 2308.00 & 910.00 & 2350.00 & 4884.00 & 1039.0 & 2569.00 & 1646.00 & 1308 & 2294.00 & 3837.0 & 1712.00 & 3579.00 & 1652.00 & 1082.00 & 2146.00 & 3122.00 & 1498.00 & 2724.00 & 1982.00 & 3125.00 & 476 & 3411.00\\\\\n",
       "\tENSG00000000457.9 &  580.36 &  347.01 &  322.03 &  143.54 &   96.22 &  277.31 & 488.89 &  840.19 &  529.39 &  424.19 &  160.2 &   20.94 &  351.54 &  844.14 &  833.81 & 145.25 &  354.12 & 1435.02 &  320.4 &  374.05 &  513.23 &  178 &  102.96 &  737.5 &  151.32 &  456.88 &  158.72 &  178.19 & 1295.05 & 1056.94 & 2048.79 & 1238.85 &  128.74 &  158.04 &   0 &  656.66\\\\\n",
       "\tENSG00000000460.12 & 1137.64 &  651.99 & 1042.97 &  456.46 &  297.78 &  924.69 & 271.11 &  903.81 &  543.61 &  596.81 &  352.8 &  292.06 &  730.46 &  626.86 & 1320.19 & 281.75 & 1377.88 & 2543.98 &  374.6 &   41.95 &  199.77 &    0 &  116.04 &  323.5 &  378.68 & 1413.12 &  365.28 &  121.81 &  178.95 & 2008.06 &  878.21 & 1699.15 &  218.26 &  768.96 & 191 & 2071.34\\\\\n",
       "\tENSG00000000938.8 &  204.00 &  444.00 &   18.00 &  238.00 &  199.00 &  188.00 &  91.00 &  263.00 &  357.00 &  659.00 &   70.0 &  286.00 &   43.00 &  169.00 &  443.00 & 114.00 &  466.00 &  436.00 &  169.0 &    0.00 &  238.00 &    0 &   13.00 &  467.0 &  230.00 &  181.00 &  129.00 &  133.00 &  279.00 &  272.00 &  222.00 &  293.00 &    9.00 &   50.00 &   0 &  155.00\\\\\n",
       "\\end{tabular}\n"
      ],
      "text/markdown": [
       "\n",
       "A data.frame: 6 × 36\n",
       "\n",
       "| <!--/--> | 01id38cellHSC &lt;dbl&gt; | 02id38cellPROGENITORS &lt;dbl&gt; | cell05id90HSC &lt;dbl&gt; | 06id90cellPROGENITORS &lt;dbl&gt; | 03id78cellHSC &lt;dbl&gt; | 04id78cellPROGENITORS &lt;dbl&gt; | 05id00066HSC &lt;dbl&gt; | 06id00066PRO &lt;dbl&gt; | 04id11474HSC &lt;dbl&gt; | 03id11474HPC &lt;dbl&gt; | ⋯ ⋯ | 15x12584xPLUSPLUS &lt;dbl&gt; | 16x12451xPLUSMINS &lt;dbl&gt; | 17x12451xPLUSPLUS &lt;dbl&gt; | 18x10720xPLUSPLUS &lt;dbl&gt; | 01pid24760ctHSC &lt;dbl&gt; | 02pid24760ctHPC &lt;dbl&gt; | 03pid24474ctHSC &lt;dbl&gt; | 04pid24474ctHPC &lt;dbl&gt; | 05pid25376ctHSC &lt;dbl&gt; | 06pid25376ctHPC &lt;dbl&gt; |\n",
       "|---|---|---|---|---|---|---|---|---|---|---|---|---|---|---|---|---|---|---|---|---|---|\n",
       "| ENSG00000000003.10 |    0.00 |    0.00 |    0.00 |    0.00 |    1.00 |    0.00 |   0.00 |    0.00 |    0.00 |    0.00 | ⋯ |   15.00 |    0.00 |    0.00 |   21.00 |   70.00 |   35.00 |    4.00 |  116.00 |  98 |   47.00 |\n",
       "| ENSG00000000005.5 |    0.00 |    0.00 |    0.00 |    0.00 |    0.00 |    0.00 |   0.00 |    0.00 |    0.00 |    0.00 | ⋯ |    0.00 |    0.00 |    0.00 |    0.00 |    0.00 |    0.00 |    0.00 |    0.00 |   0 |    0.00 |\n",
       "| ENSG00000000419.8 | 2227.00 | 2200.00 | 1705.00 | 2351.00 | 1872.00 | 1805.00 | 818.00 | 1745.00 | 1923.00 | 2125.00 | ⋯ | 1652.00 | 1082.00 | 2146.00 | 3122.00 | 1498.00 | 2724.00 | 1982.00 | 3125.00 | 476 | 3411.00 |\n",
       "| ENSG00000000457.9 |  580.36 |  347.01 |  322.03 |  143.54 |   96.22 |  277.31 | 488.89 |  840.19 |  529.39 |  424.19 | ⋯ |  158.72 |  178.19 | 1295.05 | 1056.94 | 2048.79 | 1238.85 |  128.74 |  158.04 |   0 |  656.66 |\n",
       "| ENSG00000000460.12 | 1137.64 |  651.99 | 1042.97 |  456.46 |  297.78 |  924.69 | 271.11 |  903.81 |  543.61 |  596.81 | ⋯ |  365.28 |  121.81 |  178.95 | 2008.06 |  878.21 | 1699.15 |  218.26 |  768.96 | 191 | 2071.34 |\n",
       "| ENSG00000000938.8 |  204.00 |  444.00 |   18.00 |  238.00 |  199.00 |  188.00 |  91.00 |  263.00 |  357.00 |  659.00 | ⋯ |  129.00 |  133.00 |  279.00 |  272.00 |  222.00 |  293.00 |    9.00 |   50.00 |   0 |  155.00 |\n",
       "\n"
      ],
      "text/plain": [
       "                   01id38cellHSC 02id38cellPROGENITORS cell05id90HSC\n",
       "ENSG00000000003.10    0.00          0.00                  0.00      \n",
       "ENSG00000000005.5     0.00          0.00                  0.00      \n",
       "ENSG00000000419.8  2227.00       2200.00               1705.00      \n",
       "ENSG00000000457.9   580.36        347.01                322.03      \n",
       "ENSG00000000460.12 1137.64        651.99               1042.97      \n",
       "ENSG00000000938.8   204.00        444.00                 18.00      \n",
       "                   06id90cellPROGENITORS 03id78cellHSC 04id78cellPROGENITORS\n",
       "ENSG00000000003.10    0.00                  1.00          0.00              \n",
       "ENSG00000000005.5     0.00                  0.00          0.00              \n",
       "ENSG00000000419.8  2351.00               1872.00       1805.00              \n",
       "ENSG00000000457.9   143.54                 96.22        277.31              \n",
       "ENSG00000000460.12  456.46                297.78        924.69              \n",
       "ENSG00000000938.8   238.00                199.00        188.00              \n",
       "                   05id00066HSC 06id00066PRO 04id11474HSC 03id11474HPC ⋯\n",
       "ENSG00000000003.10   0.00          0.00         0.00         0.00      ⋯\n",
       "ENSG00000000005.5    0.00          0.00         0.00         0.00      ⋯\n",
       "ENSG00000000419.8  818.00       1745.00      1923.00      2125.00      ⋯\n",
       "ENSG00000000457.9  488.89        840.19       529.39       424.19      ⋯\n",
       "ENSG00000000460.12 271.11        903.81       543.61       596.81      ⋯\n",
       "ENSG00000000938.8   91.00        263.00       357.00       659.00      ⋯\n",
       "                   15x12584xPLUSPLUS 16x12451xPLUSMINS 17x12451xPLUSPLUS\n",
       "ENSG00000000003.10   15.00              0.00              0.00          \n",
       "ENSG00000000005.5     0.00              0.00              0.00          \n",
       "ENSG00000000419.8  1652.00           1082.00           2146.00          \n",
       "ENSG00000000457.9   158.72            178.19           1295.05          \n",
       "ENSG00000000460.12  365.28            121.81            178.95          \n",
       "ENSG00000000938.8   129.00            133.00            279.00          \n",
       "                   18x10720xPLUSPLUS 01pid24760ctHSC 02pid24760ctHPC\n",
       "ENSG00000000003.10   21.00             70.00           35.00        \n",
       "ENSG00000000005.5     0.00              0.00            0.00        \n",
       "ENSG00000000419.8  3122.00           1498.00         2724.00        \n",
       "ENSG00000000457.9  1056.94           2048.79         1238.85        \n",
       "ENSG00000000460.12 2008.06            878.21         1699.15        \n",
       "ENSG00000000938.8   272.00            222.00          293.00        \n",
       "                   03pid24474ctHSC 04pid24474ctHPC 05pid25376ctHSC\n",
       "ENSG00000000003.10    4.00          116.00          98            \n",
       "ENSG00000000005.5     0.00            0.00           0            \n",
       "ENSG00000000419.8  1982.00         3125.00         476            \n",
       "ENSG00000000457.9   128.74          158.04           0            \n",
       "ENSG00000000460.12  218.26          768.96         191            \n",
       "ENSG00000000938.8     9.00           50.00           0            \n",
       "                   06pid25376ctHPC\n",
       "ENSG00000000003.10   47.00        \n",
       "ENSG00000000005.5     0.00        \n",
       "ENSG00000000419.8  3411.00        \n",
       "ENSG00000000457.9   656.66        \n",
       "ENSG00000000460.12 2071.34        \n",
       "ENSG00000000938.8   155.00        "
      ]
     },
     "metadata": {},
     "output_type": "display_data"
    }
   ],
   "source": [
    "gGeneCountsDf = gUnorderedGeneCountsDf[gSampleNames]\n",
    "head(gGeneCountsDf)"
   ]
  },
  {
   "cell_type": "markdown",
   "metadata": {},
   "source": [
    "If the count file gene identifiers do NOT include version numbers (e.g., the \".4\" part in a gene identifier like \"ENSG00000268020.4\"), then it is necessary to truncate the version information from the public annotation data to be used below in order to match the annotation data gene identifiers to the count file gene identifiers.  Set the flag for version removal accordingly:"
   ]
  },
  {
   "cell_type": "code",
   "execution_count": 130,
   "metadata": {},
   "outputs": [],
   "source": [
    "gRemoveVersion <- FALSE\n",
    "#gRemoveVersion <- TRUE"
   ]
  },
  {
   "cell_type": "code",
   "execution_count": 131,
   "metadata": {},
   "outputs": [
    {
     "data": {
      "text/html": [
       "<table>\n",
       "<caption>A data.frame: 6 × 3</caption>\n",
       "<thead>\n",
       "\t<tr><th scope=col>gene_type</th><th scope=col>gene_id</th><th scope=col>transcript_id</th></tr>\n",
       "\t<tr><th scope=col>&lt;chr&gt;</th><th scope=col>&lt;chr&gt;</th><th scope=col>&lt;chr&gt;</th></tr>\n",
       "</thead>\n",
       "<tbody>\n",
       "\t<tr><td>transcribed_unprocessed_pseudogene</td><td>ENSG00000223972.5</td><td>ENST00000456328.2</td></tr>\n",
       "\t<tr><td>transcribed_unprocessed_pseudogene</td><td>ENSG00000223972.5</td><td>ENST00000450305.2</td></tr>\n",
       "\t<tr><td>unprocessed_pseudogene            </td><td>ENSG00000227232.5</td><td>ENST00000488147.1</td></tr>\n",
       "\t<tr><td>miRNA                             </td><td>ENSG00000278267.1</td><td>ENST00000619216.1</td></tr>\n",
       "\t<tr><td>lincRNA                           </td><td>ENSG00000243485.5</td><td>ENST00000473358.1</td></tr>\n",
       "\t<tr><td>lincRNA                           </td><td>ENSG00000243485.5</td><td>ENST00000469289.1</td></tr>\n",
       "</tbody>\n",
       "</table>\n"
      ],
      "text/latex": [
       "A data.frame: 6 × 3\n",
       "\\begin{tabular}{r|lll}\n",
       " gene\\_type & gene\\_id & transcript\\_id\\\\\n",
       " <chr> & <chr> & <chr>\\\\\n",
       "\\hline\n",
       "\t transcribed\\_unprocessed\\_pseudogene & ENSG00000223972.5 & ENST00000456328.2\\\\\n",
       "\t transcribed\\_unprocessed\\_pseudogene & ENSG00000223972.5 & ENST00000450305.2\\\\\n",
       "\t unprocessed\\_pseudogene             & ENSG00000227232.5 & ENST00000488147.1\\\\\n",
       "\t miRNA                              & ENSG00000278267.1 & ENST00000619216.1\\\\\n",
       "\t lincRNA                            & ENSG00000243485.5 & ENST00000473358.1\\\\\n",
       "\t lincRNA                            & ENSG00000243485.5 & ENST00000469289.1\\\\\n",
       "\\end{tabular}\n"
      ],
      "text/markdown": [
       "\n",
       "A data.frame: 6 × 3\n",
       "\n",
       "| gene_type &lt;chr&gt; | gene_id &lt;chr&gt; | transcript_id &lt;chr&gt; |\n",
       "|---|---|---|\n",
       "| transcribed_unprocessed_pseudogene | ENSG00000223972.5 | ENST00000456328.2 |\n",
       "| transcribed_unprocessed_pseudogene | ENSG00000223972.5 | ENST00000450305.2 |\n",
       "| unprocessed_pseudogene             | ENSG00000227232.5 | ENST00000488147.1 |\n",
       "| miRNA                              | ENSG00000278267.1 | ENST00000619216.1 |\n",
       "| lincRNA                            | ENSG00000243485.5 | ENST00000473358.1 |\n",
       "| lincRNA                            | ENSG00000243485.5 | ENST00000469289.1 |\n",
       "\n"
      ],
      "text/plain": [
       "  gene_type                          gene_id           transcript_id    \n",
       "1 transcribed_unprocessed_pseudogene ENSG00000223972.5 ENST00000456328.2\n",
       "2 transcribed_unprocessed_pseudogene ENSG00000223972.5 ENST00000450305.2\n",
       "3 unprocessed_pseudogene             ENSG00000227232.5 ENST00000488147.1\n",
       "4 miRNA                              ENSG00000278267.1 ENST00000619216.1\n",
       "5 lincRNA                            ENSG00000243485.5 ENST00000473358.1\n",
       "6 lincRNA                            ENSG00000243485.5 ENST00000469289.1"
      ]
     },
     "metadata": {},
     "output_type": "display_data"
    }
   ],
   "source": [
    "\n",
    "if (!is.null(gAnnotationsRdataFilename)) {\n",
    "    gAnnotationsRdataFp = file.path(gReferenceDir, gAnnotationsRdataFilename)  \n",
    "    \n",
    "    # Import the R data object containing gene annotations and load its dataframe into a variable:\n",
    "    gAnnotationEnv = loadToEnvironment(gAnnotationsRdataFp)\n",
    "    gGeneTypeAnnotationsDf = gAnnotationEnv$ANNOT\n",
    "    \n",
    "    head(gGeneTypeAnnotationsDf)\n",
    "} else {\n",
    "    print(\"No annotations provided.\")\n",
    "}"
   ]
  },
  {
   "cell_type": "markdown",
   "metadata": {},
   "source": [
    "[Table of Contents](#Table-of-Contents)\n",
    "\n",
    "## Gene Separation By Coding Status"
   ]
  },
  {
   "cell_type": "markdown",
   "metadata": {},
   "source": [
    "Gene annotations are records of each gene's identifier and symbol, where the gene begins and ends on the genome sequence, and whether it is anticipated to be a coding gene or not.  There are multiple sources of gene annotations."
   ]
  },
  {
   "cell_type": "markdown",
   "metadata": {},
   "source": [
    "   > Here we use the human gene annotations from the Gencode project, Release 19 (GRCh37.p13).\n"
   ]
  },
  {
   "cell_type": "code",
   "execution_count": 132,
   "metadata": {},
   "outputs": [
    {
     "data": {
      "text/html": [
       "<table>\n",
       "<caption>A data.frame: 6 × 4</caption>\n",
       "<thead>\n",
       "\t<tr><th scope=col>gene_id</th><th scope=col>ens_id.gene_id</th><th scope=col>ens_id.ensembl_id</th><th scope=col>SYM</th></tr>\n",
       "\t<tr><th scope=col>&lt;fct&gt;</th><th scope=col>&lt;chr&gt;</th><th scope=col>&lt;chr&gt;</th><th scope=col>&lt;fct&gt;</th></tr>\n",
       "</thead>\n",
       "<tbody>\n",
       "\t<tr><td>1 </td><td>1 </td><td>ENSG00000121410</td><td>A1BG    </td></tr>\n",
       "\t<tr><td>2 </td><td>2 </td><td>ENSG00000175899</td><td>A2M     </td></tr>\n",
       "\t<tr><td>3 </td><td>3 </td><td>ENSG00000256069</td><td>A2MP1   </td></tr>\n",
       "\t<tr><td>9 </td><td>9 </td><td>ENSG00000171428</td><td>NAT1    </td></tr>\n",
       "\t<tr><td>10</td><td>10</td><td>ENSG00000156006</td><td>NAT2    </td></tr>\n",
       "\t<tr><td>12</td><td>12</td><td>ENSG00000196136</td><td>SERPINA3</td></tr>\n",
       "</tbody>\n",
       "</table>\n"
      ],
      "text/latex": [
       "A data.frame: 6 × 4\n",
       "\\begin{tabular}{r|llll}\n",
       " gene\\_id & ens\\_id.gene\\_id & ens\\_id.ensembl\\_id & SYM\\\\\n",
       " <fct> & <chr> & <chr> & <fct>\\\\\n",
       "\\hline\n",
       "\t 1  & 1  & ENSG00000121410 & A1BG    \\\\\n",
       "\t 2  & 2  & ENSG00000175899 & A2M     \\\\\n",
       "\t 3  & 3  & ENSG00000256069 & A2MP1   \\\\\n",
       "\t 9  & 9  & ENSG00000171428 & NAT1    \\\\\n",
       "\t 10 & 10 & ENSG00000156006 & NAT2    \\\\\n",
       "\t 12 & 12 & ENSG00000196136 & SERPINA3\\\\\n",
       "\\end{tabular}\n"
      ],
      "text/markdown": [
       "\n",
       "A data.frame: 6 × 4\n",
       "\n",
       "| gene_id &lt;fct&gt; | ens_id.gene_id &lt;chr&gt; | ens_id.ensembl_id &lt;chr&gt; | SYM &lt;fct&gt; |\n",
       "|---|---|---|---|\n",
       "| 1  | 1  | ENSG00000121410 | A1BG     |\n",
       "| 2  | 2  | ENSG00000175899 | A2M      |\n",
       "| 3  | 3  | ENSG00000256069 | A2MP1    |\n",
       "| 9  | 9  | ENSG00000171428 | NAT1     |\n",
       "| 10 | 10 | ENSG00000156006 | NAT2     |\n",
       "| 12 | 12 | ENSG00000196136 | SERPINA3 |\n",
       "\n"
      ],
      "text/plain": [
       "  gene_id ens_id.gene_id ens_id.ensembl_id SYM     \n",
       "1 1       1              ENSG00000121410   A1BG    \n",
       "2 2       2              ENSG00000175899   A2M     \n",
       "3 3       3              ENSG00000256069   A2MP1   \n",
       "4 9       9              ENSG00000171428   NAT1    \n",
       "5 10      10             ENSG00000156006   NAT2    \n",
       "6 12      12             ENSG00000196136   SERPINA3"
      ]
     },
     "metadata": {},
     "output_type": "display_data"
    }
   ],
   "source": [
    "ENS2EG <- toTable(org.Hs.egENSEMBL2EG)\n",
    "EG2SYM <- toTable(org.Hs.egSYMBOL2EG)\n",
    "ENS2EG2SYM <- data.frame(gene_id=ENS2EG$gene_id, ens_id=ENS2EG, \n",
    "                         SYM=EG2SYM[match(ENS2EG$gene_id,EG2SYM$gene_id),\"symbol\"])\n",
    "head(ENS2EG2SYM)\n",
    "\n",
    "library(RColorBrewer)\n",
    "load(gAnnotationFp_hg19)\n",
    "ANNOT_protein_coding <- subset(ANNOT, gene_type == \"protein_coding\")\n",
    "ANNOT_ncRNA <- subset(ANNOT, gene_type %in% c(\"lincRNA\", \"antisense\", \"processed_transcript\",\"sense_overlapping\", \"sense_intronic\") )\n",
    "\n",
    "#make list of IDs to query\n",
    "protein_coding_ids <- ANNOT_protein_coding$gene_id\n",
    "ncRNA_ids <- ANNOT_ncRNA$gene_id\n"
   ]
  },
  {
   "cell_type": "code",
   "execution_count": 133,
   "metadata": {},
   "outputs": [
    {
     "data": {
      "text/html": [
       "<ol class=list-inline>\n",
       "\t<li>151113</li>\n",
       "\t<li>3</li>\n",
       "</ol>\n"
      ],
      "text/latex": [
       "\\begin{enumerate*}\n",
       "\\item 151113\n",
       "\\item 3\n",
       "\\end{enumerate*}\n"
      ],
      "text/markdown": [
       "1. 151113\n",
       "2. 3\n",
       "\n",
       "\n"
      ],
      "text/plain": [
       "[1] 151113      3"
      ]
     },
     "metadata": {},
     "output_type": "display_data"
    },
    {
     "data": {
      "text/html": [
       "<ol class=list-inline>\n",
       "\t<li>28146</li>\n",
       "\t<li>3</li>\n",
       "</ol>\n"
      ],
      "text/latex": [
       "\\begin{enumerate*}\n",
       "\\item 28146\n",
       "\\item 3\n",
       "\\end{enumerate*}\n"
      ],
      "text/markdown": [
       "1. 28146\n",
       "2. 3\n",
       "\n",
       "\n"
      ],
      "text/plain": [
       "[1] 28146     3"
      ]
     },
     "metadata": {},
     "output_type": "display_data"
    }
   ],
   "source": [
    "dim(subset(gGeneTypeAnnotationsDf, \n",
    "           gene_type %in% c(\"protein_coding\")))\n",
    "dim(subset(gGeneTypeAnnotationsDf, \n",
    "           gene_type %in% c(\"lincRNA\", \"antisense\", \"processed_transcript\",\"sense_overlapping\", \"sense_intronic\")))"
   ]
  },
  {
   "cell_type": "code",
   "execution_count": 134,
   "metadata": {},
   "outputs": [],
   "source": [
    "splitGeneCountsByCodingStatus = function(geneCountDf, gtfDf, removeVersion=FALSE){\n",
    "    #Subset GTF by protein coding and noncoding\n",
    "    ANNOT_protein_coding <- subset(gtfDf, gene_type == \"protein_coding\")\n",
    "    ANNOT_ncRNA <- subset(gtfDf, gene_type %in% c(\"lincRNA\", \"antisense\", \"processed_transcript\",\"sense_overlapping\", \"sense_intronic\") )\n",
    "\n",
    "    #make list of IDs to query\n",
    "    protein_coding_ids <- ANNOT_protein_coding$gene_id\n",
    "    ncRNA_ids <- ANNOT_ncRNA$gene_id\n",
    "    \n",
    "    if (removeVersion){\n",
    "        protein_coding_ids <- removeAccessionVersion(protein_coding_ids)\n",
    "        ncRNA_ids <- removeAccessionVersion(ncRNA_ids)        \n",
    "    }\n",
    "\n",
    "    #subset geneCounts\n",
    "    geneCount_protein_coding <- subset(geneCountDf, row.names(geneCountDf) %in% protein_coding_ids)\n",
    "    geneCount_ncRNA <- subset(geneCountDf, row.names(geneCountDf) %in% ncRNA_ids)\n",
    "    return(list(codingGeneCountDf=geneCount_protein_coding, noncodingGeneCountDf=geneCount_ncRNA))\n",
    "}\n",
    "\n",
    "removeAccessionVersion = function(accessionVector){\n",
    "    return (gsub(\"\\\\..*\",\"\",accessionVector))\n",
    "}\n",
    "\n",
    "writeSubsetCounts = function(subsetCountsDf, outputDir, runName, fileSuffix){\n",
    "    fileName = sprintf(fileSuffix, runName)\n",
    "    write.csv(subsetCountsDf, file.path(outputDir, fileName))\n",
    "    print(paste0(\"Output file: \",fileName))\n",
    "}\n",
    "\n",
    "writeSubsetsCounts = function(splitGeneCountDfsList, outputDir, runName){\n",
    "    writeSubsetCounts(splitGeneCountDfsList$codingGeneCountDf, outputDir, runName,\"%s_raw_pc_genes_counts.csv\")\n",
    "    writeSubsetCounts(splitGeneCountDfsList$noncodingGeneCountDf, outputDir, runName,\"%s_raw_nc_genes_counts.csv\")\n",
    "}"
   ]
  },
  {
   "cell_type": "markdown",
   "metadata": {},
   "source": [
    "Split the count data into coding and non-coding subsets, and extract each subset into a file based on the annotation file provided in the input parameters:"
   ]
  },
  {
   "cell_type": "code",
   "execution_count": 135,
   "metadata": {},
   "outputs": [],
   "source": [
    "gSplitGeneCountDfsList = splitGeneCountsByCodingStatus(gGeneCountsDf, ANNOT, gRemoveVersion)"
   ]
  },
  {
   "cell_type": "code",
   "execution_count": 136,
   "metadata": {},
   "outputs": [
    {
     "data": {
      "text/html": [
       "<ol class=list-inline>\n",
       "\t<li>57820</li>\n",
       "\t<li>36</li>\n",
       "</ol>\n"
      ],
      "text/latex": [
       "\\begin{enumerate*}\n",
       "\\item 57820\n",
       "\\item 36\n",
       "\\end{enumerate*}\n"
      ],
      "text/markdown": [
       "1. 57820\n",
       "2. 36\n",
       "\n",
       "\n"
      ],
      "text/plain": [
       "[1] 57820    36"
      ]
     },
     "metadata": {},
     "output_type": "display_data"
    },
    {
     "data": {
      "text/html": [
       "<ol class=list-inline>\n",
       "\t<li>20345</li>\n",
       "\t<li>36</li>\n",
       "</ol>\n"
      ],
      "text/latex": [
       "\\begin{enumerate*}\n",
       "\\item 20345\n",
       "\\item 36\n",
       "\\end{enumerate*}\n"
      ],
      "text/markdown": [
       "1. 20345\n",
       "2. 36\n",
       "\n",
       "\n"
      ],
      "text/plain": [
       "[1] 20345    36"
      ]
     },
     "metadata": {},
     "output_type": "display_data"
    },
    {
     "data": {
      "text/html": [
       "<ol class=list-inline>\n",
       "\t<li>13849</li>\n",
       "\t<li>36</li>\n",
       "</ol>\n"
      ],
      "text/latex": [
       "\\begin{enumerate*}\n",
       "\\item 13849\n",
       "\\item 36\n",
       "\\end{enumerate*}\n"
      ],
      "text/markdown": [
       "1. 13849\n",
       "2. 36\n",
       "\n",
       "\n"
      ],
      "text/plain": [
       "[1] 13849    36"
      ]
     },
     "metadata": {},
     "output_type": "display_data"
    }
   ],
   "source": [
    "dim(gGeneCountsDf)\n",
    "dim(gSplitGeneCountDfsList$codingGeneCountDf)\n",
    "dim(gSplitGeneCountDfsList$noncodingGeneCountDf)"
   ]
  },
  {
   "cell_type": "code",
   "execution_count": 60,
   "metadata": {},
   "outputs": [
    {
     "name": "stdout",
     "output_type": "stream",
     "text": [
      "[1] \"Output file: 20200228_DeWerf_Human_PediatricAML_data_integration_20200228163803_raw_pc_genes_counts.csv\"\n",
      "[1] \"Output file: 20200228_DeWerf_Human_PediatricAML_data_integration_20200228163803_raw_nc_genes_counts.csv\"\n"
     ]
    }
   ],
   "source": [
    "writeSubsetsCounts(gSplitGeneCountDfsList, gOutputDir, gRunName)"
   ]
  },
  {
   "cell_type": "markdown",
   "metadata": {},
   "source": [
    "[Table of Contents](#Table-of-Contents)\n",
    "\n",
    "## Data Integration\n",
    "\n",
    "\n",
    "\n",
    "Integrate the count data and the metadata into an edgeR DGEList object for use in downstream analysis:\n",
    "\n",
    "> Our DGEList-object contains a samples data frame that stores both ... group ... and batch ... information, each of which consists of ... distinct levels. Note that within x$samples, library sizes are automatically calculated for each sample and normalisation factors are set to 1. ([1](#Citations))"
   ]
  },
  {
   "cell_type": "code",
   "execution_count": 137,
   "metadata": {},
   "outputs": [],
   "source": [
    "# If the researcher wishes to analyze just coding genes, run: \n",
    " gGeneType = \"pc\"\n",
    " gRelevantGeneCountsDf <- gSplitGeneCountDfsList$codingGeneCountDf\n",
    "\n",
    "# If researcher wishes to analyze just non-coding genes, run:\n",
    "# gGeneType = \"nc\"\n",
    "# gRelevantGeneCountsDf <- gSplitGeneCountDfsList$noncodingGeneCountDf\n",
    "\n",
    "# If researcher wishes to analyze both coding and non-coding genes together, run:\n",
    "#gGeneType = \"all\"\n",
    "#gRelevantGeneCountsDf <- gGeneCountsDf"
   ]
  },
  {
   "cell_type": "code",
   "execution_count": 138,
   "metadata": {},
   "outputs": [],
   "source": [
    "# create a DGEList object\n",
    "makeDgeList = function(countsDf, metadataDf, groupColName){\n",
    "    # remove the accession version (.##etc) from the ensembl gene id\n",
    "    id_list <- gsub(\"[.].*$\",\"\", row.names(countsDf))\n",
    "    row.names(countsDf) <- id_list\n",
    "    # Note: in DGEList constructor, parameters\n",
    "    # lib.size = colSums(counts_matrix), \n",
    "    # norm.factors = rep(1,ncol(counts_matrix)), \n",
    "    # genes = NULL, and remove.zeros = FALSE\n",
    "    # are all identical to the default values you'd get if you didn't \n",
    "    # specify these arguments at all ...\n",
    "    x <- DGEList(counts = countsDf, lib.size = colSums(countsDf),\n",
    "    norm.factors = rep(1,ncol(countsDf)), samples = metadataDf,\n",
    "        group = metadataDf[[groupColName]], genes = NULL, remove.zeros = FALSE)\n",
    "    return(x)\n",
    "}"
   ]
  },
  {
   "cell_type": "code",
   "execution_count": 139,
   "metadata": {},
   "outputs": [],
   "source": [
    "gGroupCategory = \"X\" # e.g., \"day\""
   ]
  },
  {
   "cell_type": "code",
   "execution_count": 140,
   "metadata": {},
   "outputs": [],
   "source": [
    "w.prog <- which(gMetadataDf$Cell.type == \"Prog\")\n",
    "gRelevantGeneCountsDf.prog <- gRelevantGeneCountsDf[,w.prog]\n",
    "gMetadataDf.prog <- gMetadataDf[w.prog,]\n",
    "w.stem <- which(gMetadataDf$Cell.type == \"Stem\")\n",
    "gRelevantGeneCountsDf.stem <- gRelevantGeneCountsDf[,w.stem]\n",
    "gMetadataDf.stem <- gMetadataDf[w.stem,]"
   ]
  },
  {
   "cell_type": "code",
   "execution_count": 141,
   "metadata": {},
   "outputs": [
    {
     "data": {
      "text/html": [
       "<ol class=list-inline>\n",
       "\t<li>'counts'</li>\n",
       "\t<li>'samples'</li>\n",
       "</ol>\n"
      ],
      "text/latex": [
       "\\begin{enumerate*}\n",
       "\\item 'counts'\n",
       "\\item 'samples'\n",
       "\\end{enumerate*}\n"
      ],
      "text/markdown": [
       "1. 'counts'\n",
       "2. 'samples'\n",
       "\n",
       "\n"
      ],
      "text/plain": [
       "[1] \"counts\"  \"samples\""
      ]
     },
     "metadata": {},
     "output_type": "display_data"
    },
    {
     "data": {
      "text/html": [
       "<ol class=list-inline>\n",
       "\t<li>'counts'</li>\n",
       "\t<li>'samples'</li>\n",
       "</ol>\n"
      ],
      "text/latex": [
       "\\begin{enumerate*}\n",
       "\\item 'counts'\n",
       "\\item 'samples'\n",
       "\\end{enumerate*}\n"
      ],
      "text/markdown": [
       "1. 'counts'\n",
       "2. 'samples'\n",
       "\n",
       "\n"
      ],
      "text/plain": [
       "[1] \"counts\"  \"samples\""
      ]
     },
     "metadata": {},
     "output_type": "display_data"
    },
    {
     "data": {
      "text/html": [
       "<ol class=list-inline>\n",
       "\t<li>'counts'</li>\n",
       "\t<li>'samples'</li>\n",
       "</ol>\n"
      ],
      "text/latex": [
       "\\begin{enumerate*}\n",
       "\\item 'counts'\n",
       "\\item 'samples'\n",
       "\\end{enumerate*}\n"
      ],
      "text/markdown": [
       "1. 'counts'\n",
       "2. 'samples'\n",
       "\n",
       "\n"
      ],
      "text/plain": [
       "[1] \"counts\"  \"samples\""
      ]
     },
     "metadata": {},
     "output_type": "display_data"
    }
   ],
   "source": [
    "gDgeList = makeDgeList(gRelevantGeneCountsDf, gMetadataDf, gGroupCategory)\n",
    "names(gDgeList)\n",
    "\n",
    "gDgeList.prog = makeDgeList(gRelevantGeneCountsDf.prog, gMetadataDf.prog, gGroupCategory)\n",
    "names(gDgeList.prog)\n",
    "\n",
    "gDgeList.stem = makeDgeList(gRelevantGeneCountsDf.stem, gMetadataDf.stem, gGroupCategory)\n",
    "names(gDgeList.stem)\n"
   ]
  },
  {
   "cell_type": "markdown",
   "metadata": {},
   "source": [
    "As a sanity-check, look at representative content from the DGEList:"
   ]
  },
  {
   "cell_type": "code",
   "execution_count": 142,
   "metadata": {},
   "outputs": [
    {
     "data": {
      "text/html": [
       "<ol class=list-inline>\n",
       "\t<li>20345</li>\n",
       "\t<li>36</li>\n",
       "</ol>\n"
      ],
      "text/latex": [
       "\\begin{enumerate*}\n",
       "\\item 20345\n",
       "\\item 36\n",
       "\\end{enumerate*}\n"
      ],
      "text/markdown": [
       "1. 20345\n",
       "2. 36\n",
       "\n",
       "\n"
      ],
      "text/plain": [
       "[1] 20345    36"
      ]
     },
     "metadata": {},
     "output_type": "display_data"
    },
    {
     "data": {
      "text/html": [
       "<ol class=list-inline>\n",
       "\t<li>36</li>\n",
       "\t<li>17</li>\n",
       "</ol>\n"
      ],
      "text/latex": [
       "\\begin{enumerate*}\n",
       "\\item 36\n",
       "\\item 17\n",
       "\\end{enumerate*}\n"
      ],
      "text/markdown": [
       "1. 36\n",
       "2. 17\n",
       "\n",
       "\n"
      ],
      "text/plain": [
       "[1] 36 17"
      ]
     },
     "metadata": {},
     "output_type": "display_data"
    },
    {
     "data": {
      "text/plain": [
       "\n",
       "AdultAML   PedAML    PedNL \n",
       "       9       18        9 "
      ]
     },
     "metadata": {},
     "output_type": "display_data"
    },
    {
     "data": {
      "text/html": [
       "<table>\n",
       "<caption>A matrix: 6 × 36 of type dbl</caption>\n",
       "<thead>\n",
       "\t<tr><th></th><th scope=col>01id38cellHSC</th><th scope=col>02id38cellPROGENITORS</th><th scope=col>cell05id90HSC</th><th scope=col>06id90cellPROGENITORS</th><th scope=col>03id78cellHSC</th><th scope=col>04id78cellPROGENITORS</th><th scope=col>05id00066HSC</th><th scope=col>06id00066PRO</th><th scope=col>04id11474HSC</th><th scope=col>03id11474HPC</th><th scope=col>⋯</th><th scope=col>15x12584xPLUSPLUS</th><th scope=col>16x12451xPLUSMINS</th><th scope=col>17x12451xPLUSPLUS</th><th scope=col>18x10720xPLUSPLUS</th><th scope=col>01pid24760ctHSC</th><th scope=col>02pid24760ctHPC</th><th scope=col>03pid24474ctHSC</th><th scope=col>04pid24474ctHPC</th><th scope=col>05pid25376ctHSC</th><th scope=col>06pid25376ctHPC</th></tr>\n",
       "</thead>\n",
       "<tbody>\n",
       "\t<tr><th scope=row>ENSG00000000003</th><td>   0.00</td><td>   0.00</td><td>   0.00</td><td>   0.00</td><td>   1.00</td><td>   0.00</td><td>  0.00</td><td>   0.00</td><td>   0.00</td><td>   0.00</td><td>⋯</td><td>  15.00</td><td>   0.00</td><td>   0.00</td><td>  21.00</td><td>  70.00</td><td>  35.00</td><td>   4.00</td><td> 116.00</td><td> 98</td><td>  47.00</td></tr>\n",
       "\t<tr><th scope=row>ENSG00000000005</th><td>   0.00</td><td>   0.00</td><td>   0.00</td><td>   0.00</td><td>   0.00</td><td>   0.00</td><td>  0.00</td><td>   0.00</td><td>   0.00</td><td>   0.00</td><td>⋯</td><td>   0.00</td><td>   0.00</td><td>   0.00</td><td>   0.00</td><td>   0.00</td><td>   0.00</td><td>   0.00</td><td>   0.00</td><td>  0</td><td>   0.00</td></tr>\n",
       "\t<tr><th scope=row>ENSG00000000419</th><td>2227.00</td><td>2200.00</td><td>1705.00</td><td>2351.00</td><td>1872.00</td><td>1805.00</td><td>818.00</td><td>1745.00</td><td>1923.00</td><td>2125.00</td><td>⋯</td><td>1652.00</td><td>1082.00</td><td>2146.00</td><td>3122.00</td><td>1498.00</td><td>2724.00</td><td>1982.00</td><td>3125.00</td><td>476</td><td>3411.00</td></tr>\n",
       "\t<tr><th scope=row>ENSG00000000457</th><td> 580.36</td><td> 347.01</td><td> 322.03</td><td> 143.54</td><td>  96.22</td><td> 277.31</td><td>488.89</td><td> 840.19</td><td> 529.39</td><td> 424.19</td><td>⋯</td><td> 158.72</td><td> 178.19</td><td>1295.05</td><td>1056.94</td><td>2048.79</td><td>1238.85</td><td> 128.74</td><td> 158.04</td><td>  0</td><td> 656.66</td></tr>\n",
       "\t<tr><th scope=row>ENSG00000000460</th><td>1137.64</td><td> 651.99</td><td>1042.97</td><td> 456.46</td><td> 297.78</td><td> 924.69</td><td>271.11</td><td> 903.81</td><td> 543.61</td><td> 596.81</td><td>⋯</td><td> 365.28</td><td> 121.81</td><td> 178.95</td><td>2008.06</td><td> 878.21</td><td>1699.15</td><td> 218.26</td><td> 768.96</td><td>191</td><td>2071.34</td></tr>\n",
       "\t<tr><th scope=row>ENSG00000000938</th><td> 204.00</td><td> 444.00</td><td>  18.00</td><td> 238.00</td><td> 199.00</td><td> 188.00</td><td> 91.00</td><td> 263.00</td><td> 357.00</td><td> 659.00</td><td>⋯</td><td> 129.00</td><td> 133.00</td><td> 279.00</td><td> 272.00</td><td> 222.00</td><td> 293.00</td><td>   9.00</td><td>  50.00</td><td>  0</td><td> 155.00</td></tr>\n",
       "</tbody>\n",
       "</table>\n"
      ],
      "text/latex": [
       "A matrix: 6 × 36 of type dbl\n",
       "\\begin{tabular}{r|llllllllllllllllllllllllllllllllllll}\n",
       "  & 01id38cellHSC & 02id38cellPROGENITORS & cell05id90HSC & 06id90cellPROGENITORS & 03id78cellHSC & 04id78cellPROGENITORS & 05id00066HSC & 06id00066PRO & 04id11474HSC & 03id11474HPC & 02id11251HSC & 01id11251HPC & 01x00077xPROGENIT & 02x11379xHSCxxxxx & 03x11379xHPCxxxxx & 04x00068xPLUSMINS & 05x00047xPLUSPLUS & 06x00077xPLUSPLUS & 07x00023xPLUSPLUS & 08x00020xPLUSMINS & 09x00020xPLUSPLUS & 10x00082xPLUSMINS & 11x00082xPLUSPLUS & 12x12484xPLUSMINS & 13x12488xPLUSMINS & 14x12488xPLUSPLUS & 15x12584xPLUSPLUS & 16x12451xPLUSMINS & 17x12451xPLUSPLUS & 18x10720xPLUSPLUS & 01pid24760ctHSC & 02pid24760ctHPC & 03pid24474ctHSC & 04pid24474ctHPC & 05pid25376ctHSC & 06pid25376ctHPC\\\\\n",
       "\\hline\n",
       "\tENSG00000000003 &    0.00 &    0.00 &    0.00 &    0.00 &    1.00 &    0.00 &   0.00 &    0.00 &    0.00 &    0.00 &    3.0 &    0.00 &    0.00 &    0.00 &    0.00 &   0.00 &   18.00 &   49.00 &    0.0 &  602.00 &    0.00 &   57 &    0.00 &  307.0 &   54.00 &   10.00 &   15.00 &    0.00 &    0.00 &   21.00 &   70.00 &   35.00 &    4.00 &  116.00 &  98 &   47.00\\\\\n",
       "\tENSG00000000005 &    0.00 &    0.00 &    0.00 &    0.00 &    0.00 &    0.00 &   0.00 &    0.00 &    0.00 &    0.00 &    0.0 &    0.00 &    0.00 &    0.00 &    0.00 &   0.00 &    0.00 &    0.00 &    0.0 &    0.00 &    0.00 &    0 &    0.00 &    0.0 &    0.00 &    0.00 &    0.00 &    0.00 &    0.00 &    0.00 &    0.00 &    0.00 &    0.00 &    0.00 &   0 &    0.00\\\\\n",
       "\tENSG00000000419 & 2227.00 & 2200.00 & 1705.00 & 2351.00 & 1872.00 & 1805.00 & 818.00 & 1745.00 & 1923.00 & 2125.00 & 1759.0 & 1777.00 & 1225.00 & 2213.00 & 2308.00 & 910.00 & 2350.00 & 4884.00 & 1039.0 & 2569.00 & 1646.00 & 1308 & 2294.00 & 3837.0 & 1712.00 & 3579.00 & 1652.00 & 1082.00 & 2146.00 & 3122.00 & 1498.00 & 2724.00 & 1982.00 & 3125.00 & 476 & 3411.00\\\\\n",
       "\tENSG00000000457 &  580.36 &  347.01 &  322.03 &  143.54 &   96.22 &  277.31 & 488.89 &  840.19 &  529.39 &  424.19 &  160.2 &   20.94 &  351.54 &  844.14 &  833.81 & 145.25 &  354.12 & 1435.02 &  320.4 &  374.05 &  513.23 &  178 &  102.96 &  737.5 &  151.32 &  456.88 &  158.72 &  178.19 & 1295.05 & 1056.94 & 2048.79 & 1238.85 &  128.74 &  158.04 &   0 &  656.66\\\\\n",
       "\tENSG00000000460 & 1137.64 &  651.99 & 1042.97 &  456.46 &  297.78 &  924.69 & 271.11 &  903.81 &  543.61 &  596.81 &  352.8 &  292.06 &  730.46 &  626.86 & 1320.19 & 281.75 & 1377.88 & 2543.98 &  374.6 &   41.95 &  199.77 &    0 &  116.04 &  323.5 &  378.68 & 1413.12 &  365.28 &  121.81 &  178.95 & 2008.06 &  878.21 & 1699.15 &  218.26 &  768.96 & 191 & 2071.34\\\\\n",
       "\tENSG00000000938 &  204.00 &  444.00 &   18.00 &  238.00 &  199.00 &  188.00 &  91.00 &  263.00 &  357.00 &  659.00 &   70.0 &  286.00 &   43.00 &  169.00 &  443.00 & 114.00 &  466.00 &  436.00 &  169.0 &    0.00 &  238.00 &    0 &   13.00 &  467.0 &  230.00 &  181.00 &  129.00 &  133.00 &  279.00 &  272.00 &  222.00 &  293.00 &    9.00 &   50.00 &   0 &  155.00\\\\\n",
       "\\end{tabular}\n"
      ],
      "text/markdown": [
       "\n",
       "A matrix: 6 × 36 of type dbl\n",
       "\n",
       "| <!--/--> | 01id38cellHSC | 02id38cellPROGENITORS | cell05id90HSC | 06id90cellPROGENITORS | 03id78cellHSC | 04id78cellPROGENITORS | 05id00066HSC | 06id00066PRO | 04id11474HSC | 03id11474HPC | ⋯ | 15x12584xPLUSPLUS | 16x12451xPLUSMINS | 17x12451xPLUSPLUS | 18x10720xPLUSPLUS | 01pid24760ctHSC | 02pid24760ctHPC | 03pid24474ctHSC | 04pid24474ctHPC | 05pid25376ctHSC | 06pid25376ctHPC |\n",
       "|---|---|---|---|---|---|---|---|---|---|---|---|---|---|---|---|---|---|---|---|---|---|\n",
       "| ENSG00000000003 |    0.00 |    0.00 |    0.00 |    0.00 |    1.00 |    0.00 |   0.00 |    0.00 |    0.00 |    0.00 | ⋯ |   15.00 |    0.00 |    0.00 |   21.00 |   70.00 |   35.00 |    4.00 |  116.00 |  98 |   47.00 |\n",
       "| ENSG00000000005 |    0.00 |    0.00 |    0.00 |    0.00 |    0.00 |    0.00 |   0.00 |    0.00 |    0.00 |    0.00 | ⋯ |    0.00 |    0.00 |    0.00 |    0.00 |    0.00 |    0.00 |    0.00 |    0.00 |   0 |    0.00 |\n",
       "| ENSG00000000419 | 2227.00 | 2200.00 | 1705.00 | 2351.00 | 1872.00 | 1805.00 | 818.00 | 1745.00 | 1923.00 | 2125.00 | ⋯ | 1652.00 | 1082.00 | 2146.00 | 3122.00 | 1498.00 | 2724.00 | 1982.00 | 3125.00 | 476 | 3411.00 |\n",
       "| ENSG00000000457 |  580.36 |  347.01 |  322.03 |  143.54 |   96.22 |  277.31 | 488.89 |  840.19 |  529.39 |  424.19 | ⋯ |  158.72 |  178.19 | 1295.05 | 1056.94 | 2048.79 | 1238.85 |  128.74 |  158.04 |   0 |  656.66 |\n",
       "| ENSG00000000460 | 1137.64 |  651.99 | 1042.97 |  456.46 |  297.78 |  924.69 | 271.11 |  903.81 |  543.61 |  596.81 | ⋯ |  365.28 |  121.81 |  178.95 | 2008.06 |  878.21 | 1699.15 |  218.26 |  768.96 | 191 | 2071.34 |\n",
       "| ENSG00000000938 |  204.00 |  444.00 |   18.00 |  238.00 |  199.00 |  188.00 |  91.00 |  263.00 |  357.00 |  659.00 | ⋯ |  129.00 |  133.00 |  279.00 |  272.00 |  222.00 |  293.00 |    9.00 |   50.00 |   0 |  155.00 |\n",
       "\n"
      ],
      "text/plain": [
       "                01id38cellHSC 02id38cellPROGENITORS cell05id90HSC\n",
       "ENSG00000000003    0.00          0.00                  0.00      \n",
       "ENSG00000000005    0.00          0.00                  0.00      \n",
       "ENSG00000000419 2227.00       2200.00               1705.00      \n",
       "ENSG00000000457  580.36        347.01                322.03      \n",
       "ENSG00000000460 1137.64        651.99               1042.97      \n",
       "ENSG00000000938  204.00        444.00                 18.00      \n",
       "                06id90cellPROGENITORS 03id78cellHSC 04id78cellPROGENITORS\n",
       "ENSG00000000003    0.00                  1.00          0.00              \n",
       "ENSG00000000005    0.00                  0.00          0.00              \n",
       "ENSG00000000419 2351.00               1872.00       1805.00              \n",
       "ENSG00000000457  143.54                 96.22        277.31              \n",
       "ENSG00000000460  456.46                297.78        924.69              \n",
       "ENSG00000000938  238.00                199.00        188.00              \n",
       "                05id00066HSC 06id00066PRO 04id11474HSC 03id11474HPC ⋯\n",
       "ENSG00000000003   0.00          0.00         0.00         0.00      ⋯\n",
       "ENSG00000000005   0.00          0.00         0.00         0.00      ⋯\n",
       "ENSG00000000419 818.00       1745.00      1923.00      2125.00      ⋯\n",
       "ENSG00000000457 488.89        840.19       529.39       424.19      ⋯\n",
       "ENSG00000000460 271.11        903.81       543.61       596.81      ⋯\n",
       "ENSG00000000938  91.00        263.00       357.00       659.00      ⋯\n",
       "                15x12584xPLUSPLUS 16x12451xPLUSMINS 17x12451xPLUSPLUS\n",
       "ENSG00000000003   15.00              0.00              0.00          \n",
       "ENSG00000000005    0.00              0.00              0.00          \n",
       "ENSG00000000419 1652.00           1082.00           2146.00          \n",
       "ENSG00000000457  158.72            178.19           1295.05          \n",
       "ENSG00000000460  365.28            121.81            178.95          \n",
       "ENSG00000000938  129.00            133.00            279.00          \n",
       "                18x10720xPLUSPLUS 01pid24760ctHSC 02pid24760ctHPC\n",
       "ENSG00000000003   21.00             70.00           35.00        \n",
       "ENSG00000000005    0.00              0.00            0.00        \n",
       "ENSG00000000419 3122.00           1498.00         2724.00        \n",
       "ENSG00000000457 1056.94           2048.79         1238.85        \n",
       "ENSG00000000460 2008.06            878.21         1699.15        \n",
       "ENSG00000000938  272.00            222.00          293.00        \n",
       "                03pid24474ctHSC 04pid24474ctHPC 05pid25376ctHSC 06pid25376ctHPC\n",
       "ENSG00000000003    4.00          116.00          98               47.00        \n",
       "ENSG00000000005    0.00            0.00           0                0.00        \n",
       "ENSG00000000419 1982.00         3125.00         476             3411.00        \n",
       "ENSG00000000457  128.74          158.04           0              656.66        \n",
       "ENSG00000000460  218.26          768.96         191             2071.34        \n",
       "ENSG00000000938    9.00           50.00           0              155.00        "
      ]
     },
     "metadata": {},
     "output_type": "display_data"
    },
    {
     "data": {
      "text/html": [
       "<table>\n",
       "<caption>A data.frame: 6 × 17</caption>\n",
       "<thead>\n",
       "\t<tr><th></th><th scope=col>group</th><th scope=col>lib.size</th><th scope=col>norm.factors</th><th scope=col>SequenceRun</th><th scope=col>SequenceDate</th><th scope=col>Sample</th><th scope=col>SampleName</th><th scope=col>Patient.ID</th><th scope=col>RIN</th><th scope=col>X</th><th scope=col>Adult.Pediatric</th><th scope=col>Disease</th><th scope=col>Cell.type</th><th scope=col>Sorted.Cell.Type</th><th scope=col>Tissue.Source</th><th scope=col>RNA.seq.status</th><th scope=col>Reads</th></tr>\n",
       "\t<tr><th></th><th scope=col>&lt;fct&gt;</th><th scope=col>&lt;dbl&gt;</th><th scope=col>&lt;dbl&gt;</th><th scope=col>&lt;chr&gt;</th><th scope=col>&lt;chr&gt;</th><th scope=col>&lt;chr&gt;</th><th scope=col>&lt;chr&gt;</th><th scope=col>&lt;int&gt;</th><th scope=col>&lt;dbl&gt;</th><th scope=col>&lt;chr&gt;</th><th scope=col>&lt;chr&gt;</th><th scope=col>&lt;chr&gt;</th><th scope=col>&lt;chr&gt;</th><th scope=col>&lt;chr&gt;</th><th scope=col>&lt;chr&gt;</th><th scope=col>&lt;chr&gt;</th><th scope=col>&lt;int&gt;</th></tr>\n",
       "</thead>\n",
       "<tbody>\n",
       "\t<tr><th scope=row>01id38cellHSC</th><td>PedAML</td><td>41083390</td><td>1</td><td>ca_ne_586_001_400_000_JAMIESON_SR_human-ensembl-grch38-r91</td><td>5/5/19</td><td>01id38cellHSC        </td><td>38 HSC        </td><td>32538</td><td>10.0</td><td>PedAML</td><td>Pediatric</td><td>AML </td><td>Stem</td><td>34+38-</td><td>PB</td><td>Completed</td><td>81234305</td></tr>\n",
       "\t<tr><th scope=row>02id38cellPROGENITORS</th><td>PedAML</td><td>33900321</td><td>1</td><td>ca_ne_586_001_400_000_JAMIESON_SR_human-ensembl-grch38-r91</td><td>5/5/19</td><td>02id38cellPROGENITORS</td><td>38 Progenitors</td><td>32538</td><td> 9.7</td><td>PedAML</td><td>Pediatric</td><td>AML </td><td>Prog</td><td>34+38+</td><td>PB</td><td>Completed</td><td>73196851</td></tr>\n",
       "\t<tr><th scope=row>cell05id90HSC</th><td>PedAML</td><td>32788996</td><td>1</td><td>ca_ne_586_001_400_000_JAMIESON_SR_human-ensembl-grch38-r91</td><td>5/5/19</td><td>cell05id90HSC        </td><td>90 HSC        </td><td>22390</td><td>10.0</td><td>PedAML</td><td>Pediatric</td><td>AML </td><td>Stem</td><td>34+38-</td><td>BM</td><td>Completed</td><td>72625632</td></tr>\n",
       "\t<tr><th scope=row>06id90cellPROGENITORS</th><td>PedAML</td><td>33228834</td><td>1</td><td>ca_ne_586_001_400_000_JAMIESON_SR_human-ensembl-grch38-r91</td><td>5/5/19</td><td>06id90cellPROGENITORS</td><td>90 Progenitors</td><td>22390</td><td>10.0</td><td>PedAML</td><td>Pediatric</td><td>AML </td><td>Prog</td><td>34+38+</td><td>BM</td><td>Completed</td><td>81721991</td></tr>\n",
       "\t<tr><th scope=row>03id78cellHSC</th><td>PedAML</td><td>28623523</td><td>1</td><td>ca_ne_586_001_400_000_JAMIESON_SR_human-ensembl-grch38-r91</td><td>5/5/19</td><td>03id78cellHSC        </td><td>78 HSC        </td><td>28678</td><td>10.0</td><td>PedAML</td><td>Pediatric</td><td>AML </td><td>Stem</td><td>34+38-</td><td>PB</td><td>Completed</td><td>68483294</td></tr>\n",
       "\t<tr><th scope=row>04id78cellPROGENITORS</th><td>PedAML</td><td>41665738</td><td>1</td><td>ca_ne_586_001_400_000_JAMIESON_SR_human-ensembl-grch38-r91</td><td>5/5/19</td><td>04id78cellPROGENITORS</td><td>78 Progenitors</td><td>28678</td><td>10.0</td><td>PedAML</td><td>Pediatric</td><td>AML </td><td>Prog</td><td>34+38+</td><td>PB</td><td>Completed</td><td>88894032</td></tr>\n",
       "</tbody>\n",
       "</table>\n"
      ],
      "text/latex": [
       "A data.frame: 6 × 17\n",
       "\\begin{tabular}{r|lllllllllllllllll}\n",
       "  & group & lib.size & norm.factors & SequenceRun & SequenceDate & Sample & SampleName & Patient.ID & RIN & X & Adult.Pediatric & Disease & Cell.type & Sorted.Cell.Type & Tissue.Source & RNA.seq.status & Reads\\\\\n",
       "  & <fct> & <dbl> & <dbl> & <chr> & <chr> & <chr> & <chr> & <int> & <dbl> & <chr> & <chr> & <chr> & <chr> & <chr> & <chr> & <chr> & <int>\\\\\n",
       "\\hline\n",
       "\t01id38cellHSC & PedAML & 41083390 & 1 & ca\\_ne\\_586\\_001\\_400\\_000\\_JAMIESON\\_SR\\_human-ensembl-grch38-r91 & 5/5/19 & 01id38cellHSC         & 38 HSC         & 32538 & 10.0 & PedAML & Pediatric & AML  & Stem & 34+38- & PB & Completed & 81234305\\\\\n",
       "\t02id38cellPROGENITORS & PedAML & 33900321 & 1 & ca\\_ne\\_586\\_001\\_400\\_000\\_JAMIESON\\_SR\\_human-ensembl-grch38-r91 & 5/5/19 & 02id38cellPROGENITORS & 38 Progenitors & 32538 &  9.7 & PedAML & Pediatric & AML  & Prog & 34+38+ & PB & Completed & 73196851\\\\\n",
       "\tcell05id90HSC & PedAML & 32788996 & 1 & ca\\_ne\\_586\\_001\\_400\\_000\\_JAMIESON\\_SR\\_human-ensembl-grch38-r91 & 5/5/19 & cell05id90HSC         & 90 HSC         & 22390 & 10.0 & PedAML & Pediatric & AML  & Stem & 34+38- & BM & Completed & 72625632\\\\\n",
       "\t06id90cellPROGENITORS & PedAML & 33228834 & 1 & ca\\_ne\\_586\\_001\\_400\\_000\\_JAMIESON\\_SR\\_human-ensembl-grch38-r91 & 5/5/19 & 06id90cellPROGENITORS & 90 Progenitors & 22390 & 10.0 & PedAML & Pediatric & AML  & Prog & 34+38+ & BM & Completed & 81721991\\\\\n",
       "\t03id78cellHSC & PedAML & 28623523 & 1 & ca\\_ne\\_586\\_001\\_400\\_000\\_JAMIESON\\_SR\\_human-ensembl-grch38-r91 & 5/5/19 & 03id78cellHSC         & 78 HSC         & 28678 & 10.0 & PedAML & Pediatric & AML  & Stem & 34+38- & PB & Completed & 68483294\\\\\n",
       "\t04id78cellPROGENITORS & PedAML & 41665738 & 1 & ca\\_ne\\_586\\_001\\_400\\_000\\_JAMIESON\\_SR\\_human-ensembl-grch38-r91 & 5/5/19 & 04id78cellPROGENITORS & 78 Progenitors & 28678 & 10.0 & PedAML & Pediatric & AML  & Prog & 34+38+ & PB & Completed & 88894032\\\\\n",
       "\\end{tabular}\n"
      ],
      "text/markdown": [
       "\n",
       "A data.frame: 6 × 17\n",
       "\n",
       "| <!--/--> | group &lt;fct&gt; | lib.size &lt;dbl&gt; | norm.factors &lt;dbl&gt; | SequenceRun &lt;chr&gt; | SequenceDate &lt;chr&gt; | Sample &lt;chr&gt; | SampleName &lt;chr&gt; | Patient.ID &lt;int&gt; | RIN &lt;dbl&gt; | X &lt;chr&gt; | Adult.Pediatric &lt;chr&gt; | Disease &lt;chr&gt; | Cell.type &lt;chr&gt; | Sorted.Cell.Type &lt;chr&gt; | Tissue.Source &lt;chr&gt; | RNA.seq.status &lt;chr&gt; | Reads &lt;int&gt; |\n",
       "|---|---|---|---|---|---|---|---|---|---|---|---|---|---|---|---|---|---|\n",
       "| 01id38cellHSC | PedAML | 41083390 | 1 | ca_ne_586_001_400_000_JAMIESON_SR_human-ensembl-grch38-r91 | 5/5/19 | 01id38cellHSC         | 38 HSC         | 32538 | 10.0 | PedAML | Pediatric | AML  | Stem | 34+38- | PB | Completed | 81234305 |\n",
       "| 02id38cellPROGENITORS | PedAML | 33900321 | 1 | ca_ne_586_001_400_000_JAMIESON_SR_human-ensembl-grch38-r91 | 5/5/19 | 02id38cellPROGENITORS | 38 Progenitors | 32538 |  9.7 | PedAML | Pediatric | AML  | Prog | 34+38+ | PB | Completed | 73196851 |\n",
       "| cell05id90HSC | PedAML | 32788996 | 1 | ca_ne_586_001_400_000_JAMIESON_SR_human-ensembl-grch38-r91 | 5/5/19 | cell05id90HSC         | 90 HSC         | 22390 | 10.0 | PedAML | Pediatric | AML  | Stem | 34+38- | BM | Completed | 72625632 |\n",
       "| 06id90cellPROGENITORS | PedAML | 33228834 | 1 | ca_ne_586_001_400_000_JAMIESON_SR_human-ensembl-grch38-r91 | 5/5/19 | 06id90cellPROGENITORS | 90 Progenitors | 22390 | 10.0 | PedAML | Pediatric | AML  | Prog | 34+38+ | BM | Completed | 81721991 |\n",
       "| 03id78cellHSC | PedAML | 28623523 | 1 | ca_ne_586_001_400_000_JAMIESON_SR_human-ensembl-grch38-r91 | 5/5/19 | 03id78cellHSC         | 78 HSC         | 28678 | 10.0 | PedAML | Pediatric | AML  | Stem | 34+38- | PB | Completed | 68483294 |\n",
       "| 04id78cellPROGENITORS | PedAML | 41665738 | 1 | ca_ne_586_001_400_000_JAMIESON_SR_human-ensembl-grch38-r91 | 5/5/19 | 04id78cellPROGENITORS | 78 Progenitors | 28678 | 10.0 | PedAML | Pediatric | AML  | Prog | 34+38+ | PB | Completed | 88894032 |\n",
       "\n"
      ],
      "text/plain": [
       "                      group  lib.size norm.factors\n",
       "01id38cellHSC         PedAML 41083390 1           \n",
       "02id38cellPROGENITORS PedAML 33900321 1           \n",
       "cell05id90HSC         PedAML 32788996 1           \n",
       "06id90cellPROGENITORS PedAML 33228834 1           \n",
       "03id78cellHSC         PedAML 28623523 1           \n",
       "04id78cellPROGENITORS PedAML 41665738 1           \n",
       "                      SequenceRun                                               \n",
       "01id38cellHSC         ca_ne_586_001_400_000_JAMIESON_SR_human-ensembl-grch38-r91\n",
       "02id38cellPROGENITORS ca_ne_586_001_400_000_JAMIESON_SR_human-ensembl-grch38-r91\n",
       "cell05id90HSC         ca_ne_586_001_400_000_JAMIESON_SR_human-ensembl-grch38-r91\n",
       "06id90cellPROGENITORS ca_ne_586_001_400_000_JAMIESON_SR_human-ensembl-grch38-r91\n",
       "03id78cellHSC         ca_ne_586_001_400_000_JAMIESON_SR_human-ensembl-grch38-r91\n",
       "04id78cellPROGENITORS ca_ne_586_001_400_000_JAMIESON_SR_human-ensembl-grch38-r91\n",
       "                      SequenceDate Sample                SampleName    \n",
       "01id38cellHSC         5/5/19       01id38cellHSC         38 HSC        \n",
       "02id38cellPROGENITORS 5/5/19       02id38cellPROGENITORS 38 Progenitors\n",
       "cell05id90HSC         5/5/19       cell05id90HSC         90 HSC        \n",
       "06id90cellPROGENITORS 5/5/19       06id90cellPROGENITORS 90 Progenitors\n",
       "03id78cellHSC         5/5/19       03id78cellHSC         78 HSC        \n",
       "04id78cellPROGENITORS 5/5/19       04id78cellPROGENITORS 78 Progenitors\n",
       "                      Patient.ID RIN  X      Adult.Pediatric Disease Cell.type\n",
       "01id38cellHSC         32538      10.0 PedAML Pediatric       AML     Stem     \n",
       "02id38cellPROGENITORS 32538       9.7 PedAML Pediatric       AML     Prog     \n",
       "cell05id90HSC         22390      10.0 PedAML Pediatric       AML     Stem     \n",
       "06id90cellPROGENITORS 22390      10.0 PedAML Pediatric       AML     Prog     \n",
       "03id78cellHSC         28678      10.0 PedAML Pediatric       AML     Stem     \n",
       "04id78cellPROGENITORS 28678      10.0 PedAML Pediatric       AML     Prog     \n",
       "                      Sorted.Cell.Type Tissue.Source RNA.seq.status Reads   \n",
       "01id38cellHSC         34+38-           PB            Completed      81234305\n",
       "02id38cellPROGENITORS 34+38+           PB            Completed      73196851\n",
       "cell05id90HSC         34+38-           BM            Completed      72625632\n",
       "06id90cellPROGENITORS 34+38+           BM            Completed      81721991\n",
       "03id78cellHSC         34+38-           PB            Completed      68483294\n",
       "04id78cellPROGENITORS 34+38+           PB            Completed      88894032"
      ]
     },
     "metadata": {},
     "output_type": "display_data"
    },
    {
     "data": {
      "text/html": [
       "<ol class=list-inline>\n",
       "\t<li>20345</li>\n",
       "\t<li>20</li>\n",
       "</ol>\n"
      ],
      "text/latex": [
       "\\begin{enumerate*}\n",
       "\\item 20345\n",
       "\\item 20\n",
       "\\end{enumerate*}\n"
      ],
      "text/markdown": [
       "1. 20345\n",
       "2. 20\n",
       "\n",
       "\n"
      ],
      "text/plain": [
       "[1] 20345    20"
      ]
     },
     "metadata": {},
     "output_type": "display_data"
    },
    {
     "data": {
      "text/html": [
       "<ol class=list-inline>\n",
       "\t<li>20</li>\n",
       "\t<li>17</li>\n",
       "</ol>\n"
      ],
      "text/latex": [
       "\\begin{enumerate*}\n",
       "\\item 20\n",
       "\\item 17\n",
       "\\end{enumerate*}\n"
      ],
      "text/markdown": [
       "1. 20\n",
       "2. 17\n",
       "\n",
       "\n"
      ],
      "text/plain": [
       "[1] 20 17"
      ]
     },
     "metadata": {},
     "output_type": "display_data"
    },
    {
     "data": {
      "text/plain": [
       "\n",
       "AdultAML   PedAML    PedNL \n",
       "       5        9        6 "
      ]
     },
     "metadata": {},
     "output_type": "display_data"
    },
    {
     "data": {
      "text/html": [
       "<table>\n",
       "<caption>A matrix: 6 × 20 of type dbl</caption>\n",
       "<thead>\n",
       "\t<tr><th></th><th scope=col>02id38cellPROGENITORS</th><th scope=col>06id90cellPROGENITORS</th><th scope=col>04id78cellPROGENITORS</th><th scope=col>06id00066PRO</th><th scope=col>03id11474HPC</th><th scope=col>01id11251HPC</th><th scope=col>01x00077xPROGENIT</th><th scope=col>03x11379xHPCxxxxx</th><th scope=col>05x00047xPLUSPLUS</th><th scope=col>06x00077xPLUSPLUS</th><th scope=col>07x00023xPLUSPLUS</th><th scope=col>09x00020xPLUSPLUS</th><th scope=col>11x00082xPLUSPLUS</th><th scope=col>14x12488xPLUSPLUS</th><th scope=col>15x12584xPLUSPLUS</th><th scope=col>17x12451xPLUSPLUS</th><th scope=col>18x10720xPLUSPLUS</th><th scope=col>02pid24760ctHPC</th><th scope=col>04pid24474ctHPC</th><th scope=col>06pid25376ctHPC</th></tr>\n",
       "</thead>\n",
       "<tbody>\n",
       "\t<tr><th scope=row>ENSG00000000003</th><td>   0.00</td><td>   0.00</td><td>   0.00</td><td>   0.00</td><td>   0.00</td><td>   0.00</td><td>   0.00</td><td>   0.00</td><td>  18.00</td><td>  49.00</td><td>   0.0</td><td>   0.00</td><td>   0.00</td><td>  10.00</td><td>  15.00</td><td>   0.00</td><td>  21.00</td><td>  35.00</td><td> 116.00</td><td>  47.00</td></tr>\n",
       "\t<tr><th scope=row>ENSG00000000005</th><td>   0.00</td><td>   0.00</td><td>   0.00</td><td>   0.00</td><td>   0.00</td><td>   0.00</td><td>   0.00</td><td>   0.00</td><td>   0.00</td><td>   0.00</td><td>   0.0</td><td>   0.00</td><td>   0.00</td><td>   0.00</td><td>   0.00</td><td>   0.00</td><td>   0.00</td><td>   0.00</td><td>   0.00</td><td>   0.00</td></tr>\n",
       "\t<tr><th scope=row>ENSG00000000419</th><td>2200.00</td><td>2351.00</td><td>1805.00</td><td>1745.00</td><td>2125.00</td><td>1777.00</td><td>1225.00</td><td>2308.00</td><td>2350.00</td><td>4884.00</td><td>1039.0</td><td>1646.00</td><td>2294.00</td><td>3579.00</td><td>1652.00</td><td>2146.00</td><td>3122.00</td><td>2724.00</td><td>3125.00</td><td>3411.00</td></tr>\n",
       "\t<tr><th scope=row>ENSG00000000457</th><td> 347.01</td><td> 143.54</td><td> 277.31</td><td> 840.19</td><td> 424.19</td><td>  20.94</td><td> 351.54</td><td> 833.81</td><td> 354.12</td><td>1435.02</td><td> 320.4</td><td> 513.23</td><td> 102.96</td><td> 456.88</td><td> 158.72</td><td>1295.05</td><td>1056.94</td><td>1238.85</td><td> 158.04</td><td> 656.66</td></tr>\n",
       "\t<tr><th scope=row>ENSG00000000460</th><td> 651.99</td><td> 456.46</td><td> 924.69</td><td> 903.81</td><td> 596.81</td><td> 292.06</td><td> 730.46</td><td>1320.19</td><td>1377.88</td><td>2543.98</td><td> 374.6</td><td> 199.77</td><td> 116.04</td><td>1413.12</td><td> 365.28</td><td> 178.95</td><td>2008.06</td><td>1699.15</td><td> 768.96</td><td>2071.34</td></tr>\n",
       "\t<tr><th scope=row>ENSG00000000938</th><td> 444.00</td><td> 238.00</td><td> 188.00</td><td> 263.00</td><td> 659.00</td><td> 286.00</td><td>  43.00</td><td> 443.00</td><td> 466.00</td><td> 436.00</td><td> 169.0</td><td> 238.00</td><td>  13.00</td><td> 181.00</td><td> 129.00</td><td> 279.00</td><td> 272.00</td><td> 293.00</td><td>  50.00</td><td> 155.00</td></tr>\n",
       "</tbody>\n",
       "</table>\n"
      ],
      "text/latex": [
       "A matrix: 6 × 20 of type dbl\n",
       "\\begin{tabular}{r|llllllllllllllllllll}\n",
       "  & 02id38cellPROGENITORS & 06id90cellPROGENITORS & 04id78cellPROGENITORS & 06id00066PRO & 03id11474HPC & 01id11251HPC & 01x00077xPROGENIT & 03x11379xHPCxxxxx & 05x00047xPLUSPLUS & 06x00077xPLUSPLUS & 07x00023xPLUSPLUS & 09x00020xPLUSPLUS & 11x00082xPLUSPLUS & 14x12488xPLUSPLUS & 15x12584xPLUSPLUS & 17x12451xPLUSPLUS & 18x10720xPLUSPLUS & 02pid24760ctHPC & 04pid24474ctHPC & 06pid25376ctHPC\\\\\n",
       "\\hline\n",
       "\tENSG00000000003 &    0.00 &    0.00 &    0.00 &    0.00 &    0.00 &    0.00 &    0.00 &    0.00 &   18.00 &   49.00 &    0.0 &    0.00 &    0.00 &   10.00 &   15.00 &    0.00 &   21.00 &   35.00 &  116.00 &   47.00\\\\\n",
       "\tENSG00000000005 &    0.00 &    0.00 &    0.00 &    0.00 &    0.00 &    0.00 &    0.00 &    0.00 &    0.00 &    0.00 &    0.0 &    0.00 &    0.00 &    0.00 &    0.00 &    0.00 &    0.00 &    0.00 &    0.00 &    0.00\\\\\n",
       "\tENSG00000000419 & 2200.00 & 2351.00 & 1805.00 & 1745.00 & 2125.00 & 1777.00 & 1225.00 & 2308.00 & 2350.00 & 4884.00 & 1039.0 & 1646.00 & 2294.00 & 3579.00 & 1652.00 & 2146.00 & 3122.00 & 2724.00 & 3125.00 & 3411.00\\\\\n",
       "\tENSG00000000457 &  347.01 &  143.54 &  277.31 &  840.19 &  424.19 &   20.94 &  351.54 &  833.81 &  354.12 & 1435.02 &  320.4 &  513.23 &  102.96 &  456.88 &  158.72 & 1295.05 & 1056.94 & 1238.85 &  158.04 &  656.66\\\\\n",
       "\tENSG00000000460 &  651.99 &  456.46 &  924.69 &  903.81 &  596.81 &  292.06 &  730.46 & 1320.19 & 1377.88 & 2543.98 &  374.6 &  199.77 &  116.04 & 1413.12 &  365.28 &  178.95 & 2008.06 & 1699.15 &  768.96 & 2071.34\\\\\n",
       "\tENSG00000000938 &  444.00 &  238.00 &  188.00 &  263.00 &  659.00 &  286.00 &   43.00 &  443.00 &  466.00 &  436.00 &  169.0 &  238.00 &   13.00 &  181.00 &  129.00 &  279.00 &  272.00 &  293.00 &   50.00 &  155.00\\\\\n",
       "\\end{tabular}\n"
      ],
      "text/markdown": [
       "\n",
       "A matrix: 6 × 20 of type dbl\n",
       "\n",
       "| <!--/--> | 02id38cellPROGENITORS | 06id90cellPROGENITORS | 04id78cellPROGENITORS | 06id00066PRO | 03id11474HPC | 01id11251HPC | 01x00077xPROGENIT | 03x11379xHPCxxxxx | 05x00047xPLUSPLUS | 06x00077xPLUSPLUS | 07x00023xPLUSPLUS | 09x00020xPLUSPLUS | 11x00082xPLUSPLUS | 14x12488xPLUSPLUS | 15x12584xPLUSPLUS | 17x12451xPLUSPLUS | 18x10720xPLUSPLUS | 02pid24760ctHPC | 04pid24474ctHPC | 06pid25376ctHPC |\n",
       "|---|---|---|---|---|---|---|---|---|---|---|---|---|---|---|---|---|---|---|---|---|\n",
       "| ENSG00000000003 |    0.00 |    0.00 |    0.00 |    0.00 |    0.00 |    0.00 |    0.00 |    0.00 |   18.00 |   49.00 |    0.0 |    0.00 |    0.00 |   10.00 |   15.00 |    0.00 |   21.00 |   35.00 |  116.00 |   47.00 |\n",
       "| ENSG00000000005 |    0.00 |    0.00 |    0.00 |    0.00 |    0.00 |    0.00 |    0.00 |    0.00 |    0.00 |    0.00 |    0.0 |    0.00 |    0.00 |    0.00 |    0.00 |    0.00 |    0.00 |    0.00 |    0.00 |    0.00 |\n",
       "| ENSG00000000419 | 2200.00 | 2351.00 | 1805.00 | 1745.00 | 2125.00 | 1777.00 | 1225.00 | 2308.00 | 2350.00 | 4884.00 | 1039.0 | 1646.00 | 2294.00 | 3579.00 | 1652.00 | 2146.00 | 3122.00 | 2724.00 | 3125.00 | 3411.00 |\n",
       "| ENSG00000000457 |  347.01 |  143.54 |  277.31 |  840.19 |  424.19 |   20.94 |  351.54 |  833.81 |  354.12 | 1435.02 |  320.4 |  513.23 |  102.96 |  456.88 |  158.72 | 1295.05 | 1056.94 | 1238.85 |  158.04 |  656.66 |\n",
       "| ENSG00000000460 |  651.99 |  456.46 |  924.69 |  903.81 |  596.81 |  292.06 |  730.46 | 1320.19 | 1377.88 | 2543.98 |  374.6 |  199.77 |  116.04 | 1413.12 |  365.28 |  178.95 | 2008.06 | 1699.15 |  768.96 | 2071.34 |\n",
       "| ENSG00000000938 |  444.00 |  238.00 |  188.00 |  263.00 |  659.00 |  286.00 |   43.00 |  443.00 |  466.00 |  436.00 |  169.0 |  238.00 |   13.00 |  181.00 |  129.00 |  279.00 |  272.00 |  293.00 |   50.00 |  155.00 |\n",
       "\n"
      ],
      "text/plain": [
       "                02id38cellPROGENITORS 06id90cellPROGENITORS\n",
       "ENSG00000000003    0.00                  0.00              \n",
       "ENSG00000000005    0.00                  0.00              \n",
       "ENSG00000000419 2200.00               2351.00              \n",
       "ENSG00000000457  347.01                143.54              \n",
       "ENSG00000000460  651.99                456.46              \n",
       "ENSG00000000938  444.00                238.00              \n",
       "                04id78cellPROGENITORS 06id00066PRO 03id11474HPC 01id11251HPC\n",
       "ENSG00000000003    0.00                  0.00         0.00         0.00     \n",
       "ENSG00000000005    0.00                  0.00         0.00         0.00     \n",
       "ENSG00000000419 1805.00               1745.00      2125.00      1777.00     \n",
       "ENSG00000000457  277.31                840.19       424.19        20.94     \n",
       "ENSG00000000460  924.69                903.81       596.81       292.06     \n",
       "ENSG00000000938  188.00                263.00       659.00       286.00     \n",
       "                01x00077xPROGENIT 03x11379xHPCxxxxx 05x00047xPLUSPLUS\n",
       "ENSG00000000003    0.00              0.00             18.00          \n",
       "ENSG00000000005    0.00              0.00              0.00          \n",
       "ENSG00000000419 1225.00           2308.00           2350.00          \n",
       "ENSG00000000457  351.54            833.81            354.12          \n",
       "ENSG00000000460  730.46           1320.19           1377.88          \n",
       "ENSG00000000938   43.00            443.00            466.00          \n",
       "                06x00077xPLUSPLUS 07x00023xPLUSPLUS 09x00020xPLUSPLUS\n",
       "ENSG00000000003   49.00              0.0               0.00          \n",
       "ENSG00000000005    0.00              0.0               0.00          \n",
       "ENSG00000000419 4884.00           1039.0            1646.00          \n",
       "ENSG00000000457 1435.02            320.4             513.23          \n",
       "ENSG00000000460 2543.98            374.6             199.77          \n",
       "ENSG00000000938  436.00            169.0             238.00          \n",
       "                11x00082xPLUSPLUS 14x12488xPLUSPLUS 15x12584xPLUSPLUS\n",
       "ENSG00000000003    0.00             10.00             15.00          \n",
       "ENSG00000000005    0.00              0.00              0.00          \n",
       "ENSG00000000419 2294.00           3579.00           1652.00          \n",
       "ENSG00000000457  102.96            456.88            158.72          \n",
       "ENSG00000000460  116.04           1413.12            365.28          \n",
       "ENSG00000000938   13.00            181.00            129.00          \n",
       "                17x12451xPLUSPLUS 18x10720xPLUSPLUS 02pid24760ctHPC\n",
       "ENSG00000000003    0.00             21.00             35.00        \n",
       "ENSG00000000005    0.00              0.00              0.00        \n",
       "ENSG00000000419 2146.00           3122.00           2724.00        \n",
       "ENSG00000000457 1295.05           1056.94           1238.85        \n",
       "ENSG00000000460  178.95           2008.06           1699.15        \n",
       "ENSG00000000938  279.00            272.00            293.00        \n",
       "                04pid24474ctHPC 06pid25376ctHPC\n",
       "ENSG00000000003  116.00           47.00        \n",
       "ENSG00000000005    0.00            0.00        \n",
       "ENSG00000000419 3125.00         3411.00        \n",
       "ENSG00000000457  158.04          656.66        \n",
       "ENSG00000000460  768.96         2071.34        \n",
       "ENSG00000000938   50.00          155.00        "
      ]
     },
     "metadata": {},
     "output_type": "display_data"
    },
    {
     "data": {
      "text/html": [
       "<table>\n",
       "<caption>A data.frame: 6 × 17</caption>\n",
       "<thead>\n",
       "\t<tr><th></th><th scope=col>group</th><th scope=col>lib.size</th><th scope=col>norm.factors</th><th scope=col>SequenceRun</th><th scope=col>SequenceDate</th><th scope=col>Sample</th><th scope=col>SampleName</th><th scope=col>Patient.ID</th><th scope=col>RIN</th><th scope=col>X</th><th scope=col>Adult.Pediatric</th><th scope=col>Disease</th><th scope=col>Cell.type</th><th scope=col>Sorted.Cell.Type</th><th scope=col>Tissue.Source</th><th scope=col>RNA.seq.status</th><th scope=col>Reads</th></tr>\n",
       "\t<tr><th></th><th scope=col>&lt;fct&gt;</th><th scope=col>&lt;dbl&gt;</th><th scope=col>&lt;dbl&gt;</th><th scope=col>&lt;chr&gt;</th><th scope=col>&lt;chr&gt;</th><th scope=col>&lt;chr&gt;</th><th scope=col>&lt;chr&gt;</th><th scope=col>&lt;int&gt;</th><th scope=col>&lt;dbl&gt;</th><th scope=col>&lt;chr&gt;</th><th scope=col>&lt;chr&gt;</th><th scope=col>&lt;chr&gt;</th><th scope=col>&lt;chr&gt;</th><th scope=col>&lt;chr&gt;</th><th scope=col>&lt;chr&gt;</th><th scope=col>&lt;chr&gt;</th><th scope=col>&lt;int&gt;</th></tr>\n",
       "</thead>\n",
       "<tbody>\n",
       "\t<tr><th scope=row>02id38cellPROGENITORS</th><td>PedAML  </td><td>33900321</td><td>1</td><td>ca_ne_586_001_400_000_JAMIESON_SR_human-ensembl-grch38-r91</td><td>5/5/19 </td><td>02id38cellPROGENITORS</td><td>38 Progenitors</td><td>32538</td><td> 9.7</td><td>PedAML  </td><td>Pediatric</td><td>AML </td><td>Prog</td><td>34+38+</td><td>PB</td><td>Completed</td><td>73196851</td></tr>\n",
       "\t<tr><th scope=row>06id90cellPROGENITORS</th><td>PedAML  </td><td>33228834</td><td>1</td><td>ca_ne_586_001_400_000_JAMIESON_SR_human-ensembl-grch38-r91</td><td>5/5/19 </td><td>06id90cellPROGENITORS</td><td>90 Progenitors</td><td>22390</td><td>10.0</td><td>PedAML  </td><td>Pediatric</td><td>AML </td><td>Prog</td><td>34+38+</td><td>BM</td><td>Completed</td><td>81721991</td></tr>\n",
       "\t<tr><th scope=row>04id78cellPROGENITORS</th><td>PedAML  </td><td>41665738</td><td>1</td><td>ca_ne_586_001_400_000_JAMIESON_SR_human-ensembl-grch38-r91</td><td>5/5/19 </td><td>04id78cellPROGENITORS</td><td>78 Progenitors</td><td>28678</td><td>10.0</td><td>PedAML  </td><td>Pediatric</td><td>AML </td><td>Prog</td><td>34+38+</td><td>PB</td><td>Completed</td><td>88894032</td></tr>\n",
       "\t<tr><th scope=row>06id00066PRO</th><td>PedAML  </td><td>30096534</td><td>1</td><td>ca_ne_618_001_400_070_JAMIESON_SR_human-ensembl-ghrc38-r91</td><td>6/26/19</td><td>06id00066PRO         </td><td>66 Progenitors</td><td>22666</td><td> 9.8</td><td>PedAML  </td><td>Pediatric</td><td>AML </td><td>Prog</td><td>34+38+</td><td>BM</td><td>Completed</td><td>77343883</td></tr>\n",
       "\t<tr><th scope=row>03id11474HPC</th><td>AdultAML</td><td>24344437</td><td>1</td><td>ca_ne_618_001_400_070_JAMIESON_SR_human-ensembl-ghrc38-r91</td><td>6/26/19</td><td>03id11474HPC         </td><td>11474 HPC     </td><td>11474</td><td> 9.6</td><td>AdultAML</td><td>Adult    </td><td>AML </td><td>Prog</td><td>34+38+</td><td>PB</td><td>Completed</td><td>79871449</td></tr>\n",
       "\t<tr><th scope=row>01id11251HPC</th><td>AdultAML</td><td>23597968</td><td>1</td><td>ca_ne_618_001_400_070_JAMIESON_SR_human-ensembl-ghrc38-r91</td><td>6/26/19</td><td>01id11251HPC         </td><td>11251 HPC     </td><td>11251</td><td> 9.3</td><td>AdultAML</td><td>Adult    </td><td>AML </td><td>Prog</td><td>34+38+</td><td>BM</td><td>Completed</td><td>80917720</td></tr>\n",
       "</tbody>\n",
       "</table>\n"
      ],
      "text/latex": [
       "A data.frame: 6 × 17\n",
       "\\begin{tabular}{r|lllllllllllllllll}\n",
       "  & group & lib.size & norm.factors & SequenceRun & SequenceDate & Sample & SampleName & Patient.ID & RIN & X & Adult.Pediatric & Disease & Cell.type & Sorted.Cell.Type & Tissue.Source & RNA.seq.status & Reads\\\\\n",
       "  & <fct> & <dbl> & <dbl> & <chr> & <chr> & <chr> & <chr> & <int> & <dbl> & <chr> & <chr> & <chr> & <chr> & <chr> & <chr> & <chr> & <int>\\\\\n",
       "\\hline\n",
       "\t02id38cellPROGENITORS & PedAML   & 33900321 & 1 & ca\\_ne\\_586\\_001\\_400\\_000\\_JAMIESON\\_SR\\_human-ensembl-grch38-r91 & 5/5/19  & 02id38cellPROGENITORS & 38 Progenitors & 32538 &  9.7 & PedAML   & Pediatric & AML  & Prog & 34+38+ & PB & Completed & 73196851\\\\\n",
       "\t06id90cellPROGENITORS & PedAML   & 33228834 & 1 & ca\\_ne\\_586\\_001\\_400\\_000\\_JAMIESON\\_SR\\_human-ensembl-grch38-r91 & 5/5/19  & 06id90cellPROGENITORS & 90 Progenitors & 22390 & 10.0 & PedAML   & Pediatric & AML  & Prog & 34+38+ & BM & Completed & 81721991\\\\\n",
       "\t04id78cellPROGENITORS & PedAML   & 41665738 & 1 & ca\\_ne\\_586\\_001\\_400\\_000\\_JAMIESON\\_SR\\_human-ensembl-grch38-r91 & 5/5/19  & 04id78cellPROGENITORS & 78 Progenitors & 28678 & 10.0 & PedAML   & Pediatric & AML  & Prog & 34+38+ & PB & Completed & 88894032\\\\\n",
       "\t06id00066PRO & PedAML   & 30096534 & 1 & ca\\_ne\\_618\\_001\\_400\\_070\\_JAMIESON\\_SR\\_human-ensembl-ghrc38-r91 & 6/26/19 & 06id00066PRO          & 66 Progenitors & 22666 &  9.8 & PedAML   & Pediatric & AML  & Prog & 34+38+ & BM & Completed & 77343883\\\\\n",
       "\t03id11474HPC & AdultAML & 24344437 & 1 & ca\\_ne\\_618\\_001\\_400\\_070\\_JAMIESON\\_SR\\_human-ensembl-ghrc38-r91 & 6/26/19 & 03id11474HPC          & 11474 HPC      & 11474 &  9.6 & AdultAML & Adult     & AML  & Prog & 34+38+ & PB & Completed & 79871449\\\\\n",
       "\t01id11251HPC & AdultAML & 23597968 & 1 & ca\\_ne\\_618\\_001\\_400\\_070\\_JAMIESON\\_SR\\_human-ensembl-ghrc38-r91 & 6/26/19 & 01id11251HPC          & 11251 HPC      & 11251 &  9.3 & AdultAML & Adult     & AML  & Prog & 34+38+ & BM & Completed & 80917720\\\\\n",
       "\\end{tabular}\n"
      ],
      "text/markdown": [
       "\n",
       "A data.frame: 6 × 17\n",
       "\n",
       "| <!--/--> | group &lt;fct&gt; | lib.size &lt;dbl&gt; | norm.factors &lt;dbl&gt; | SequenceRun &lt;chr&gt; | SequenceDate &lt;chr&gt; | Sample &lt;chr&gt; | SampleName &lt;chr&gt; | Patient.ID &lt;int&gt; | RIN &lt;dbl&gt; | X &lt;chr&gt; | Adult.Pediatric &lt;chr&gt; | Disease &lt;chr&gt; | Cell.type &lt;chr&gt; | Sorted.Cell.Type &lt;chr&gt; | Tissue.Source &lt;chr&gt; | RNA.seq.status &lt;chr&gt; | Reads &lt;int&gt; |\n",
       "|---|---|---|---|---|---|---|---|---|---|---|---|---|---|---|---|---|---|\n",
       "| 02id38cellPROGENITORS | PedAML   | 33900321 | 1 | ca_ne_586_001_400_000_JAMIESON_SR_human-ensembl-grch38-r91 | 5/5/19  | 02id38cellPROGENITORS | 38 Progenitors | 32538 |  9.7 | PedAML   | Pediatric | AML  | Prog | 34+38+ | PB | Completed | 73196851 |\n",
       "| 06id90cellPROGENITORS | PedAML   | 33228834 | 1 | ca_ne_586_001_400_000_JAMIESON_SR_human-ensembl-grch38-r91 | 5/5/19  | 06id90cellPROGENITORS | 90 Progenitors | 22390 | 10.0 | PedAML   | Pediatric | AML  | Prog | 34+38+ | BM | Completed | 81721991 |\n",
       "| 04id78cellPROGENITORS | PedAML   | 41665738 | 1 | ca_ne_586_001_400_000_JAMIESON_SR_human-ensembl-grch38-r91 | 5/5/19  | 04id78cellPROGENITORS | 78 Progenitors | 28678 | 10.0 | PedAML   | Pediatric | AML  | Prog | 34+38+ | PB | Completed | 88894032 |\n",
       "| 06id00066PRO | PedAML   | 30096534 | 1 | ca_ne_618_001_400_070_JAMIESON_SR_human-ensembl-ghrc38-r91 | 6/26/19 | 06id00066PRO          | 66 Progenitors | 22666 |  9.8 | PedAML   | Pediatric | AML  | Prog | 34+38+ | BM | Completed | 77343883 |\n",
       "| 03id11474HPC | AdultAML | 24344437 | 1 | ca_ne_618_001_400_070_JAMIESON_SR_human-ensembl-ghrc38-r91 | 6/26/19 | 03id11474HPC          | 11474 HPC      | 11474 |  9.6 | AdultAML | Adult     | AML  | Prog | 34+38+ | PB | Completed | 79871449 |\n",
       "| 01id11251HPC | AdultAML | 23597968 | 1 | ca_ne_618_001_400_070_JAMIESON_SR_human-ensembl-ghrc38-r91 | 6/26/19 | 01id11251HPC          | 11251 HPC      | 11251 |  9.3 | AdultAML | Adult     | AML  | Prog | 34+38+ | BM | Completed | 80917720 |\n",
       "\n"
      ],
      "text/plain": [
       "                      group    lib.size norm.factors\n",
       "02id38cellPROGENITORS PedAML   33900321 1           \n",
       "06id90cellPROGENITORS PedAML   33228834 1           \n",
       "04id78cellPROGENITORS PedAML   41665738 1           \n",
       "06id00066PRO          PedAML   30096534 1           \n",
       "03id11474HPC          AdultAML 24344437 1           \n",
       "01id11251HPC          AdultAML 23597968 1           \n",
       "                      SequenceRun                                               \n",
       "02id38cellPROGENITORS ca_ne_586_001_400_000_JAMIESON_SR_human-ensembl-grch38-r91\n",
       "06id90cellPROGENITORS ca_ne_586_001_400_000_JAMIESON_SR_human-ensembl-grch38-r91\n",
       "04id78cellPROGENITORS ca_ne_586_001_400_000_JAMIESON_SR_human-ensembl-grch38-r91\n",
       "06id00066PRO          ca_ne_618_001_400_070_JAMIESON_SR_human-ensembl-ghrc38-r91\n",
       "03id11474HPC          ca_ne_618_001_400_070_JAMIESON_SR_human-ensembl-ghrc38-r91\n",
       "01id11251HPC          ca_ne_618_001_400_070_JAMIESON_SR_human-ensembl-ghrc38-r91\n",
       "                      SequenceDate Sample                SampleName    \n",
       "02id38cellPROGENITORS 5/5/19       02id38cellPROGENITORS 38 Progenitors\n",
       "06id90cellPROGENITORS 5/5/19       06id90cellPROGENITORS 90 Progenitors\n",
       "04id78cellPROGENITORS 5/5/19       04id78cellPROGENITORS 78 Progenitors\n",
       "06id00066PRO          6/26/19      06id00066PRO          66 Progenitors\n",
       "03id11474HPC          6/26/19      03id11474HPC          11474 HPC     \n",
       "01id11251HPC          6/26/19      01id11251HPC          11251 HPC     \n",
       "                      Patient.ID RIN  X        Adult.Pediatric Disease\n",
       "02id38cellPROGENITORS 32538       9.7 PedAML   Pediatric       AML    \n",
       "06id90cellPROGENITORS 22390      10.0 PedAML   Pediatric       AML    \n",
       "04id78cellPROGENITORS 28678      10.0 PedAML   Pediatric       AML    \n",
       "06id00066PRO          22666       9.8 PedAML   Pediatric       AML    \n",
       "03id11474HPC          11474       9.6 AdultAML Adult           AML    \n",
       "01id11251HPC          11251       9.3 AdultAML Adult           AML    \n",
       "                      Cell.type Sorted.Cell.Type Tissue.Source RNA.seq.status\n",
       "02id38cellPROGENITORS Prog      34+38+           PB            Completed     \n",
       "06id90cellPROGENITORS Prog      34+38+           BM            Completed     \n",
       "04id78cellPROGENITORS Prog      34+38+           PB            Completed     \n",
       "06id00066PRO          Prog      34+38+           BM            Completed     \n",
       "03id11474HPC          Prog      34+38+           PB            Completed     \n",
       "01id11251HPC          Prog      34+38+           BM            Completed     \n",
       "                      Reads   \n",
       "02id38cellPROGENITORS 73196851\n",
       "06id90cellPROGENITORS 81721991\n",
       "04id78cellPROGENITORS 88894032\n",
       "06id00066PRO          77343883\n",
       "03id11474HPC          79871449\n",
       "01id11251HPC          80917720"
      ]
     },
     "metadata": {},
     "output_type": "display_data"
    },
    {
     "data": {
      "text/html": [
       "<ol class=list-inline>\n",
       "\t<li>20345</li>\n",
       "\t<li>16</li>\n",
       "</ol>\n"
      ],
      "text/latex": [
       "\\begin{enumerate*}\n",
       "\\item 20345\n",
       "\\item 16\n",
       "\\end{enumerate*}\n"
      ],
      "text/markdown": [
       "1. 20345\n",
       "2. 16\n",
       "\n",
       "\n"
      ],
      "text/plain": [
       "[1] 20345    16"
      ]
     },
     "metadata": {},
     "output_type": "display_data"
    },
    {
     "data": {
      "text/html": [
       "<ol class=list-inline>\n",
       "\t<li>16</li>\n",
       "\t<li>17</li>\n",
       "</ol>\n"
      ],
      "text/latex": [
       "\\begin{enumerate*}\n",
       "\\item 16\n",
       "\\item 17\n",
       "\\end{enumerate*}\n"
      ],
      "text/markdown": [
       "1. 16\n",
       "2. 17\n",
       "\n",
       "\n"
      ],
      "text/plain": [
       "[1] 16 17"
      ]
     },
     "metadata": {},
     "output_type": "display_data"
    },
    {
     "data": {
      "text/plain": [
       "\n",
       "AdultAML   PedAML    PedNL \n",
       "       4        9        3 "
      ]
     },
     "metadata": {},
     "output_type": "display_data"
    },
    {
     "data": {
      "text/html": [
       "<table>\n",
       "<caption>A matrix: 6 × 16 of type dbl</caption>\n",
       "<thead>\n",
       "\t<tr><th></th><th scope=col>01id38cellHSC</th><th scope=col>cell05id90HSC</th><th scope=col>03id78cellHSC</th><th scope=col>05id00066HSC</th><th scope=col>04id11474HSC</th><th scope=col>02id11251HSC</th><th scope=col>02x11379xHSCxxxxx</th><th scope=col>04x00068xPLUSMINS</th><th scope=col>08x00020xPLUSMINS</th><th scope=col>10x00082xPLUSMINS</th><th scope=col>12x12484xPLUSMINS</th><th scope=col>13x12488xPLUSMINS</th><th scope=col>16x12451xPLUSMINS</th><th scope=col>01pid24760ctHSC</th><th scope=col>03pid24474ctHSC</th><th scope=col>05pid25376ctHSC</th></tr>\n",
       "</thead>\n",
       "<tbody>\n",
       "\t<tr><th scope=row>ENSG00000000003</th><td>   0.00</td><td>   0.00</td><td>   1.00</td><td>  0.00</td><td>   0.00</td><td>   3.0</td><td>   0.00</td><td>  0.00</td><td> 602.00</td><td>  57</td><td> 307.0</td><td>  54.00</td><td>   0.00</td><td>  70.00</td><td>   4.00</td><td> 98</td></tr>\n",
       "\t<tr><th scope=row>ENSG00000000005</th><td>   0.00</td><td>   0.00</td><td>   0.00</td><td>  0.00</td><td>   0.00</td><td>   0.0</td><td>   0.00</td><td>  0.00</td><td>   0.00</td><td>   0</td><td>   0.0</td><td>   0.00</td><td>   0.00</td><td>   0.00</td><td>   0.00</td><td>  0</td></tr>\n",
       "\t<tr><th scope=row>ENSG00000000419</th><td>2227.00</td><td>1705.00</td><td>1872.00</td><td>818.00</td><td>1923.00</td><td>1759.0</td><td>2213.00</td><td>910.00</td><td>2569.00</td><td>1308</td><td>3837.0</td><td>1712.00</td><td>1082.00</td><td>1498.00</td><td>1982.00</td><td>476</td></tr>\n",
       "\t<tr><th scope=row>ENSG00000000457</th><td> 580.36</td><td> 322.03</td><td>  96.22</td><td>488.89</td><td> 529.39</td><td> 160.2</td><td> 844.14</td><td>145.25</td><td> 374.05</td><td> 178</td><td> 737.5</td><td> 151.32</td><td> 178.19</td><td>2048.79</td><td> 128.74</td><td>  0</td></tr>\n",
       "\t<tr><th scope=row>ENSG00000000460</th><td>1137.64</td><td>1042.97</td><td> 297.78</td><td>271.11</td><td> 543.61</td><td> 352.8</td><td> 626.86</td><td>281.75</td><td>  41.95</td><td>   0</td><td> 323.5</td><td> 378.68</td><td> 121.81</td><td> 878.21</td><td> 218.26</td><td>191</td></tr>\n",
       "\t<tr><th scope=row>ENSG00000000938</th><td> 204.00</td><td>  18.00</td><td> 199.00</td><td> 91.00</td><td> 357.00</td><td>  70.0</td><td> 169.00</td><td>114.00</td><td>   0.00</td><td>   0</td><td> 467.0</td><td> 230.00</td><td> 133.00</td><td> 222.00</td><td>   9.00</td><td>  0</td></tr>\n",
       "</tbody>\n",
       "</table>\n"
      ],
      "text/latex": [
       "A matrix: 6 × 16 of type dbl\n",
       "\\begin{tabular}{r|llllllllllllllll}\n",
       "  & 01id38cellHSC & cell05id90HSC & 03id78cellHSC & 05id00066HSC & 04id11474HSC & 02id11251HSC & 02x11379xHSCxxxxx & 04x00068xPLUSMINS & 08x00020xPLUSMINS & 10x00082xPLUSMINS & 12x12484xPLUSMINS & 13x12488xPLUSMINS & 16x12451xPLUSMINS & 01pid24760ctHSC & 03pid24474ctHSC & 05pid25376ctHSC\\\\\n",
       "\\hline\n",
       "\tENSG00000000003 &    0.00 &    0.00 &    1.00 &   0.00 &    0.00 &    3.0 &    0.00 &   0.00 &  602.00 &   57 &  307.0 &   54.00 &    0.00 &   70.00 &    4.00 &  98\\\\\n",
       "\tENSG00000000005 &    0.00 &    0.00 &    0.00 &   0.00 &    0.00 &    0.0 &    0.00 &   0.00 &    0.00 &    0 &    0.0 &    0.00 &    0.00 &    0.00 &    0.00 &   0\\\\\n",
       "\tENSG00000000419 & 2227.00 & 1705.00 & 1872.00 & 818.00 & 1923.00 & 1759.0 & 2213.00 & 910.00 & 2569.00 & 1308 & 3837.0 & 1712.00 & 1082.00 & 1498.00 & 1982.00 & 476\\\\\n",
       "\tENSG00000000457 &  580.36 &  322.03 &   96.22 & 488.89 &  529.39 &  160.2 &  844.14 & 145.25 &  374.05 &  178 &  737.5 &  151.32 &  178.19 & 2048.79 &  128.74 &   0\\\\\n",
       "\tENSG00000000460 & 1137.64 & 1042.97 &  297.78 & 271.11 &  543.61 &  352.8 &  626.86 & 281.75 &   41.95 &    0 &  323.5 &  378.68 &  121.81 &  878.21 &  218.26 & 191\\\\\n",
       "\tENSG00000000938 &  204.00 &   18.00 &  199.00 &  91.00 &  357.00 &   70.0 &  169.00 & 114.00 &    0.00 &    0 &  467.0 &  230.00 &  133.00 &  222.00 &    9.00 &   0\\\\\n",
       "\\end{tabular}\n"
      ],
      "text/markdown": [
       "\n",
       "A matrix: 6 × 16 of type dbl\n",
       "\n",
       "| <!--/--> | 01id38cellHSC | cell05id90HSC | 03id78cellHSC | 05id00066HSC | 04id11474HSC | 02id11251HSC | 02x11379xHSCxxxxx | 04x00068xPLUSMINS | 08x00020xPLUSMINS | 10x00082xPLUSMINS | 12x12484xPLUSMINS | 13x12488xPLUSMINS | 16x12451xPLUSMINS | 01pid24760ctHSC | 03pid24474ctHSC | 05pid25376ctHSC |\n",
       "|---|---|---|---|---|---|---|---|---|---|---|---|---|---|---|---|---|\n",
       "| ENSG00000000003 |    0.00 |    0.00 |    1.00 |   0.00 |    0.00 |    3.0 |    0.00 |   0.00 |  602.00 |   57 |  307.0 |   54.00 |    0.00 |   70.00 |    4.00 |  98 |\n",
       "| ENSG00000000005 |    0.00 |    0.00 |    0.00 |   0.00 |    0.00 |    0.0 |    0.00 |   0.00 |    0.00 |    0 |    0.0 |    0.00 |    0.00 |    0.00 |    0.00 |   0 |\n",
       "| ENSG00000000419 | 2227.00 | 1705.00 | 1872.00 | 818.00 | 1923.00 | 1759.0 | 2213.00 | 910.00 | 2569.00 | 1308 | 3837.0 | 1712.00 | 1082.00 | 1498.00 | 1982.00 | 476 |\n",
       "| ENSG00000000457 |  580.36 |  322.03 |   96.22 | 488.89 |  529.39 |  160.2 |  844.14 | 145.25 |  374.05 |  178 |  737.5 |  151.32 |  178.19 | 2048.79 |  128.74 |   0 |\n",
       "| ENSG00000000460 | 1137.64 | 1042.97 |  297.78 | 271.11 |  543.61 |  352.8 |  626.86 | 281.75 |   41.95 |    0 |  323.5 |  378.68 |  121.81 |  878.21 |  218.26 | 191 |\n",
       "| ENSG00000000938 |  204.00 |   18.00 |  199.00 |  91.00 |  357.00 |   70.0 |  169.00 | 114.00 |    0.00 |    0 |  467.0 |  230.00 |  133.00 |  222.00 |    9.00 |   0 |\n",
       "\n"
      ],
      "text/plain": [
       "                01id38cellHSC cell05id90HSC 03id78cellHSC 05id00066HSC\n",
       "ENSG00000000003    0.00          0.00          1.00         0.00      \n",
       "ENSG00000000005    0.00          0.00          0.00         0.00      \n",
       "ENSG00000000419 2227.00       1705.00       1872.00       818.00      \n",
       "ENSG00000000457  580.36        322.03         96.22       488.89      \n",
       "ENSG00000000460 1137.64       1042.97        297.78       271.11      \n",
       "ENSG00000000938  204.00         18.00        199.00        91.00      \n",
       "                04id11474HSC 02id11251HSC 02x11379xHSCxxxxx 04x00068xPLUSMINS\n",
       "ENSG00000000003    0.00         3.0          0.00             0.00           \n",
       "ENSG00000000005    0.00         0.0          0.00             0.00           \n",
       "ENSG00000000419 1923.00      1759.0       2213.00           910.00           \n",
       "ENSG00000000457  529.39       160.2        844.14           145.25           \n",
       "ENSG00000000460  543.61       352.8        626.86           281.75           \n",
       "ENSG00000000938  357.00        70.0        169.00           114.00           \n",
       "                08x00020xPLUSMINS 10x00082xPLUSMINS 12x12484xPLUSMINS\n",
       "ENSG00000000003  602.00             57               307.0           \n",
       "ENSG00000000005    0.00              0                 0.0           \n",
       "ENSG00000000419 2569.00           1308              3837.0           \n",
       "ENSG00000000457  374.05            178               737.5           \n",
       "ENSG00000000460   41.95              0               323.5           \n",
       "ENSG00000000938    0.00              0               467.0           \n",
       "                13x12488xPLUSMINS 16x12451xPLUSMINS 01pid24760ctHSC\n",
       "ENSG00000000003   54.00              0.00             70.00        \n",
       "ENSG00000000005    0.00              0.00              0.00        \n",
       "ENSG00000000419 1712.00           1082.00           1498.00        \n",
       "ENSG00000000457  151.32            178.19           2048.79        \n",
       "ENSG00000000460  378.68            121.81            878.21        \n",
       "ENSG00000000938  230.00            133.00            222.00        \n",
       "                03pid24474ctHSC 05pid25376ctHSC\n",
       "ENSG00000000003    4.00          98            \n",
       "ENSG00000000005    0.00           0            \n",
       "ENSG00000000419 1982.00         476            \n",
       "ENSG00000000457  128.74           0            \n",
       "ENSG00000000460  218.26         191            \n",
       "ENSG00000000938    9.00           0            "
      ]
     },
     "metadata": {},
     "output_type": "display_data"
    },
    {
     "data": {
      "text/html": [
       "<table>\n",
       "<caption>A data.frame: 6 × 17</caption>\n",
       "<thead>\n",
       "\t<tr><th></th><th scope=col>group</th><th scope=col>lib.size</th><th scope=col>norm.factors</th><th scope=col>SequenceRun</th><th scope=col>SequenceDate</th><th scope=col>Sample</th><th scope=col>SampleName</th><th scope=col>Patient.ID</th><th scope=col>RIN</th><th scope=col>X</th><th scope=col>Adult.Pediatric</th><th scope=col>Disease</th><th scope=col>Cell.type</th><th scope=col>Sorted.Cell.Type</th><th scope=col>Tissue.Source</th><th scope=col>RNA.seq.status</th><th scope=col>Reads</th></tr>\n",
       "\t<tr><th></th><th scope=col>&lt;fct&gt;</th><th scope=col>&lt;dbl&gt;</th><th scope=col>&lt;dbl&gt;</th><th scope=col>&lt;chr&gt;</th><th scope=col>&lt;chr&gt;</th><th scope=col>&lt;chr&gt;</th><th scope=col>&lt;chr&gt;</th><th scope=col>&lt;int&gt;</th><th scope=col>&lt;dbl&gt;</th><th scope=col>&lt;chr&gt;</th><th scope=col>&lt;chr&gt;</th><th scope=col>&lt;chr&gt;</th><th scope=col>&lt;chr&gt;</th><th scope=col>&lt;chr&gt;</th><th scope=col>&lt;chr&gt;</th><th scope=col>&lt;chr&gt;</th><th scope=col>&lt;int&gt;</th></tr>\n",
       "</thead>\n",
       "<tbody>\n",
       "\t<tr><th scope=row>01id38cellHSC</th><td>PedAML  </td><td>41083390</td><td>1</td><td>ca_ne_586_001_400_000_JAMIESON_SR_human-ensembl-grch38-r91</td><td>5/5/19 </td><td>01id38cellHSC</td><td>38 HSC    </td><td>32538</td><td>10.0</td><td>PedAML  </td><td>Pediatric</td><td>AML </td><td>Stem</td><td>34+38-</td><td>PB</td><td>Completed</td><td>81234305</td></tr>\n",
       "\t<tr><th scope=row>cell05id90HSC</th><td>PedAML  </td><td>32788996</td><td>1</td><td>ca_ne_586_001_400_000_JAMIESON_SR_human-ensembl-grch38-r91</td><td>5/5/19 </td><td>cell05id90HSC</td><td>90 HSC    </td><td>22390</td><td>10.0</td><td>PedAML  </td><td>Pediatric</td><td>AML </td><td>Stem</td><td>34+38-</td><td>BM</td><td>Completed</td><td>72625632</td></tr>\n",
       "\t<tr><th scope=row>03id78cellHSC</th><td>PedAML  </td><td>28623523</td><td>1</td><td>ca_ne_586_001_400_000_JAMIESON_SR_human-ensembl-grch38-r91</td><td>5/5/19 </td><td>03id78cellHSC</td><td>78 HSC    </td><td>28678</td><td>10.0</td><td>PedAML  </td><td>Pediatric</td><td>AML </td><td>Stem</td><td>34+38-</td><td>PB</td><td>Completed</td><td>68483294</td></tr>\n",
       "\t<tr><th scope=row>05id00066HSC</th><td>PedAML  </td><td>15914869</td><td>1</td><td>ca_ne_618_001_400_070_JAMIESON_SR_human-ensembl-ghrc38-r91</td><td>6/26/19</td><td>05id00066HSC </td><td>66 HSC    </td><td>22666</td><td> 7.7</td><td>PedAML  </td><td>Pediatric</td><td>AML </td><td>Stem</td><td>34+38-</td><td>BM</td><td>Completed</td><td>77519907</td></tr>\n",
       "\t<tr><th scope=row>04id11474HSC</th><td>AdultAML</td><td>25493910</td><td>1</td><td>ca_ne_618_001_400_070_JAMIESON_SR_human-ensembl-ghrc38-r91</td><td>6/26/19</td><td>04id11474HSC </td><td>11474 HSC </td><td>11474</td><td>10.0</td><td>AdultAML</td><td>Adult    </td><td>AML </td><td>Stem</td><td>34+38-</td><td>PB</td><td>Completed</td><td>79123032</td></tr>\n",
       "\t<tr><th scope=row>02id11251HSC</th><td>AdultAML</td><td>22035310</td><td>1</td><td>ca_ne_618_001_400_070_JAMIESON_SR_human-ensembl-ghrc38-r91</td><td>6/26/19</td><td>02id11251HSC </td><td>11251 HSC </td><td>11251</td><td> 9.3</td><td>AdultAML</td><td>Adult    </td><td>AML </td><td>Stem</td><td>34+38-</td><td>BM</td><td>Completed</td><td>81776486</td></tr>\n",
       "</tbody>\n",
       "</table>\n"
      ],
      "text/latex": [
       "A data.frame: 6 × 17\n",
       "\\begin{tabular}{r|lllllllllllllllll}\n",
       "  & group & lib.size & norm.factors & SequenceRun & SequenceDate & Sample & SampleName & Patient.ID & RIN & X & Adult.Pediatric & Disease & Cell.type & Sorted.Cell.Type & Tissue.Source & RNA.seq.status & Reads\\\\\n",
       "  & <fct> & <dbl> & <dbl> & <chr> & <chr> & <chr> & <chr> & <int> & <dbl> & <chr> & <chr> & <chr> & <chr> & <chr> & <chr> & <chr> & <int>\\\\\n",
       "\\hline\n",
       "\t01id38cellHSC & PedAML   & 41083390 & 1 & ca\\_ne\\_586\\_001\\_400\\_000\\_JAMIESON\\_SR\\_human-ensembl-grch38-r91 & 5/5/19  & 01id38cellHSC & 38 HSC     & 32538 & 10.0 & PedAML   & Pediatric & AML  & Stem & 34+38- & PB & Completed & 81234305\\\\\n",
       "\tcell05id90HSC & PedAML   & 32788996 & 1 & ca\\_ne\\_586\\_001\\_400\\_000\\_JAMIESON\\_SR\\_human-ensembl-grch38-r91 & 5/5/19  & cell05id90HSC & 90 HSC     & 22390 & 10.0 & PedAML   & Pediatric & AML  & Stem & 34+38- & BM & Completed & 72625632\\\\\n",
       "\t03id78cellHSC & PedAML   & 28623523 & 1 & ca\\_ne\\_586\\_001\\_400\\_000\\_JAMIESON\\_SR\\_human-ensembl-grch38-r91 & 5/5/19  & 03id78cellHSC & 78 HSC     & 28678 & 10.0 & PedAML   & Pediatric & AML  & Stem & 34+38- & PB & Completed & 68483294\\\\\n",
       "\t05id00066HSC & PedAML   & 15914869 & 1 & ca\\_ne\\_618\\_001\\_400\\_070\\_JAMIESON\\_SR\\_human-ensembl-ghrc38-r91 & 6/26/19 & 05id00066HSC  & 66 HSC     & 22666 &  7.7 & PedAML   & Pediatric & AML  & Stem & 34+38- & BM & Completed & 77519907\\\\\n",
       "\t04id11474HSC & AdultAML & 25493910 & 1 & ca\\_ne\\_618\\_001\\_400\\_070\\_JAMIESON\\_SR\\_human-ensembl-ghrc38-r91 & 6/26/19 & 04id11474HSC  & 11474 HSC  & 11474 & 10.0 & AdultAML & Adult     & AML  & Stem & 34+38- & PB & Completed & 79123032\\\\\n",
       "\t02id11251HSC & AdultAML & 22035310 & 1 & ca\\_ne\\_618\\_001\\_400\\_070\\_JAMIESON\\_SR\\_human-ensembl-ghrc38-r91 & 6/26/19 & 02id11251HSC  & 11251 HSC  & 11251 &  9.3 & AdultAML & Adult     & AML  & Stem & 34+38- & BM & Completed & 81776486\\\\\n",
       "\\end{tabular}\n"
      ],
      "text/markdown": [
       "\n",
       "A data.frame: 6 × 17\n",
       "\n",
       "| <!--/--> | group &lt;fct&gt; | lib.size &lt;dbl&gt; | norm.factors &lt;dbl&gt; | SequenceRun &lt;chr&gt; | SequenceDate &lt;chr&gt; | Sample &lt;chr&gt; | SampleName &lt;chr&gt; | Patient.ID &lt;int&gt; | RIN &lt;dbl&gt; | X &lt;chr&gt; | Adult.Pediatric &lt;chr&gt; | Disease &lt;chr&gt; | Cell.type &lt;chr&gt; | Sorted.Cell.Type &lt;chr&gt; | Tissue.Source &lt;chr&gt; | RNA.seq.status &lt;chr&gt; | Reads &lt;int&gt; |\n",
       "|---|---|---|---|---|---|---|---|---|---|---|---|---|---|---|---|---|---|\n",
       "| 01id38cellHSC | PedAML   | 41083390 | 1 | ca_ne_586_001_400_000_JAMIESON_SR_human-ensembl-grch38-r91 | 5/5/19  | 01id38cellHSC | 38 HSC     | 32538 | 10.0 | PedAML   | Pediatric | AML  | Stem | 34+38- | PB | Completed | 81234305 |\n",
       "| cell05id90HSC | PedAML   | 32788996 | 1 | ca_ne_586_001_400_000_JAMIESON_SR_human-ensembl-grch38-r91 | 5/5/19  | cell05id90HSC | 90 HSC     | 22390 | 10.0 | PedAML   | Pediatric | AML  | Stem | 34+38- | BM | Completed | 72625632 |\n",
       "| 03id78cellHSC | PedAML   | 28623523 | 1 | ca_ne_586_001_400_000_JAMIESON_SR_human-ensembl-grch38-r91 | 5/5/19  | 03id78cellHSC | 78 HSC     | 28678 | 10.0 | PedAML   | Pediatric | AML  | Stem | 34+38- | PB | Completed | 68483294 |\n",
       "| 05id00066HSC | PedAML   | 15914869 | 1 | ca_ne_618_001_400_070_JAMIESON_SR_human-ensembl-ghrc38-r91 | 6/26/19 | 05id00066HSC  | 66 HSC     | 22666 |  7.7 | PedAML   | Pediatric | AML  | Stem | 34+38- | BM | Completed | 77519907 |\n",
       "| 04id11474HSC | AdultAML | 25493910 | 1 | ca_ne_618_001_400_070_JAMIESON_SR_human-ensembl-ghrc38-r91 | 6/26/19 | 04id11474HSC  | 11474 HSC  | 11474 | 10.0 | AdultAML | Adult     | AML  | Stem | 34+38- | PB | Completed | 79123032 |\n",
       "| 02id11251HSC | AdultAML | 22035310 | 1 | ca_ne_618_001_400_070_JAMIESON_SR_human-ensembl-ghrc38-r91 | 6/26/19 | 02id11251HSC  | 11251 HSC  | 11251 |  9.3 | AdultAML | Adult     | AML  | Stem | 34+38- | BM | Completed | 81776486 |\n",
       "\n"
      ],
      "text/plain": [
       "              group    lib.size norm.factors\n",
       "01id38cellHSC PedAML   41083390 1           \n",
       "cell05id90HSC PedAML   32788996 1           \n",
       "03id78cellHSC PedAML   28623523 1           \n",
       "05id00066HSC  PedAML   15914869 1           \n",
       "04id11474HSC  AdultAML 25493910 1           \n",
       "02id11251HSC  AdultAML 22035310 1           \n",
       "              SequenceRun                                               \n",
       "01id38cellHSC ca_ne_586_001_400_000_JAMIESON_SR_human-ensembl-grch38-r91\n",
       "cell05id90HSC ca_ne_586_001_400_000_JAMIESON_SR_human-ensembl-grch38-r91\n",
       "03id78cellHSC ca_ne_586_001_400_000_JAMIESON_SR_human-ensembl-grch38-r91\n",
       "05id00066HSC  ca_ne_618_001_400_070_JAMIESON_SR_human-ensembl-ghrc38-r91\n",
       "04id11474HSC  ca_ne_618_001_400_070_JAMIESON_SR_human-ensembl-ghrc38-r91\n",
       "02id11251HSC  ca_ne_618_001_400_070_JAMIESON_SR_human-ensembl-ghrc38-r91\n",
       "              SequenceDate Sample        SampleName Patient.ID RIN  X       \n",
       "01id38cellHSC 5/5/19       01id38cellHSC 38 HSC     32538      10.0 PedAML  \n",
       "cell05id90HSC 5/5/19       cell05id90HSC 90 HSC     22390      10.0 PedAML  \n",
       "03id78cellHSC 5/5/19       03id78cellHSC 78 HSC     28678      10.0 PedAML  \n",
       "05id00066HSC  6/26/19      05id00066HSC  66 HSC     22666       7.7 PedAML  \n",
       "04id11474HSC  6/26/19      04id11474HSC  11474 HSC  11474      10.0 AdultAML\n",
       "02id11251HSC  6/26/19      02id11251HSC  11251 HSC  11251       9.3 AdultAML\n",
       "              Adult.Pediatric Disease Cell.type Sorted.Cell.Type Tissue.Source\n",
       "01id38cellHSC Pediatric       AML     Stem      34+38-           PB           \n",
       "cell05id90HSC Pediatric       AML     Stem      34+38-           BM           \n",
       "03id78cellHSC Pediatric       AML     Stem      34+38-           PB           \n",
       "05id00066HSC  Pediatric       AML     Stem      34+38-           BM           \n",
       "04id11474HSC  Adult           AML     Stem      34+38-           PB           \n",
       "02id11251HSC  Adult           AML     Stem      34+38-           BM           \n",
       "              RNA.seq.status Reads   \n",
       "01id38cellHSC Completed      81234305\n",
       "cell05id90HSC Completed      72625632\n",
       "03id78cellHSC Completed      68483294\n",
       "05id00066HSC  Completed      77519907\n",
       "04id11474HSC  Completed      79123032\n",
       "02id11251HSC  Completed      81776486"
      ]
     },
     "metadata": {},
     "output_type": "display_data"
    }
   ],
   "source": [
    "dim(gDgeList$counts)\n",
    "dim(gDgeList$samples)\n",
    "table(gDgeList$samples$X)\n",
    "head(gDgeList$counts)\n",
    "head(gDgeList$samples)\n",
    "dim(gDgeList.prog$counts)\n",
    "dim(gDgeList.prog$samples)\n",
    "table(gDgeList.prog$samples$X)\n",
    "head(gDgeList.prog$counts)\n",
    "head(gDgeList.prog$samples)\n",
    "dim(gDgeList.stem$counts)\n",
    "dim(gDgeList.stem$samples)\n",
    "table(gDgeList.stem$samples$X)\n",
    "head(gDgeList.stem$counts)\n",
    "head(gDgeList.stem$samples)"
   ]
  },
  {
   "cell_type": "markdown",
   "metadata": {},
   "source": [
    "[Table of Contents](#Table-of-Contents)\n",
    "\n",
    "## Annotation Integration"
   ]
  },
  {
   "cell_type": "markdown",
   "metadata": {},
   "source": [
    "Next, extend the DGEList object with annotation information about the genes that have count data with symbol and EntrezId information, based upon their Ensembl ids.\n",
    "\n",
    "> A second data frame named genes in the DGEList-object is used to store gene-level information associated with rows of the counts matrix. This information can be retrieved using organism specific packages such as Mus.musculus (Bioconductor Core Team 2016b) for mouse (or Homo.sapiens (Bioconductor Core Team 2016a) for human) ....\n",
    ">\n",
    "> The type of information that can be retrieved includes gene symbols, gene names, chromosome names and locations, Entrez gene IDs, Refseq gene IDs and Ensembl gene IDs to name just a few. .... Mus.musculus [and other organism-specific packages] packages information from various sources and allows users to choose between many different gene IDs as the key. ([1](#Citations))"
   ]
  },
  {
   "cell_type": "code",
   "execution_count": 143,
   "metadata": {},
   "outputs": [],
   "source": [
    "getGeneDf = function(dgeList, organismPackage){\n",
    "    geneid <-  rownames(dgeList)\n",
    "    genes <- select(organismPackage, keys=geneid, columns=c(\"SYMBOL\", \"ENSEMBL\", \"ENTREZID\"), \n",
    "                    keytype=\"ENSEMBL\")\n",
    "    return(genes)\n",
    "}"
   ]
  },
  {
   "cell_type": "code",
   "execution_count": 144,
   "metadata": {},
   "outputs": [
    {
     "name": "stderr",
     "output_type": "stream",
     "text": [
      "'select()' returned 1:many mapping between keys and columns\n"
     ]
    },
    {
     "data": {
      "text/html": [
       "<ol class=list-inline>\n",
       "\t<li>20576</li>\n",
       "\t<li>3</li>\n",
       "</ol>\n"
      ],
      "text/latex": [
       "\\begin{enumerate*}\n",
       "\\item 20576\n",
       "\\item 3\n",
       "\\end{enumerate*}\n"
      ],
      "text/markdown": [
       "1. 20576\n",
       "2. 3\n",
       "\n",
       "\n"
      ],
      "text/plain": [
       "[1] 20576     3"
      ]
     },
     "metadata": {},
     "output_type": "display_data"
    },
    {
     "name": "stderr",
     "output_type": "stream",
     "text": [
      "'select()' returned 1:many mapping between keys and columns\n"
     ]
    },
    {
     "data": {
      "text/html": [
       "<ol class=list-inline>\n",
       "\t<li>20576</li>\n",
       "\t<li>3</li>\n",
       "</ol>\n"
      ],
      "text/latex": [
       "\\begin{enumerate*}\n",
       "\\item 20576\n",
       "\\item 3\n",
       "\\end{enumerate*}\n"
      ],
      "text/markdown": [
       "1. 20576\n",
       "2. 3\n",
       "\n",
       "\n"
      ],
      "text/plain": [
       "[1] 20576     3"
      ]
     },
     "metadata": {},
     "output_type": "display_data"
    },
    {
     "name": "stderr",
     "output_type": "stream",
     "text": [
      "'select()' returned 1:many mapping between keys and columns\n"
     ]
    },
    {
     "data": {
      "text/html": [
       "<ol class=list-inline>\n",
       "\t<li>20576</li>\n",
       "\t<li>3</li>\n",
       "</ol>\n"
      ],
      "text/latex": [
       "\\begin{enumerate*}\n",
       "\\item 20576\n",
       "\\item 3\n",
       "\\end{enumerate*}\n"
      ],
      "text/markdown": [
       "1. 20576\n",
       "2. 3\n",
       "\n",
       "\n"
      ],
      "text/plain": [
       "[1] 20576     3"
      ]
     },
     "metadata": {},
     "output_type": "display_data"
    }
   ],
   "source": [
    "gRawGenesDf = getGeneDf(gDgeList, gOrganismPackage)\n",
    "dim(gRawGenesDf)\n",
    "gRawGenesDf.prog = getGeneDf(gDgeList.prog, gOrganismPackage)\n",
    "dim(gRawGenesDf.prog)\n",
    "gRawGenesDf.stem = getGeneDf(gDgeList.stem, gOrganismPackage)\n",
    "dim(gRawGenesDf.stem)"
   ]
  },
  {
   "cell_type": "code",
   "execution_count": 145,
   "metadata": {},
   "outputs": [],
   "source": [
    "# Add gene type to gRawGenesDf\n",
    "gGeneTypeAnnotationsDf.rmdec <- gGeneTypeAnnotationsDf\n",
    "gGeneTypeAnnotationsDf.rmdec$gene_id <- gsub(\"\\\\..*\",\"\",gGeneTypeAnnotationsDf.rmdec$gene_id)\n",
    "gRawGenesDf$gene_type <- gGeneTypeAnnotationsDf$gene_type[match(gRawGenesDf$ENSEMBL, gGeneTypeAnnotationsDf.rmdec$gene_id)]\n",
    "gRawGenesDf.prog$gene_type <- gGeneTypeAnnotationsDf$gene_type[match(gRawGenesDf.prog$ENSEMBL, gGeneTypeAnnotationsDf.rmdec$gene_id)]\n",
    "gRawGenesDf.stem$gene_type <- gGeneTypeAnnotationsDf$gene_type[match(gRawGenesDf.stem$ENSEMBL, gGeneTypeAnnotationsDf.rmdec$gene_id)]"
   ]
  },
  {
   "cell_type": "code",
   "execution_count": 146,
   "metadata": {},
   "outputs": [
    {
     "data": {
      "text/html": [
       "<table>\n",
       "<caption>A data.frame: 6 × 4</caption>\n",
       "<thead>\n",
       "\t<tr><th scope=col>ENSEMBL</th><th scope=col>ENTREZID</th><th scope=col>SYMBOL</th><th scope=col>gene_type</th></tr>\n",
       "\t<tr><th scope=col>&lt;chr&gt;</th><th scope=col>&lt;chr&gt;</th><th scope=col>&lt;chr&gt;</th><th scope=col>&lt;chr&gt;</th></tr>\n",
       "</thead>\n",
       "<tbody>\n",
       "\t<tr><td>ENSG00000000003</td><td>7105 </td><td>TSPAN6  </td><td>protein_coding</td></tr>\n",
       "\t<tr><td>ENSG00000000005</td><td>64102</td><td>TNMD    </td><td>protein_coding</td></tr>\n",
       "\t<tr><td>ENSG00000000419</td><td>8813 </td><td>DPM1    </td><td>protein_coding</td></tr>\n",
       "\t<tr><td>ENSG00000000457</td><td>57147</td><td>SCYL3   </td><td>protein_coding</td></tr>\n",
       "\t<tr><td>ENSG00000000460</td><td>55732</td><td>C1orf112</td><td>protein_coding</td></tr>\n",
       "\t<tr><td>ENSG00000000938</td><td>2268 </td><td>FGR     </td><td>protein_coding</td></tr>\n",
       "</tbody>\n",
       "</table>\n"
      ],
      "text/latex": [
       "A data.frame: 6 × 4\n",
       "\\begin{tabular}{r|llll}\n",
       " ENSEMBL & ENTREZID & SYMBOL & gene\\_type\\\\\n",
       " <chr> & <chr> & <chr> & <chr>\\\\\n",
       "\\hline\n",
       "\t ENSG00000000003 & 7105  & TSPAN6   & protein\\_coding\\\\\n",
       "\t ENSG00000000005 & 64102 & TNMD     & protein\\_coding\\\\\n",
       "\t ENSG00000000419 & 8813  & DPM1     & protein\\_coding\\\\\n",
       "\t ENSG00000000457 & 57147 & SCYL3    & protein\\_coding\\\\\n",
       "\t ENSG00000000460 & 55732 & C1orf112 & protein\\_coding\\\\\n",
       "\t ENSG00000000938 & 2268  & FGR      & protein\\_coding\\\\\n",
       "\\end{tabular}\n"
      ],
      "text/markdown": [
       "\n",
       "A data.frame: 6 × 4\n",
       "\n",
       "| ENSEMBL &lt;chr&gt; | ENTREZID &lt;chr&gt; | SYMBOL &lt;chr&gt; | gene_type &lt;chr&gt; |\n",
       "|---|---|---|---|\n",
       "| ENSG00000000003 | 7105  | TSPAN6   | protein_coding |\n",
       "| ENSG00000000005 | 64102 | TNMD     | protein_coding |\n",
       "| ENSG00000000419 | 8813  | DPM1     | protein_coding |\n",
       "| ENSG00000000457 | 57147 | SCYL3    | protein_coding |\n",
       "| ENSG00000000460 | 55732 | C1orf112 | protein_coding |\n",
       "| ENSG00000000938 | 2268  | FGR      | protein_coding |\n",
       "\n"
      ],
      "text/plain": [
       "  ENSEMBL         ENTREZID SYMBOL   gene_type     \n",
       "1 ENSG00000000003 7105     TSPAN6   protein_coding\n",
       "2 ENSG00000000005 64102    TNMD     protein_coding\n",
       "3 ENSG00000000419 8813     DPM1     protein_coding\n",
       "4 ENSG00000000457 57147    SCYL3    protein_coding\n",
       "5 ENSG00000000460 55732    C1orf112 protein_coding\n",
       "6 ENSG00000000938 2268     FGR      protein_coding"
      ]
     },
     "metadata": {},
     "output_type": "display_data"
    }
   ],
   "source": [
    "head(gRawGenesDf.prog)"
   ]
  },
  {
   "cell_type": "markdown",
   "metadata": {},
   "source": [
    "> [G]ene IDs may not map one-to-one to the gene information of interest. It is important to check for duplicated gene IDs. ([1](#Citations))\n",
    "\n",
    "Examine how many records in the annotation dataset have the same id (for the gene identifier type--either ENSEMBL or ENTREZ--set below) as another record occurring earlier in the dataset:"
   ]
  },
  {
   "cell_type": "code",
   "execution_count": 147,
   "metadata": {},
   "outputs": [],
   "source": [
    "gGeneIdCol <- \"ENSEMBL\"\n",
    "# gGeneIdCol <- \"ENTREZ\""
   ]
  },
  {
   "cell_type": "code",
   "execution_count": 148,
   "metadata": {},
   "outputs": [
    {
     "data": {
      "text/html": [
       "231"
      ],
      "text/latex": [
       "231"
      ],
      "text/markdown": [
       "231"
      ],
      "text/plain": [
       "[1] 231"
      ]
     },
     "metadata": {},
     "output_type": "display_data"
    },
    {
     "data": {
      "text/html": [
       "231"
      ],
      "text/latex": [
       "231"
      ],
      "text/markdown": [
       "231"
      ],
      "text/plain": [
       "[1] 231"
      ]
     },
     "metadata": {},
     "output_type": "display_data"
    },
    {
     "data": {
      "text/html": [
       "231"
      ],
      "text/latex": [
       "231"
      ],
      "text/markdown": [
       "231"
      ],
      "text/plain": [
       "[1] 231"
      ]
     },
     "metadata": {},
     "output_type": "display_data"
    }
   ],
   "source": [
    "gDuplicatesMask = duplicated(gRawGenesDf[[gGeneIdCol]])\n",
    "sum(gDuplicatesMask) # Sum counts only those with a value of TRUE\n",
    "gDuplicatesMask.prog = duplicated(gRawGenesDf.prog[[gGeneIdCol]])\n",
    "sum(gDuplicatesMask.prog) # Sum counts only those with a value of TRUE\n",
    "gDuplicatesMask.stem = duplicated(gRawGenesDf.stem[[gGeneIdCol]])\n",
    "sum(gDuplicatesMask.stem) # Sum counts only those with a value of TRUE"
   ]
  },
  {
   "cell_type": "markdown",
   "metadata": {},
   "source": [
    "Note that this sum includes only the second (or greater) instances of records for each gene id; the first record for each gene id is not included in this duplicate set.\n",
    "\n",
    "Write a file of the duplicate records that can be examined if desired: "
   ]
  },
  {
   "cell_type": "code",
   "execution_count": 80,
   "metadata": {},
   "outputs": [],
   "source": [
    "writeOutRemovedDuplicates = function(countsDf, duplicatesMask, outputDir, runName, geneType, celltype){\n",
    "    fileName = sprintf(\"%s_duplicated_%s_%s_genes_records.csv\",runName, geneType, celltype)\n",
    "    duplicatedCountsDf = countsDf[duplicatesMask,]\n",
    "    write.csv(duplicatedCountsDf, file.path(outputDir, fileName))\n",
    "    print(paste0(\"Output file: \",fileName))\n",
    "}"
   ]
  },
  {
   "cell_type": "code",
   "execution_count": 149,
   "metadata": {},
   "outputs": [
    {
     "name": "stdout",
     "output_type": "stream",
     "text": [
      "[1] \"Output file: 20200228_DeWerf_Human_PediatricAML_data_integration_20200318124751_duplicated_pc_ProgStem_genes_records.csv\"\n",
      "[1] \"Output file: 20200228_DeWerf_Human_PediatricAML_data_integration_20200318124751_duplicated_pc_Progenitors_genes_records.csv\"\n",
      "[1] \"Output file: 20200228_DeWerf_Human_PediatricAML_data_integration_20200318124751_duplicated_pc_Stem_genes_records.csv\"\n"
     ]
    }
   ],
   "source": [
    "writeOutRemovedDuplicates(gRawGenesDf, gDuplicatesMask, gOutputDir, gRunName, gGeneType, \"ProgStem\")\n",
    "writeOutRemovedDuplicates(gRawGenesDf.prog, gDuplicatesMask.prog, gOutputDir, gRunName, gGeneType, \"Progenitors\")\n",
    "writeOutRemovedDuplicates(gRawGenesDf.stem, gDuplicatesMask.stem, gOutputDir, gRunName, gGeneType, \"Stem\")"
   ]
  },
  {
   "cell_type": "markdown",
   "metadata": {},
   "source": [
    "\n",
    "> As a basic approach, duplicate records for gene ids already existing in the annotation are removed:\n",
    "\n"
   ]
  },
  {
   "cell_type": "code",
   "execution_count": 150,
   "metadata": {},
   "outputs": [],
   "source": [
    "gDeduplicatedGenesDf = gRawGenesDf[!duplicated(gRawGenesDf[[gGeneIdCol]]),]\n",
    "gDeduplicatedGenesDf.prog = gRawGenesDf.prog[!duplicated(gRawGenesDf.prog[[gGeneIdCol]]),]\n",
    "gDeduplicatedGenesDf.stem = gRawGenesDf.stem[!duplicated(gRawGenesDf.stem[[gGeneIdCol]]),]"
   ]
  },
  {
   "cell_type": "markdown",
   "metadata": {},
   "source": [
    "After deduplication, check the dimensions of the count data and the gene annotation data to ensure that the count dataframe has the same number of rows (genes) as the gene annotation dataframe has rows (again, genes), and that the gene names are the same in both:"
   ]
  },
  {
   "cell_type": "code",
   "execution_count": 151,
   "metadata": {},
   "outputs": [
    {
     "data": {
      "text/html": [
       "<ol class=list-inline>\n",
       "\t<li>20345</li>\n",
       "\t<li>20</li>\n",
       "</ol>\n"
      ],
      "text/latex": [
       "\\begin{enumerate*}\n",
       "\\item 20345\n",
       "\\item 20\n",
       "\\end{enumerate*}\n"
      ],
      "text/markdown": [
       "1. 20345\n",
       "2. 20\n",
       "\n",
       "\n"
      ],
      "text/plain": [
       "[1] 20345    20"
      ]
     },
     "metadata": {},
     "output_type": "display_data"
    },
    {
     "data": {
      "text/html": [
       "<ol class=list-inline>\n",
       "\t<li>20345</li>\n",
       "\t<li>4</li>\n",
       "</ol>\n"
      ],
      "text/latex": [
       "\\begin{enumerate*}\n",
       "\\item 20345\n",
       "\\item 4\n",
       "\\end{enumerate*}\n"
      ],
      "text/markdown": [
       "1. 20345\n",
       "2. 4\n",
       "\n",
       "\n"
      ],
      "text/plain": [
       "[1] 20345     4"
      ]
     },
     "metadata": {},
     "output_type": "display_data"
    },
    {
     "data": {
      "text/html": [
       "TRUE"
      ],
      "text/latex": [
       "TRUE"
      ],
      "text/markdown": [
       "TRUE"
      ],
      "text/plain": [
       "[1] TRUE"
      ]
     },
     "metadata": {},
     "output_type": "display_data"
    }
   ],
   "source": [
    "dim(gDgeList.prog$counts)\n",
    "dim(gDeduplicatedGenesDf.prog)\n",
    "\n",
    "all(rownames(gDgeList.prog$counts) %in% gDeduplicatedGenesDf.prog[[gGeneIdCol]])"
   ]
  },
  {
   "cell_type": "markdown",
   "metadata": {},
   "source": [
    "Add the annotation information to the DGEList object:"
   ]
  },
  {
   "cell_type": "code",
   "execution_count": 152,
   "metadata": {},
   "outputs": [
    {
     "data": {
      "text/html": [
       "<ol class=list-inline>\n",
       "\t<li>'counts'</li>\n",
       "\t<li>'samples'</li>\n",
       "\t<li>'genes'</li>\n",
       "</ol>\n"
      ],
      "text/latex": [
       "\\begin{enumerate*}\n",
       "\\item 'counts'\n",
       "\\item 'samples'\n",
       "\\item 'genes'\n",
       "\\end{enumerate*}\n"
      ],
      "text/markdown": [
       "1. 'counts'\n",
       "2. 'samples'\n",
       "3. 'genes'\n",
       "\n",
       "\n"
      ],
      "text/plain": [
       "[1] \"counts\"  \"samples\" \"genes\"  "
      ]
     },
     "metadata": {},
     "output_type": "display_data"
    },
    {
     "data": {
      "text/html": [
       "<ol class=list-inline>\n",
       "\t<li>'counts'</li>\n",
       "\t<li>'samples'</li>\n",
       "\t<li>'genes'</li>\n",
       "</ol>\n"
      ],
      "text/latex": [
       "\\begin{enumerate*}\n",
       "\\item 'counts'\n",
       "\\item 'samples'\n",
       "\\item 'genes'\n",
       "\\end{enumerate*}\n"
      ],
      "text/markdown": [
       "1. 'counts'\n",
       "2. 'samples'\n",
       "3. 'genes'\n",
       "\n",
       "\n"
      ],
      "text/plain": [
       "[1] \"counts\"  \"samples\" \"genes\"  "
      ]
     },
     "metadata": {},
     "output_type": "display_data"
    },
    {
     "data": {
      "text/html": [
       "<ol class=list-inline>\n",
       "\t<li>'counts'</li>\n",
       "\t<li>'samples'</li>\n",
       "\t<li>'genes'</li>\n",
       "</ol>\n"
      ],
      "text/latex": [
       "\\begin{enumerate*}\n",
       "\\item 'counts'\n",
       "\\item 'samples'\n",
       "\\item 'genes'\n",
       "\\end{enumerate*}\n"
      ],
      "text/markdown": [
       "1. 'counts'\n",
       "2. 'samples'\n",
       "3. 'genes'\n",
       "\n",
       "\n"
      ],
      "text/plain": [
       "[1] \"counts\"  \"samples\" \"genes\"  "
      ]
     },
     "metadata": {},
     "output_type": "display_data"
    }
   ],
   "source": [
    "gDgeList$genes = gDeduplicatedGenesDf\n",
    "names(gDgeList)\n",
    "gDgeList.prog$genes = gDeduplicatedGenesDf.prog\n",
    "names(gDgeList.prog)\n",
    "gDgeList.stem$genes = gDeduplicatedGenesDf.stem\n",
    "names(gDgeList.stem)"
   ]
  },
  {
   "cell_type": "markdown",
   "metadata": {},
   "source": [
    "As a sanity-check, look at representative content from the DGEList:"
   ]
  },
  {
   "cell_type": "code",
   "execution_count": 153,
   "metadata": {},
   "outputs": [
    {
     "data": {
      "text/html": [
       "<table>\n",
       "<caption>A matrix: 6 × 20 of type dbl</caption>\n",
       "<thead>\n",
       "\t<tr><th></th><th scope=col>02id38cellPROGENITORS</th><th scope=col>06id90cellPROGENITORS</th><th scope=col>04id78cellPROGENITORS</th><th scope=col>06id00066PRO</th><th scope=col>03id11474HPC</th><th scope=col>01id11251HPC</th><th scope=col>01x00077xPROGENIT</th><th scope=col>03x11379xHPCxxxxx</th><th scope=col>05x00047xPLUSPLUS</th><th scope=col>06x00077xPLUSPLUS</th><th scope=col>07x00023xPLUSPLUS</th><th scope=col>09x00020xPLUSPLUS</th><th scope=col>11x00082xPLUSPLUS</th><th scope=col>14x12488xPLUSPLUS</th><th scope=col>15x12584xPLUSPLUS</th><th scope=col>17x12451xPLUSPLUS</th><th scope=col>18x10720xPLUSPLUS</th><th scope=col>02pid24760ctHPC</th><th scope=col>04pid24474ctHPC</th><th scope=col>06pid25376ctHPC</th></tr>\n",
       "</thead>\n",
       "<tbody>\n",
       "\t<tr><th scope=row>ENSG00000000003</th><td>   0.00</td><td>   0.00</td><td>   0.00</td><td>   0.00</td><td>   0.00</td><td>   0.00</td><td>   0.00</td><td>   0.00</td><td>  18.00</td><td>  49.00</td><td>   0.0</td><td>   0.00</td><td>   0.00</td><td>  10.00</td><td>  15.00</td><td>   0.00</td><td>  21.00</td><td>  35.00</td><td> 116.00</td><td>  47.00</td></tr>\n",
       "\t<tr><th scope=row>ENSG00000000005</th><td>   0.00</td><td>   0.00</td><td>   0.00</td><td>   0.00</td><td>   0.00</td><td>   0.00</td><td>   0.00</td><td>   0.00</td><td>   0.00</td><td>   0.00</td><td>   0.0</td><td>   0.00</td><td>   0.00</td><td>   0.00</td><td>   0.00</td><td>   0.00</td><td>   0.00</td><td>   0.00</td><td>   0.00</td><td>   0.00</td></tr>\n",
       "\t<tr><th scope=row>ENSG00000000419</th><td>2200.00</td><td>2351.00</td><td>1805.00</td><td>1745.00</td><td>2125.00</td><td>1777.00</td><td>1225.00</td><td>2308.00</td><td>2350.00</td><td>4884.00</td><td>1039.0</td><td>1646.00</td><td>2294.00</td><td>3579.00</td><td>1652.00</td><td>2146.00</td><td>3122.00</td><td>2724.00</td><td>3125.00</td><td>3411.00</td></tr>\n",
       "\t<tr><th scope=row>ENSG00000000457</th><td> 347.01</td><td> 143.54</td><td> 277.31</td><td> 840.19</td><td> 424.19</td><td>  20.94</td><td> 351.54</td><td> 833.81</td><td> 354.12</td><td>1435.02</td><td> 320.4</td><td> 513.23</td><td> 102.96</td><td> 456.88</td><td> 158.72</td><td>1295.05</td><td>1056.94</td><td>1238.85</td><td> 158.04</td><td> 656.66</td></tr>\n",
       "\t<tr><th scope=row>ENSG00000000460</th><td> 651.99</td><td> 456.46</td><td> 924.69</td><td> 903.81</td><td> 596.81</td><td> 292.06</td><td> 730.46</td><td>1320.19</td><td>1377.88</td><td>2543.98</td><td> 374.6</td><td> 199.77</td><td> 116.04</td><td>1413.12</td><td> 365.28</td><td> 178.95</td><td>2008.06</td><td>1699.15</td><td> 768.96</td><td>2071.34</td></tr>\n",
       "\t<tr><th scope=row>ENSG00000000938</th><td> 444.00</td><td> 238.00</td><td> 188.00</td><td> 263.00</td><td> 659.00</td><td> 286.00</td><td>  43.00</td><td> 443.00</td><td> 466.00</td><td> 436.00</td><td> 169.0</td><td> 238.00</td><td>  13.00</td><td> 181.00</td><td> 129.00</td><td> 279.00</td><td> 272.00</td><td> 293.00</td><td>  50.00</td><td> 155.00</td></tr>\n",
       "</tbody>\n",
       "</table>\n"
      ],
      "text/latex": [
       "A matrix: 6 × 20 of type dbl\n",
       "\\begin{tabular}{r|llllllllllllllllllll}\n",
       "  & 02id38cellPROGENITORS & 06id90cellPROGENITORS & 04id78cellPROGENITORS & 06id00066PRO & 03id11474HPC & 01id11251HPC & 01x00077xPROGENIT & 03x11379xHPCxxxxx & 05x00047xPLUSPLUS & 06x00077xPLUSPLUS & 07x00023xPLUSPLUS & 09x00020xPLUSPLUS & 11x00082xPLUSPLUS & 14x12488xPLUSPLUS & 15x12584xPLUSPLUS & 17x12451xPLUSPLUS & 18x10720xPLUSPLUS & 02pid24760ctHPC & 04pid24474ctHPC & 06pid25376ctHPC\\\\\n",
       "\\hline\n",
       "\tENSG00000000003 &    0.00 &    0.00 &    0.00 &    0.00 &    0.00 &    0.00 &    0.00 &    0.00 &   18.00 &   49.00 &    0.0 &    0.00 &    0.00 &   10.00 &   15.00 &    0.00 &   21.00 &   35.00 &  116.00 &   47.00\\\\\n",
       "\tENSG00000000005 &    0.00 &    0.00 &    0.00 &    0.00 &    0.00 &    0.00 &    0.00 &    0.00 &    0.00 &    0.00 &    0.0 &    0.00 &    0.00 &    0.00 &    0.00 &    0.00 &    0.00 &    0.00 &    0.00 &    0.00\\\\\n",
       "\tENSG00000000419 & 2200.00 & 2351.00 & 1805.00 & 1745.00 & 2125.00 & 1777.00 & 1225.00 & 2308.00 & 2350.00 & 4884.00 & 1039.0 & 1646.00 & 2294.00 & 3579.00 & 1652.00 & 2146.00 & 3122.00 & 2724.00 & 3125.00 & 3411.00\\\\\n",
       "\tENSG00000000457 &  347.01 &  143.54 &  277.31 &  840.19 &  424.19 &   20.94 &  351.54 &  833.81 &  354.12 & 1435.02 &  320.4 &  513.23 &  102.96 &  456.88 &  158.72 & 1295.05 & 1056.94 & 1238.85 &  158.04 &  656.66\\\\\n",
       "\tENSG00000000460 &  651.99 &  456.46 &  924.69 &  903.81 &  596.81 &  292.06 &  730.46 & 1320.19 & 1377.88 & 2543.98 &  374.6 &  199.77 &  116.04 & 1413.12 &  365.28 &  178.95 & 2008.06 & 1699.15 &  768.96 & 2071.34\\\\\n",
       "\tENSG00000000938 &  444.00 &  238.00 &  188.00 &  263.00 &  659.00 &  286.00 &   43.00 &  443.00 &  466.00 &  436.00 &  169.0 &  238.00 &   13.00 &  181.00 &  129.00 &  279.00 &  272.00 &  293.00 &   50.00 &  155.00\\\\\n",
       "\\end{tabular}\n"
      ],
      "text/markdown": [
       "\n",
       "A matrix: 6 × 20 of type dbl\n",
       "\n",
       "| <!--/--> | 02id38cellPROGENITORS | 06id90cellPROGENITORS | 04id78cellPROGENITORS | 06id00066PRO | 03id11474HPC | 01id11251HPC | 01x00077xPROGENIT | 03x11379xHPCxxxxx | 05x00047xPLUSPLUS | 06x00077xPLUSPLUS | 07x00023xPLUSPLUS | 09x00020xPLUSPLUS | 11x00082xPLUSPLUS | 14x12488xPLUSPLUS | 15x12584xPLUSPLUS | 17x12451xPLUSPLUS | 18x10720xPLUSPLUS | 02pid24760ctHPC | 04pid24474ctHPC | 06pid25376ctHPC |\n",
       "|---|---|---|---|---|---|---|---|---|---|---|---|---|---|---|---|---|---|---|---|---|\n",
       "| ENSG00000000003 |    0.00 |    0.00 |    0.00 |    0.00 |    0.00 |    0.00 |    0.00 |    0.00 |   18.00 |   49.00 |    0.0 |    0.00 |    0.00 |   10.00 |   15.00 |    0.00 |   21.00 |   35.00 |  116.00 |   47.00 |\n",
       "| ENSG00000000005 |    0.00 |    0.00 |    0.00 |    0.00 |    0.00 |    0.00 |    0.00 |    0.00 |    0.00 |    0.00 |    0.0 |    0.00 |    0.00 |    0.00 |    0.00 |    0.00 |    0.00 |    0.00 |    0.00 |    0.00 |\n",
       "| ENSG00000000419 | 2200.00 | 2351.00 | 1805.00 | 1745.00 | 2125.00 | 1777.00 | 1225.00 | 2308.00 | 2350.00 | 4884.00 | 1039.0 | 1646.00 | 2294.00 | 3579.00 | 1652.00 | 2146.00 | 3122.00 | 2724.00 | 3125.00 | 3411.00 |\n",
       "| ENSG00000000457 |  347.01 |  143.54 |  277.31 |  840.19 |  424.19 |   20.94 |  351.54 |  833.81 |  354.12 | 1435.02 |  320.4 |  513.23 |  102.96 |  456.88 |  158.72 | 1295.05 | 1056.94 | 1238.85 |  158.04 |  656.66 |\n",
       "| ENSG00000000460 |  651.99 |  456.46 |  924.69 |  903.81 |  596.81 |  292.06 |  730.46 | 1320.19 | 1377.88 | 2543.98 |  374.6 |  199.77 |  116.04 | 1413.12 |  365.28 |  178.95 | 2008.06 | 1699.15 |  768.96 | 2071.34 |\n",
       "| ENSG00000000938 |  444.00 |  238.00 |  188.00 |  263.00 |  659.00 |  286.00 |   43.00 |  443.00 |  466.00 |  436.00 |  169.0 |  238.00 |   13.00 |  181.00 |  129.00 |  279.00 |  272.00 |  293.00 |   50.00 |  155.00 |\n",
       "\n"
      ],
      "text/plain": [
       "                02id38cellPROGENITORS 06id90cellPROGENITORS\n",
       "ENSG00000000003    0.00                  0.00              \n",
       "ENSG00000000005    0.00                  0.00              \n",
       "ENSG00000000419 2200.00               2351.00              \n",
       "ENSG00000000457  347.01                143.54              \n",
       "ENSG00000000460  651.99                456.46              \n",
       "ENSG00000000938  444.00                238.00              \n",
       "                04id78cellPROGENITORS 06id00066PRO 03id11474HPC 01id11251HPC\n",
       "ENSG00000000003    0.00                  0.00         0.00         0.00     \n",
       "ENSG00000000005    0.00                  0.00         0.00         0.00     \n",
       "ENSG00000000419 1805.00               1745.00      2125.00      1777.00     \n",
       "ENSG00000000457  277.31                840.19       424.19        20.94     \n",
       "ENSG00000000460  924.69                903.81       596.81       292.06     \n",
       "ENSG00000000938  188.00                263.00       659.00       286.00     \n",
       "                01x00077xPROGENIT 03x11379xHPCxxxxx 05x00047xPLUSPLUS\n",
       "ENSG00000000003    0.00              0.00             18.00          \n",
       "ENSG00000000005    0.00              0.00              0.00          \n",
       "ENSG00000000419 1225.00           2308.00           2350.00          \n",
       "ENSG00000000457  351.54            833.81            354.12          \n",
       "ENSG00000000460  730.46           1320.19           1377.88          \n",
       "ENSG00000000938   43.00            443.00            466.00          \n",
       "                06x00077xPLUSPLUS 07x00023xPLUSPLUS 09x00020xPLUSPLUS\n",
       "ENSG00000000003   49.00              0.0               0.00          \n",
       "ENSG00000000005    0.00              0.0               0.00          \n",
       "ENSG00000000419 4884.00           1039.0            1646.00          \n",
       "ENSG00000000457 1435.02            320.4             513.23          \n",
       "ENSG00000000460 2543.98            374.6             199.77          \n",
       "ENSG00000000938  436.00            169.0             238.00          \n",
       "                11x00082xPLUSPLUS 14x12488xPLUSPLUS 15x12584xPLUSPLUS\n",
       "ENSG00000000003    0.00             10.00             15.00          \n",
       "ENSG00000000005    0.00              0.00              0.00          \n",
       "ENSG00000000419 2294.00           3579.00           1652.00          \n",
       "ENSG00000000457  102.96            456.88            158.72          \n",
       "ENSG00000000460  116.04           1413.12            365.28          \n",
       "ENSG00000000938   13.00            181.00            129.00          \n",
       "                17x12451xPLUSPLUS 18x10720xPLUSPLUS 02pid24760ctHPC\n",
       "ENSG00000000003    0.00             21.00             35.00        \n",
       "ENSG00000000005    0.00              0.00              0.00        \n",
       "ENSG00000000419 2146.00           3122.00           2724.00        \n",
       "ENSG00000000457 1295.05           1056.94           1238.85        \n",
       "ENSG00000000460  178.95           2008.06           1699.15        \n",
       "ENSG00000000938  279.00            272.00            293.00        \n",
       "                04pid24474ctHPC 06pid25376ctHPC\n",
       "ENSG00000000003  116.00           47.00        \n",
       "ENSG00000000005    0.00            0.00        \n",
       "ENSG00000000419 3125.00         3411.00        \n",
       "ENSG00000000457  158.04          656.66        \n",
       "ENSG00000000460  768.96         2071.34        \n",
       "ENSG00000000938   50.00          155.00        "
      ]
     },
     "metadata": {},
     "output_type": "display_data"
    },
    {
     "data": {
      "text/html": [
       "<table>\n",
       "<caption>A data.frame: 6 × 17</caption>\n",
       "<thead>\n",
       "\t<tr><th></th><th scope=col>group</th><th scope=col>lib.size</th><th scope=col>norm.factors</th><th scope=col>SequenceRun</th><th scope=col>SequenceDate</th><th scope=col>Sample</th><th scope=col>SampleName</th><th scope=col>Patient.ID</th><th scope=col>RIN</th><th scope=col>X</th><th scope=col>Adult.Pediatric</th><th scope=col>Disease</th><th scope=col>Cell.type</th><th scope=col>Sorted.Cell.Type</th><th scope=col>Tissue.Source</th><th scope=col>RNA.seq.status</th><th scope=col>Reads</th></tr>\n",
       "\t<tr><th></th><th scope=col>&lt;fct&gt;</th><th scope=col>&lt;dbl&gt;</th><th scope=col>&lt;dbl&gt;</th><th scope=col>&lt;chr&gt;</th><th scope=col>&lt;chr&gt;</th><th scope=col>&lt;chr&gt;</th><th scope=col>&lt;chr&gt;</th><th scope=col>&lt;int&gt;</th><th scope=col>&lt;dbl&gt;</th><th scope=col>&lt;chr&gt;</th><th scope=col>&lt;chr&gt;</th><th scope=col>&lt;chr&gt;</th><th scope=col>&lt;chr&gt;</th><th scope=col>&lt;chr&gt;</th><th scope=col>&lt;chr&gt;</th><th scope=col>&lt;chr&gt;</th><th scope=col>&lt;int&gt;</th></tr>\n",
       "</thead>\n",
       "<tbody>\n",
       "\t<tr><th scope=row>02id38cellPROGENITORS</th><td>PedAML  </td><td>33900321</td><td>1</td><td>ca_ne_586_001_400_000_JAMIESON_SR_human-ensembl-grch38-r91</td><td>5/5/19 </td><td>02id38cellPROGENITORS</td><td>38 Progenitors</td><td>32538</td><td> 9.7</td><td>PedAML  </td><td>Pediatric</td><td>AML </td><td>Prog</td><td>34+38+</td><td>PB</td><td>Completed</td><td>73196851</td></tr>\n",
       "\t<tr><th scope=row>06id90cellPROGENITORS</th><td>PedAML  </td><td>33228834</td><td>1</td><td>ca_ne_586_001_400_000_JAMIESON_SR_human-ensembl-grch38-r91</td><td>5/5/19 </td><td>06id90cellPROGENITORS</td><td>90 Progenitors</td><td>22390</td><td>10.0</td><td>PedAML  </td><td>Pediatric</td><td>AML </td><td>Prog</td><td>34+38+</td><td>BM</td><td>Completed</td><td>81721991</td></tr>\n",
       "\t<tr><th scope=row>04id78cellPROGENITORS</th><td>PedAML  </td><td>41665738</td><td>1</td><td>ca_ne_586_001_400_000_JAMIESON_SR_human-ensembl-grch38-r91</td><td>5/5/19 </td><td>04id78cellPROGENITORS</td><td>78 Progenitors</td><td>28678</td><td>10.0</td><td>PedAML  </td><td>Pediatric</td><td>AML </td><td>Prog</td><td>34+38+</td><td>PB</td><td>Completed</td><td>88894032</td></tr>\n",
       "\t<tr><th scope=row>06id00066PRO</th><td>PedAML  </td><td>30096534</td><td>1</td><td>ca_ne_618_001_400_070_JAMIESON_SR_human-ensembl-ghrc38-r91</td><td>6/26/19</td><td>06id00066PRO         </td><td>66 Progenitors</td><td>22666</td><td> 9.8</td><td>PedAML  </td><td>Pediatric</td><td>AML </td><td>Prog</td><td>34+38+</td><td>BM</td><td>Completed</td><td>77343883</td></tr>\n",
       "\t<tr><th scope=row>03id11474HPC</th><td>AdultAML</td><td>24344437</td><td>1</td><td>ca_ne_618_001_400_070_JAMIESON_SR_human-ensembl-ghrc38-r91</td><td>6/26/19</td><td>03id11474HPC         </td><td>11474 HPC     </td><td>11474</td><td> 9.6</td><td>AdultAML</td><td>Adult    </td><td>AML </td><td>Prog</td><td>34+38+</td><td>PB</td><td>Completed</td><td>79871449</td></tr>\n",
       "\t<tr><th scope=row>01id11251HPC</th><td>AdultAML</td><td>23597968</td><td>1</td><td>ca_ne_618_001_400_070_JAMIESON_SR_human-ensembl-ghrc38-r91</td><td>6/26/19</td><td>01id11251HPC         </td><td>11251 HPC     </td><td>11251</td><td> 9.3</td><td>AdultAML</td><td>Adult    </td><td>AML </td><td>Prog</td><td>34+38+</td><td>BM</td><td>Completed</td><td>80917720</td></tr>\n",
       "</tbody>\n",
       "</table>\n"
      ],
      "text/latex": [
       "A data.frame: 6 × 17\n",
       "\\begin{tabular}{r|lllllllllllllllll}\n",
       "  & group & lib.size & norm.factors & SequenceRun & SequenceDate & Sample & SampleName & Patient.ID & RIN & X & Adult.Pediatric & Disease & Cell.type & Sorted.Cell.Type & Tissue.Source & RNA.seq.status & Reads\\\\\n",
       "  & <fct> & <dbl> & <dbl> & <chr> & <chr> & <chr> & <chr> & <int> & <dbl> & <chr> & <chr> & <chr> & <chr> & <chr> & <chr> & <chr> & <int>\\\\\n",
       "\\hline\n",
       "\t02id38cellPROGENITORS & PedAML   & 33900321 & 1 & ca\\_ne\\_586\\_001\\_400\\_000\\_JAMIESON\\_SR\\_human-ensembl-grch38-r91 & 5/5/19  & 02id38cellPROGENITORS & 38 Progenitors & 32538 &  9.7 & PedAML   & Pediatric & AML  & Prog & 34+38+ & PB & Completed & 73196851\\\\\n",
       "\t06id90cellPROGENITORS & PedAML   & 33228834 & 1 & ca\\_ne\\_586\\_001\\_400\\_000\\_JAMIESON\\_SR\\_human-ensembl-grch38-r91 & 5/5/19  & 06id90cellPROGENITORS & 90 Progenitors & 22390 & 10.0 & PedAML   & Pediatric & AML  & Prog & 34+38+ & BM & Completed & 81721991\\\\\n",
       "\t04id78cellPROGENITORS & PedAML   & 41665738 & 1 & ca\\_ne\\_586\\_001\\_400\\_000\\_JAMIESON\\_SR\\_human-ensembl-grch38-r91 & 5/5/19  & 04id78cellPROGENITORS & 78 Progenitors & 28678 & 10.0 & PedAML   & Pediatric & AML  & Prog & 34+38+ & PB & Completed & 88894032\\\\\n",
       "\t06id00066PRO & PedAML   & 30096534 & 1 & ca\\_ne\\_618\\_001\\_400\\_070\\_JAMIESON\\_SR\\_human-ensembl-ghrc38-r91 & 6/26/19 & 06id00066PRO          & 66 Progenitors & 22666 &  9.8 & PedAML   & Pediatric & AML  & Prog & 34+38+ & BM & Completed & 77343883\\\\\n",
       "\t03id11474HPC & AdultAML & 24344437 & 1 & ca\\_ne\\_618\\_001\\_400\\_070\\_JAMIESON\\_SR\\_human-ensembl-ghrc38-r91 & 6/26/19 & 03id11474HPC          & 11474 HPC      & 11474 &  9.6 & AdultAML & Adult     & AML  & Prog & 34+38+ & PB & Completed & 79871449\\\\\n",
       "\t01id11251HPC & AdultAML & 23597968 & 1 & ca\\_ne\\_618\\_001\\_400\\_070\\_JAMIESON\\_SR\\_human-ensembl-ghrc38-r91 & 6/26/19 & 01id11251HPC          & 11251 HPC      & 11251 &  9.3 & AdultAML & Adult     & AML  & Prog & 34+38+ & BM & Completed & 80917720\\\\\n",
       "\\end{tabular}\n"
      ],
      "text/markdown": [
       "\n",
       "A data.frame: 6 × 17\n",
       "\n",
       "| <!--/--> | group &lt;fct&gt; | lib.size &lt;dbl&gt; | norm.factors &lt;dbl&gt; | SequenceRun &lt;chr&gt; | SequenceDate &lt;chr&gt; | Sample &lt;chr&gt; | SampleName &lt;chr&gt; | Patient.ID &lt;int&gt; | RIN &lt;dbl&gt; | X &lt;chr&gt; | Adult.Pediatric &lt;chr&gt; | Disease &lt;chr&gt; | Cell.type &lt;chr&gt; | Sorted.Cell.Type &lt;chr&gt; | Tissue.Source &lt;chr&gt; | RNA.seq.status &lt;chr&gt; | Reads &lt;int&gt; |\n",
       "|---|---|---|---|---|---|---|---|---|---|---|---|---|---|---|---|---|---|\n",
       "| 02id38cellPROGENITORS | PedAML   | 33900321 | 1 | ca_ne_586_001_400_000_JAMIESON_SR_human-ensembl-grch38-r91 | 5/5/19  | 02id38cellPROGENITORS | 38 Progenitors | 32538 |  9.7 | PedAML   | Pediatric | AML  | Prog | 34+38+ | PB | Completed | 73196851 |\n",
       "| 06id90cellPROGENITORS | PedAML   | 33228834 | 1 | ca_ne_586_001_400_000_JAMIESON_SR_human-ensembl-grch38-r91 | 5/5/19  | 06id90cellPROGENITORS | 90 Progenitors | 22390 | 10.0 | PedAML   | Pediatric | AML  | Prog | 34+38+ | BM | Completed | 81721991 |\n",
       "| 04id78cellPROGENITORS | PedAML   | 41665738 | 1 | ca_ne_586_001_400_000_JAMIESON_SR_human-ensembl-grch38-r91 | 5/5/19  | 04id78cellPROGENITORS | 78 Progenitors | 28678 | 10.0 | PedAML   | Pediatric | AML  | Prog | 34+38+ | PB | Completed | 88894032 |\n",
       "| 06id00066PRO | PedAML   | 30096534 | 1 | ca_ne_618_001_400_070_JAMIESON_SR_human-ensembl-ghrc38-r91 | 6/26/19 | 06id00066PRO          | 66 Progenitors | 22666 |  9.8 | PedAML   | Pediatric | AML  | Prog | 34+38+ | BM | Completed | 77343883 |\n",
       "| 03id11474HPC | AdultAML | 24344437 | 1 | ca_ne_618_001_400_070_JAMIESON_SR_human-ensembl-ghrc38-r91 | 6/26/19 | 03id11474HPC          | 11474 HPC      | 11474 |  9.6 | AdultAML | Adult     | AML  | Prog | 34+38+ | PB | Completed | 79871449 |\n",
       "| 01id11251HPC | AdultAML | 23597968 | 1 | ca_ne_618_001_400_070_JAMIESON_SR_human-ensembl-ghrc38-r91 | 6/26/19 | 01id11251HPC          | 11251 HPC      | 11251 |  9.3 | AdultAML | Adult     | AML  | Prog | 34+38+ | BM | Completed | 80917720 |\n",
       "\n"
      ],
      "text/plain": [
       "                      group    lib.size norm.factors\n",
       "02id38cellPROGENITORS PedAML   33900321 1           \n",
       "06id90cellPROGENITORS PedAML   33228834 1           \n",
       "04id78cellPROGENITORS PedAML   41665738 1           \n",
       "06id00066PRO          PedAML   30096534 1           \n",
       "03id11474HPC          AdultAML 24344437 1           \n",
       "01id11251HPC          AdultAML 23597968 1           \n",
       "                      SequenceRun                                               \n",
       "02id38cellPROGENITORS ca_ne_586_001_400_000_JAMIESON_SR_human-ensembl-grch38-r91\n",
       "06id90cellPROGENITORS ca_ne_586_001_400_000_JAMIESON_SR_human-ensembl-grch38-r91\n",
       "04id78cellPROGENITORS ca_ne_586_001_400_000_JAMIESON_SR_human-ensembl-grch38-r91\n",
       "06id00066PRO          ca_ne_618_001_400_070_JAMIESON_SR_human-ensembl-ghrc38-r91\n",
       "03id11474HPC          ca_ne_618_001_400_070_JAMIESON_SR_human-ensembl-ghrc38-r91\n",
       "01id11251HPC          ca_ne_618_001_400_070_JAMIESON_SR_human-ensembl-ghrc38-r91\n",
       "                      SequenceDate Sample                SampleName    \n",
       "02id38cellPROGENITORS 5/5/19       02id38cellPROGENITORS 38 Progenitors\n",
       "06id90cellPROGENITORS 5/5/19       06id90cellPROGENITORS 90 Progenitors\n",
       "04id78cellPROGENITORS 5/5/19       04id78cellPROGENITORS 78 Progenitors\n",
       "06id00066PRO          6/26/19      06id00066PRO          66 Progenitors\n",
       "03id11474HPC          6/26/19      03id11474HPC          11474 HPC     \n",
       "01id11251HPC          6/26/19      01id11251HPC          11251 HPC     \n",
       "                      Patient.ID RIN  X        Adult.Pediatric Disease\n",
       "02id38cellPROGENITORS 32538       9.7 PedAML   Pediatric       AML    \n",
       "06id90cellPROGENITORS 22390      10.0 PedAML   Pediatric       AML    \n",
       "04id78cellPROGENITORS 28678      10.0 PedAML   Pediatric       AML    \n",
       "06id00066PRO          22666       9.8 PedAML   Pediatric       AML    \n",
       "03id11474HPC          11474       9.6 AdultAML Adult           AML    \n",
       "01id11251HPC          11251       9.3 AdultAML Adult           AML    \n",
       "                      Cell.type Sorted.Cell.Type Tissue.Source RNA.seq.status\n",
       "02id38cellPROGENITORS Prog      34+38+           PB            Completed     \n",
       "06id90cellPROGENITORS Prog      34+38+           BM            Completed     \n",
       "04id78cellPROGENITORS Prog      34+38+           PB            Completed     \n",
       "06id00066PRO          Prog      34+38+           BM            Completed     \n",
       "03id11474HPC          Prog      34+38+           PB            Completed     \n",
       "01id11251HPC          Prog      34+38+           BM            Completed     \n",
       "                      Reads   \n",
       "02id38cellPROGENITORS 73196851\n",
       "06id90cellPROGENITORS 81721991\n",
       "04id78cellPROGENITORS 88894032\n",
       "06id00066PRO          77343883\n",
       "03id11474HPC          79871449\n",
       "01id11251HPC          80917720"
      ]
     },
     "metadata": {},
     "output_type": "display_data"
    },
    {
     "data": {
      "text/html": [
       "<table>\n",
       "<caption>A data.frame: 6 × 4</caption>\n",
       "<thead>\n",
       "\t<tr><th scope=col>ENSEMBL</th><th scope=col>ENTREZID</th><th scope=col>SYMBOL</th><th scope=col>gene_type</th></tr>\n",
       "\t<tr><th scope=col>&lt;chr&gt;</th><th scope=col>&lt;chr&gt;</th><th scope=col>&lt;chr&gt;</th><th scope=col>&lt;chr&gt;</th></tr>\n",
       "</thead>\n",
       "<tbody>\n",
       "\t<tr><td>ENSG00000000003</td><td>7105 </td><td>TSPAN6  </td><td>protein_coding</td></tr>\n",
       "\t<tr><td>ENSG00000000005</td><td>64102</td><td>TNMD    </td><td>protein_coding</td></tr>\n",
       "\t<tr><td>ENSG00000000419</td><td>8813 </td><td>DPM1    </td><td>protein_coding</td></tr>\n",
       "\t<tr><td>ENSG00000000457</td><td>57147</td><td>SCYL3   </td><td>protein_coding</td></tr>\n",
       "\t<tr><td>ENSG00000000460</td><td>55732</td><td>C1orf112</td><td>protein_coding</td></tr>\n",
       "\t<tr><td>ENSG00000000938</td><td>2268 </td><td>FGR     </td><td>protein_coding</td></tr>\n",
       "</tbody>\n",
       "</table>\n"
      ],
      "text/latex": [
       "A data.frame: 6 × 4\n",
       "\\begin{tabular}{r|llll}\n",
       " ENSEMBL & ENTREZID & SYMBOL & gene\\_type\\\\\n",
       " <chr> & <chr> & <chr> & <chr>\\\\\n",
       "\\hline\n",
       "\t ENSG00000000003 & 7105  & TSPAN6   & protein\\_coding\\\\\n",
       "\t ENSG00000000005 & 64102 & TNMD     & protein\\_coding\\\\\n",
       "\t ENSG00000000419 & 8813  & DPM1     & protein\\_coding\\\\\n",
       "\t ENSG00000000457 & 57147 & SCYL3    & protein\\_coding\\\\\n",
       "\t ENSG00000000460 & 55732 & C1orf112 & protein\\_coding\\\\\n",
       "\t ENSG00000000938 & 2268  & FGR      & protein\\_coding\\\\\n",
       "\\end{tabular}\n"
      ],
      "text/markdown": [
       "\n",
       "A data.frame: 6 × 4\n",
       "\n",
       "| ENSEMBL &lt;chr&gt; | ENTREZID &lt;chr&gt; | SYMBOL &lt;chr&gt; | gene_type &lt;chr&gt; |\n",
       "|---|---|---|---|\n",
       "| ENSG00000000003 | 7105  | TSPAN6   | protein_coding |\n",
       "| ENSG00000000005 | 64102 | TNMD     | protein_coding |\n",
       "| ENSG00000000419 | 8813  | DPM1     | protein_coding |\n",
       "| ENSG00000000457 | 57147 | SCYL3    | protein_coding |\n",
       "| ENSG00000000460 | 55732 | C1orf112 | protein_coding |\n",
       "| ENSG00000000938 | 2268  | FGR      | protein_coding |\n",
       "\n"
      ],
      "text/plain": [
       "  ENSEMBL         ENTREZID SYMBOL   gene_type     \n",
       "1 ENSG00000000003 7105     TSPAN6   protein_coding\n",
       "2 ENSG00000000005 64102    TNMD     protein_coding\n",
       "3 ENSG00000000419 8813     DPM1     protein_coding\n",
       "4 ENSG00000000457 57147    SCYL3    protein_coding\n",
       "5 ENSG00000000460 55732    C1orf112 protein_coding\n",
       "6 ENSG00000000938 2268     FGR      protein_coding"
      ]
     },
     "metadata": {},
     "output_type": "display_data"
    }
   ],
   "source": [
    "head(gDgeList.prog$counts)\n",
    "head(gDgeList.prog$samples)\n",
    "head(gDgeList.prog$genes)"
   ]
  },
  {
   "cell_type": "markdown",
   "metadata": {},
   "source": [
    "[Table of Contents](#Table-of-Contents)\n",
    "\n",
    "## Summary"
   ]
  },
  {
   "cell_type": "markdown",
   "metadata": {},
   "source": [
    "\n",
    "> **Gene annotations**\n",
    "* Human gene annotations were taken from the Gencode project, Release 19 (GRCh37.p13).\n",
    "\n",
    "> **Gene type filtering**\n",
    "* This analysis was limited to protein-coding genes. Of the original 57820 Ensembl genes in the dataset, 20345 are known coding genes.\n",
    "\n",
    "</div>"
   ]
  },
  {
   "cell_type": "markdown",
   "metadata": {},
   "source": [
    "Save the workspace objects for future reference:"
   ]
  },
  {
   "cell_type": "code",
   "execution_count": 154,
   "metadata": {},
   "outputs": [
    {
     "name": "stdout",
     "output_type": "stream",
     "text": [
      "[1] \"Output file: 20200228_DeWerf_Human_PediatricAML_data_integration_20200318124751.RData\"\n"
     ]
    }
   ],
   "source": [
    "writeWorkspaceImage(gInterimDir, gRunName)"
   ]
  },
  {
   "cell_type": "code",
   "execution_count": 103,
   "metadata": {},
   "outputs": [
    {
     "data": {
      "text/html": [
       "<table>\n",
       "<caption>A data.frame: 5 × 10</caption>\n",
       "<thead>\n",
       "\t<tr><th scope=col>transcript_id</th><th scope=col>gene_id</th><th scope=col>X03id78cellHSC_S3_R1_001.isoforms.results_length</th><th scope=col>X03id78cellHSC_S3_R1_001.isoforms.results_effective_length</th><th scope=col>X03id78cellHSC_S3_R1_001.isoforms.results_expected_count</th><th scope=col>X03id78cellHSC_S3_R1_001.isoforms.results_TPM</th><th scope=col>X03id78cellHSC_S3_R1_001.isoforms.results_FPKM</th><th scope=col>X03id78cellHSC_S3_R1_001.isoforms.results_IsoPct</th><th scope=col>X05pid25376ctHSC_S5_R1_001.isoforms.results_length</th><th scope=col>X05pid25376ctHSC_S5_R1_001.isoforms.results_effective_length</th></tr>\n",
       "\t<tr><th scope=col>&lt;chr&gt;</th><th scope=col>&lt;chr&gt;</th><th scope=col>&lt;int&gt;</th><th scope=col>&lt;dbl&gt;</th><th scope=col>&lt;dbl&gt;</th><th scope=col>&lt;dbl&gt;</th><th scope=col>&lt;dbl&gt;</th><th scope=col>&lt;dbl&gt;</th><th scope=col>&lt;int&gt;</th><th scope=col>&lt;dbl&gt;</th></tr>\n",
       "</thead>\n",
       "<tbody>\n",
       "\t<tr><td>ENST00000373020.4</td><td>ENSG00000000003.10</td><td>2206</td><td>2000.07</td><td>0</td><td>0.00</td><td>0.00</td><td>  0</td><td>2206</td><td>1993.42</td></tr>\n",
       "\t<tr><td>ENST00000494424.1</td><td>ENSG00000000003.10</td><td> 820</td><td> 614.07</td><td>1</td><td>0.07</td><td>0.05</td><td>100</td><td> 820</td><td> 607.43</td></tr>\n",
       "\t<tr><td>ENST00000496771.1</td><td>ENSG00000000003.10</td><td>1025</td><td> 819.07</td><td>0</td><td>0.00</td><td>0.00</td><td>  0</td><td>1025</td><td> 812.42</td></tr>\n",
       "\t<tr><td>ENST00000373031.4</td><td>ENSG00000000005.5 </td><td>1339</td><td>1133.07</td><td>0</td><td>0.00</td><td>0.00</td><td>  0</td><td>1339</td><td>1126.42</td></tr>\n",
       "\t<tr><td>ENST00000485971.1</td><td>ENSG00000000005.5 </td><td> 542</td><td> 336.09</td><td>0</td><td>0.00</td><td>0.00</td><td>  0</td><td> 542</td><td> 329.56</td></tr>\n",
       "</tbody>\n",
       "</table>\n"
      ],
      "text/latex": [
       "A data.frame: 5 × 10\n",
       "\\begin{tabular}{r|llllllllll}\n",
       " transcript\\_id & gene\\_id & X03id78cellHSC\\_S3\\_R1\\_001.isoforms.results\\_length & X03id78cellHSC\\_S3\\_R1\\_001.isoforms.results\\_effective\\_length & X03id78cellHSC\\_S3\\_R1\\_001.isoforms.results\\_expected\\_count & X03id78cellHSC\\_S3\\_R1\\_001.isoforms.results\\_TPM & X03id78cellHSC\\_S3\\_R1\\_001.isoforms.results\\_FPKM & X03id78cellHSC\\_S3\\_R1\\_001.isoforms.results\\_IsoPct & X05pid25376ctHSC\\_S5\\_R1\\_001.isoforms.results\\_length & X05pid25376ctHSC\\_S5\\_R1\\_001.isoforms.results\\_effective\\_length\\\\\n",
       " <chr> & <chr> & <int> & <dbl> & <dbl> & <dbl> & <dbl> & <dbl> & <int> & <dbl>\\\\\n",
       "\\hline\n",
       "\t ENST00000373020.4 & ENSG00000000003.10 & 2206 & 2000.07 & 0 & 0.00 & 0.00 &   0 & 2206 & 1993.42\\\\\n",
       "\t ENST00000494424.1 & ENSG00000000003.10 &  820 &  614.07 & 1 & 0.07 & 0.05 & 100 &  820 &  607.43\\\\\n",
       "\t ENST00000496771.1 & ENSG00000000003.10 & 1025 &  819.07 & 0 & 0.00 & 0.00 &   0 & 1025 &  812.42\\\\\n",
       "\t ENST00000373031.4 & ENSG00000000005.5  & 1339 & 1133.07 & 0 & 0.00 & 0.00 &   0 & 1339 & 1126.42\\\\\n",
       "\t ENST00000485971.1 & ENSG00000000005.5  &  542 &  336.09 & 0 & 0.00 & 0.00 &   0 &  542 &  329.56\\\\\n",
       "\\end{tabular}\n"
      ],
      "text/markdown": [
       "\n",
       "A data.frame: 5 × 10\n",
       "\n",
       "| transcript_id &lt;chr&gt; | gene_id &lt;chr&gt; | X03id78cellHSC_S3_R1_001.isoforms.results_length &lt;int&gt; | X03id78cellHSC_S3_R1_001.isoforms.results_effective_length &lt;dbl&gt; | X03id78cellHSC_S3_R1_001.isoforms.results_expected_count &lt;dbl&gt; | X03id78cellHSC_S3_R1_001.isoforms.results_TPM &lt;dbl&gt; | X03id78cellHSC_S3_R1_001.isoforms.results_FPKM &lt;dbl&gt; | X03id78cellHSC_S3_R1_001.isoforms.results_IsoPct &lt;dbl&gt; | X05pid25376ctHSC_S5_R1_001.isoforms.results_length &lt;int&gt; | X05pid25376ctHSC_S5_R1_001.isoforms.results_effective_length &lt;dbl&gt; |\n",
       "|---|---|---|---|---|---|---|---|---|---|\n",
       "| ENST00000373020.4 | ENSG00000000003.10 | 2206 | 2000.07 | 0 | 0.00 | 0.00 |   0 | 2206 | 1993.42 |\n",
       "| ENST00000494424.1 | ENSG00000000003.10 |  820 |  614.07 | 1 | 0.07 | 0.05 | 100 |  820 |  607.43 |\n",
       "| ENST00000496771.1 | ENSG00000000003.10 | 1025 |  819.07 | 0 | 0.00 | 0.00 |   0 | 1025 |  812.42 |\n",
       "| ENST00000373031.4 | ENSG00000000005.5  | 1339 | 1133.07 | 0 | 0.00 | 0.00 |   0 | 1339 | 1126.42 |\n",
       "| ENST00000485971.1 | ENSG00000000005.5  |  542 |  336.09 | 0 | 0.00 | 0.00 |   0 |  542 |  329.56 |\n",
       "\n"
      ],
      "text/plain": [
       "  transcript_id     gene_id           \n",
       "1 ENST00000373020.4 ENSG00000000003.10\n",
       "2 ENST00000494424.1 ENSG00000000003.10\n",
       "3 ENST00000496771.1 ENSG00000000003.10\n",
       "4 ENST00000373031.4 ENSG00000000005.5 \n",
       "5 ENST00000485971.1 ENSG00000000005.5 \n",
       "  X03id78cellHSC_S3_R1_001.isoforms.results_length\n",
       "1 2206                                            \n",
       "2  820                                            \n",
       "3 1025                                            \n",
       "4 1339                                            \n",
       "5  542                                            \n",
       "  X03id78cellHSC_S3_R1_001.isoforms.results_effective_length\n",
       "1 2000.07                                                   \n",
       "2  614.07                                                   \n",
       "3  819.07                                                   \n",
       "4 1133.07                                                   \n",
       "5  336.09                                                   \n",
       "  X03id78cellHSC_S3_R1_001.isoforms.results_expected_count\n",
       "1 0                                                       \n",
       "2 1                                                       \n",
       "3 0                                                       \n",
       "4 0                                                       \n",
       "5 0                                                       \n",
       "  X03id78cellHSC_S3_R1_001.isoforms.results_TPM\n",
       "1 0.00                                         \n",
       "2 0.07                                         \n",
       "3 0.00                                         \n",
       "4 0.00                                         \n",
       "5 0.00                                         \n",
       "  X03id78cellHSC_S3_R1_001.isoforms.results_FPKM\n",
       "1 0.00                                          \n",
       "2 0.05                                          \n",
       "3 0.00                                          \n",
       "4 0.00                                          \n",
       "5 0.00                                          \n",
       "  X03id78cellHSC_S3_R1_001.isoforms.results_IsoPct\n",
       "1   0                                             \n",
       "2 100                                             \n",
       "3   0                                             \n",
       "4   0                                             \n",
       "5   0                                             \n",
       "  X05pid25376ctHSC_S5_R1_001.isoforms.results_length\n",
       "1 2206                                              \n",
       "2  820                                              \n",
       "3 1025                                              \n",
       "4 1339                                              \n",
       "5  542                                              \n",
       "  X05pid25376ctHSC_S5_R1_001.isoforms.results_effective_length\n",
       "1 1993.42                                                     \n",
       "2  607.43                                                     \n",
       "3  812.42                                                     \n",
       "4 1126.42                                                     \n",
       "5  329.56                                                     "
      ]
     },
     "metadata": {},
     "output_type": "display_data"
    },
    {
     "data": {
      "text/html": [
       "<ol class=list-inline>\n",
       "\t<li>'1'</li>\n",
       "\t<li>'2'</li>\n",
       "\t<li>'3'</li>\n",
       "\t<li>'4'</li>\n",
       "\t<li>'5'</li>\n",
       "\t<li>'6'</li>\n",
       "</ol>\n"
      ],
      "text/latex": [
       "\\begin{enumerate*}\n",
       "\\item '1'\n",
       "\\item '2'\n",
       "\\item '3'\n",
       "\\item '4'\n",
       "\\item '5'\n",
       "\\item '6'\n",
       "\\end{enumerate*}\n"
      ],
      "text/markdown": [
       "1. '1'\n",
       "2. '2'\n",
       "3. '3'\n",
       "4. '4'\n",
       "5. '5'\n",
       "6. '6'\n",
       "\n",
       "\n"
      ],
      "text/plain": [
       "[1] \"1\" \"2\" \"3\" \"4\" \"5\" \"6\""
      ]
     },
     "metadata": {},
     "output_type": "display_data"
    },
    {
     "data": {
      "text/html": [
       "<table>\n",
       "<caption>A data.frame: 6 × 36</caption>\n",
       "<thead>\n",
       "\t<tr><th scope=col>X03id78cellHSC_S3_R1_001</th><th scope=col>X05pid25376ctHSC_S5_R1_001</th><th scope=col>X03x11379xHPCxxxxx_S3_R1_001</th><th scope=col>X06id00066PRO_S6_R1_001</th><th scope=col>X01id38cellHSC_S1_R1_001</th><th scope=col>X09x00020pxPLUSPLUS_S3_R1_001</th><th scope=col>X04id78cellPROGENITORS_S4_R1_001</th><th scope=col>X07x00023xPLUSPLUS_S1_R1_001</th><th scope=col>X02id11251HSC_S2_R1_001</th><th scope=col>X12x12484xPLUSMINS_S6_R1_001</th><th scope=col>⋯</th><th scope=col>X02id38cellPROGENITORS_S2_R1_001</th><th scope=col>X01pid24760ctHSC_S1_R1_001</th><th scope=col>X13x12488xPLUSMINS_S1_R1_001</th><th scope=col>X08x00020xPLUSMINS_S2_R1_001</th><th scope=col>X01id11251HPC_S1_R1_001</th><th scope=col>X11x00082xPLUSPLUS_S5_R1_001</th><th scope=col>X14x12488xPLUSPLUS_S2_R1_001</th><th scope=col>X05x00047xPLUSPLUS_S5_R1_001</th><th scope=col>X01x00077xPROGENIT_S1_R1_001</th><th scope=col>X03id11474HPC_S3_R1_001</th></tr>\n",
       "\t<tr><th scope=col>&lt;dbl&gt;</th><th scope=col>&lt;dbl&gt;</th><th scope=col>&lt;dbl&gt;</th><th scope=col>&lt;dbl&gt;</th><th scope=col>&lt;dbl&gt;</th><th scope=col>&lt;dbl&gt;</th><th scope=col>&lt;dbl&gt;</th><th scope=col>&lt;dbl&gt;</th><th scope=col>&lt;dbl&gt;</th><th scope=col>&lt;dbl&gt;</th><th scope=col>⋯</th><th scope=col>&lt;dbl&gt;</th><th scope=col>&lt;dbl&gt;</th><th scope=col>&lt;dbl&gt;</th><th scope=col>&lt;dbl&gt;</th><th scope=col>&lt;dbl&gt;</th><th scope=col>&lt;dbl&gt;</th><th scope=col>&lt;dbl&gt;</th><th scope=col>&lt;dbl&gt;</th><th scope=col>&lt;dbl&gt;</th><th scope=col>&lt;dbl&gt;</th></tr>\n",
       "</thead>\n",
       "<tbody>\n",
       "\t<tr><td>0.0</td><td>98</td><td>  0.00</td><td>  0.00</td><td>  0.00</td><td> 0.00</td><td> 0.0</td><td> 0.00</td><td>3.00</td><td>284.1</td><td>⋯</td><td>  0.00</td><td> 66.33</td><td> 54.0</td><td>482.65</td><td> 0.00</td><td>0</td><td> 10.00</td><td> 18.00</td><td> 0.00</td><td>  0.00</td></tr>\n",
       "\t<tr><td>1.0</td><td> 0</td><td>  0.00</td><td>  0.00</td><td>  0.00</td><td> 0.00</td><td> 0.0</td><td> 0.00</td><td>0.00</td><td>  0.0</td><td>⋯</td><td>  0.00</td><td>  3.67</td><td>  0.0</td><td> 15.51</td><td> 0.00</td><td>0</td><td>  0.00</td><td>  0.00</td><td> 0.00</td><td>  0.00</td></tr>\n",
       "\t<tr><td>0.0</td><td> 0</td><td>  0.00</td><td>  0.00</td><td>  0.00</td><td> 0.00</td><td> 0.0</td><td> 0.00</td><td>0.00</td><td> 22.9</td><td>⋯</td><td>  0.00</td><td>  0.00</td><td>  0.0</td><td>103.85</td><td> 0.00</td><td>0</td><td>  0.00</td><td>  0.00</td><td> 0.00</td><td>  0.00</td></tr>\n",
       "\t<tr><td>0.0</td><td> 0</td><td>  0.00</td><td>  0.00</td><td>  0.00</td><td> 0.00</td><td> 0.0</td><td> 0.00</td><td>0.00</td><td>  0.0</td><td>⋯</td><td>  0.00</td><td>  0.00</td><td>  0.0</td><td>  0.00</td><td> 0.00</td><td>0</td><td>  0.00</td><td>  0.00</td><td> 0.00</td><td>  0.00</td></tr>\n",
       "\t<tr><td>0.0</td><td> 0</td><td>  0.00</td><td>  0.00</td><td>  0.00</td><td> 0.00</td><td> 0.0</td><td> 0.00</td><td>0.00</td><td>  0.0</td><td>⋯</td><td>  0.00</td><td>  0.00</td><td>  0.0</td><td>  0.00</td><td> 0.00</td><td>0</td><td>  0.00</td><td>  0.00</td><td> 0.00</td><td>  0.00</td></tr>\n",
       "\t<tr><td>9.6</td><td> 0</td><td>218.22</td><td>186.92</td><td>121.03</td><td>67.75</td><td>54.9</td><td>98.29</td><td>9.44</td><td>129.7</td><td>⋯</td><td>273.36</td><td>130.79</td><td>299.7</td><td>  0.00</td><td>48.28</td><td>0</td><td>216.17</td><td>110.68</td><td>20.69</td><td>209.64</td></tr>\n",
       "</tbody>\n",
       "</table>\n"
      ],
      "text/latex": [
       "A data.frame: 6 × 36\n",
       "\\begin{tabular}{r|llllllllllllllllllllllllllllllllllll}\n",
       " X03id78cellHSC\\_S3\\_R1\\_001 & X05pid25376ctHSC\\_S5\\_R1\\_001 & X03x11379xHPCxxxxx\\_S3\\_R1\\_001 & X06id00066PRO\\_S6\\_R1\\_001 & X01id38cellHSC\\_S1\\_R1\\_001 & X09x00020pxPLUSPLUS\\_S3\\_R1\\_001 & X04id78cellPROGENITORS\\_S4\\_R1\\_001 & X07x00023xPLUSPLUS\\_S1\\_R1\\_001 & X02id11251HSC\\_S2\\_R1\\_001 & X12x12484xPLUSMINS\\_S6\\_R1\\_001 & cell05id90HSC\\_S6\\_R1\\_001 & X06id90cellPROGENITORS\\_S5\\_R1\\_001 & X04x00068xPLUSMINS\\_S4\\_R1\\_001 & X16x12451xPLUSMINS\\_S4\\_R1\\_001 & X06x00077xPLUSPLUS\\_S6\\_R1\\_001 & X03pid24474ctHSC\\_S3\\_R1\\_001 & X10x00082xPLUSMINS\\_S4\\_R1\\_001 & X15x12584xPLUSPLUS\\_S3\\_R1\\_001 & X17x12451xPLUSPLUS\\_S5\\_R1\\_001 & X18x10720xPLUSPLUS\\_S6\\_R1\\_001 & X04id11474HSC\\_S4\\_R1\\_001 & X06pid25376ctHPC\\_S6\\_R1\\_001 & X05id00066HSC\\_S5\\_R1\\_001 & X02x11379xHSCxxxxx\\_S2\\_R1\\_001 & X02pid24760ctHPC\\_S2\\_R1\\_001 & X04pid24474ctHPC\\_S4\\_R1\\_001 & X02id38cellPROGENITORS\\_S2\\_R1\\_001 & X01pid24760ctHSC\\_S1\\_R1\\_001 & X13x12488xPLUSMINS\\_S1\\_R1\\_001 & X08x00020xPLUSMINS\\_S2\\_R1\\_001 & X01id11251HPC\\_S1\\_R1\\_001 & X11x00082xPLUSPLUS\\_S5\\_R1\\_001 & X14x12488xPLUSPLUS\\_S2\\_R1\\_001 & X05x00047xPLUSPLUS\\_S5\\_R1\\_001 & X01x00077xPROGENIT\\_S1\\_R1\\_001 & X03id11474HPC\\_S3\\_R1\\_001\\\\\n",
       " <dbl> & <dbl> & <dbl> & <dbl> & <dbl> & <dbl> & <dbl> & <dbl> & <dbl> & <dbl> & <dbl> & <dbl> & <dbl> & <dbl> & <dbl> & <dbl> & <dbl> & <dbl> & <dbl> & <dbl> & <dbl> & <dbl> & <dbl> & <dbl> & <dbl> & <dbl> & <dbl> & <dbl> & <dbl> & <dbl> & <dbl> & <dbl> & <dbl> & <dbl> & <dbl> & <dbl>\\\\\n",
       "\\hline\n",
       "\t 0.0 & 98 &   0.00 &   0.00 &   0.00 &  0.00 &  0.0 &  0.00 & 3.00 & 284.1 &  0.00 &  0.00 &  0.00 & 0 &  49.00 & 4 & 57 & 13.12 &  0.0 &  21.00 &   0.00 &  47.0 &   0.00 &   0.00 &  35.00 & 116.00 &   0.00 &  66.33 &  54.0 & 482.65 &  0.00 & 0 &  10.00 &  18.00 &  0.00 &   0.00\\\\\n",
       "\t 1.0 &  0 &   0.00 &   0.00 &   0.00 &  0.00 &  0.0 &  0.00 & 0.00 &   0.0 &  0.00 &  0.00 &  0.00 & 0 &   0.00 & 0 &  0 &  1.88 &  0.0 &   0.00 &   0.00 &   0.0 &   0.00 &   0.00 &   0.00 &   0.00 &   0.00 &   3.67 &   0.0 &  15.51 &  0.00 & 0 &   0.00 &   0.00 &  0.00 &   0.00\\\\\n",
       "\t 0.0 &  0 &   0.00 &   0.00 &   0.00 &  0.00 &  0.0 &  0.00 & 0.00 &  22.9 &  0.00 &  0.00 &  0.00 & 0 &   0.00 & 0 &  0 &  0.00 &  0.0 &   0.00 &   0.00 &   0.0 &   0.00 &   0.00 &   0.00 &   0.00 &   0.00 &   0.00 &   0.0 & 103.85 &  0.00 & 0 &   0.00 &   0.00 &  0.00 &   0.00\\\\\n",
       "\t 0.0 &  0 &   0.00 &   0.00 &   0.00 &  0.00 &  0.0 &  0.00 & 0.00 &   0.0 &  0.00 &  0.00 &  0.00 & 0 &   0.00 & 0 &  0 &  0.00 &  0.0 &   0.00 &   0.00 &   0.0 &   0.00 &   0.00 &   0.00 &   0.00 &   0.00 &   0.00 &   0.0 &   0.00 &  0.00 & 0 &   0.00 &   0.00 &  0.00 &   0.00\\\\\n",
       "\t 0.0 &  0 &   0.00 &   0.00 &   0.00 &  0.00 &  0.0 &  0.00 & 0.00 &   0.0 &  0.00 &  0.00 &  0.00 & 0 &   0.00 & 0 &  0 &  0.00 &  0.0 &   0.00 &   0.00 &   0.0 &   0.00 &   0.00 &   0.00 &   0.00 &   0.00 &   0.00 &   0.0 &   0.00 &  0.00 & 0 &   0.00 &   0.00 &  0.00 &   0.00\\\\\n",
       "\t 9.6 &  0 & 218.22 & 186.92 & 121.03 & 67.75 & 54.9 & 98.29 & 9.44 & 129.7 & 91.99 & 39.02 & 38.76 & 0 & 416.92 & 0 &  0 &  0.00 & 21.2 & 339.97 & 194.66 & 286.6 & 144.24 & 217.48 & 344.74 &  58.79 & 273.36 & 130.79 & 299.7 &   0.00 & 48.28 & 0 & 216.17 & 110.68 & 20.69 & 209.64\\\\\n",
       "\\end{tabular}\n"
      ],
      "text/markdown": [
       "\n",
       "A data.frame: 6 × 36\n",
       "\n",
       "| X03id78cellHSC_S3_R1_001 &lt;dbl&gt; | X05pid25376ctHSC_S5_R1_001 &lt;dbl&gt; | X03x11379xHPCxxxxx_S3_R1_001 &lt;dbl&gt; | X06id00066PRO_S6_R1_001 &lt;dbl&gt; | X01id38cellHSC_S1_R1_001 &lt;dbl&gt; | X09x00020pxPLUSPLUS_S3_R1_001 &lt;dbl&gt; | X04id78cellPROGENITORS_S4_R1_001 &lt;dbl&gt; | X07x00023xPLUSPLUS_S1_R1_001 &lt;dbl&gt; | X02id11251HSC_S2_R1_001 &lt;dbl&gt; | X12x12484xPLUSMINS_S6_R1_001 &lt;dbl&gt; | ⋯ ⋯ | X02id38cellPROGENITORS_S2_R1_001 &lt;dbl&gt; | X01pid24760ctHSC_S1_R1_001 &lt;dbl&gt; | X13x12488xPLUSMINS_S1_R1_001 &lt;dbl&gt; | X08x00020xPLUSMINS_S2_R1_001 &lt;dbl&gt; | X01id11251HPC_S1_R1_001 &lt;dbl&gt; | X11x00082xPLUSPLUS_S5_R1_001 &lt;dbl&gt; | X14x12488xPLUSPLUS_S2_R1_001 &lt;dbl&gt; | X05x00047xPLUSPLUS_S5_R1_001 &lt;dbl&gt; | X01x00077xPROGENIT_S1_R1_001 &lt;dbl&gt; | X03id11474HPC_S3_R1_001 &lt;dbl&gt; |\n",
       "|---|---|---|---|---|---|---|---|---|---|---|---|---|---|---|---|---|---|---|---|---|\n",
       "| 0.0 | 98 |   0.00 |   0.00 |   0.00 |  0.00 |  0.0 |  0.00 | 3.00 | 284.1 | ⋯ |   0.00 |  66.33 |  54.0 | 482.65 |  0.00 | 0 |  10.00 |  18.00 |  0.00 |   0.00 |\n",
       "| 1.0 |  0 |   0.00 |   0.00 |   0.00 |  0.00 |  0.0 |  0.00 | 0.00 |   0.0 | ⋯ |   0.00 |   3.67 |   0.0 |  15.51 |  0.00 | 0 |   0.00 |   0.00 |  0.00 |   0.00 |\n",
       "| 0.0 |  0 |   0.00 |   0.00 |   0.00 |  0.00 |  0.0 |  0.00 | 0.00 |  22.9 | ⋯ |   0.00 |   0.00 |   0.0 | 103.85 |  0.00 | 0 |   0.00 |   0.00 |  0.00 |   0.00 |\n",
       "| 0.0 |  0 |   0.00 |   0.00 |   0.00 |  0.00 |  0.0 |  0.00 | 0.00 |   0.0 | ⋯ |   0.00 |   0.00 |   0.0 |   0.00 |  0.00 | 0 |   0.00 |   0.00 |  0.00 |   0.00 |\n",
       "| 0.0 |  0 |   0.00 |   0.00 |   0.00 |  0.00 |  0.0 |  0.00 | 0.00 |   0.0 | ⋯ |   0.00 |   0.00 |   0.0 |   0.00 |  0.00 | 0 |   0.00 |   0.00 |  0.00 |   0.00 |\n",
       "| 9.6 |  0 | 218.22 | 186.92 | 121.03 | 67.75 | 54.9 | 98.29 | 9.44 | 129.7 | ⋯ | 273.36 | 130.79 | 299.7 |   0.00 | 48.28 | 0 | 216.17 | 110.68 | 20.69 | 209.64 |\n",
       "\n"
      ],
      "text/plain": [
       "  X03id78cellHSC_S3_R1_001 X05pid25376ctHSC_S5_R1_001\n",
       "1 0.0                      98                        \n",
       "2 1.0                       0                        \n",
       "3 0.0                       0                        \n",
       "4 0.0                       0                        \n",
       "5 0.0                       0                        \n",
       "6 9.6                       0                        \n",
       "  X03x11379xHPCxxxxx_S3_R1_001 X06id00066PRO_S6_R1_001 X01id38cellHSC_S1_R1_001\n",
       "1   0.00                         0.00                    0.00                  \n",
       "2   0.00                         0.00                    0.00                  \n",
       "3   0.00                         0.00                    0.00                  \n",
       "4   0.00                         0.00                    0.00                  \n",
       "5   0.00                         0.00                    0.00                  \n",
       "6 218.22                       186.92                  121.03                  \n",
       "  X09x00020pxPLUSPLUS_S3_R1_001 X04id78cellPROGENITORS_S4_R1_001\n",
       "1  0.00                          0.0                            \n",
       "2  0.00                          0.0                            \n",
       "3  0.00                          0.0                            \n",
       "4  0.00                          0.0                            \n",
       "5  0.00                          0.0                            \n",
       "6 67.75                         54.9                            \n",
       "  X07x00023xPLUSPLUS_S1_R1_001 X02id11251HSC_S2_R1_001\n",
       "1  0.00                        3.00                   \n",
       "2  0.00                        0.00                   \n",
       "3  0.00                        0.00                   \n",
       "4  0.00                        0.00                   \n",
       "5  0.00                        0.00                   \n",
       "6 98.29                        9.44                   \n",
       "  X12x12484xPLUSMINS_S6_R1_001 ⋯ X02id38cellPROGENITORS_S2_R1_001\n",
       "1 284.1                        ⋯   0.00                          \n",
       "2   0.0                        ⋯   0.00                          \n",
       "3  22.9                        ⋯   0.00                          \n",
       "4   0.0                        ⋯   0.00                          \n",
       "5   0.0                        ⋯   0.00                          \n",
       "6 129.7                        ⋯ 273.36                          \n",
       "  X01pid24760ctHSC_S1_R1_001 X13x12488xPLUSMINS_S1_R1_001\n",
       "1  66.33                      54.0                       \n",
       "2   3.67                       0.0                       \n",
       "3   0.00                       0.0                       \n",
       "4   0.00                       0.0                       \n",
       "5   0.00                       0.0                       \n",
       "6 130.79                     299.7                       \n",
       "  X08x00020xPLUSMINS_S2_R1_001 X01id11251HPC_S1_R1_001\n",
       "1 482.65                        0.00                  \n",
       "2  15.51                        0.00                  \n",
       "3 103.85                        0.00                  \n",
       "4   0.00                        0.00                  \n",
       "5   0.00                        0.00                  \n",
       "6   0.00                       48.28                  \n",
       "  X11x00082xPLUSPLUS_S5_R1_001 X14x12488xPLUSPLUS_S2_R1_001\n",
       "1 0                             10.00                      \n",
       "2 0                              0.00                      \n",
       "3 0                              0.00                      \n",
       "4 0                              0.00                      \n",
       "5 0                              0.00                      \n",
       "6 0                            216.17                      \n",
       "  X05x00047xPLUSPLUS_S5_R1_001 X01x00077xPROGENIT_S1_R1_001\n",
       "1  18.00                        0.00                       \n",
       "2   0.00                        0.00                       \n",
       "3   0.00                        0.00                       \n",
       "4   0.00                        0.00                       \n",
       "5   0.00                        0.00                       \n",
       "6 110.68                       20.69                       \n",
       "  X03id11474HPC_S3_R1_001\n",
       "1   0.00                 \n",
       "2   0.00                 \n",
       "3   0.00                 \n",
       "4   0.00                 \n",
       "5   0.00                 \n",
       "6 209.64                 "
      ]
     },
     "metadata": {},
     "output_type": "display_data"
    }
   ],
   "source": [
    "iso_counts_all <- read.csv(file=paste0(\"../inputs/all_isoforms_results.txt\"), sep=\"\\t\", stringsAsFactors=FALSE, header=TRUE)\n",
    "iso_counts <- iso_counts_all[,sapply(colnames(iso_counts_all), function(x) any(grepl(\".results_expected_count\",x)))]\n",
    "colnames(iso_counts) <- gsub(\".isoforms.results_expected_count\",\"\", colnames(iso_counts))\n",
    "row.names(iso_counts) <- iso_counts$gene_id\n",
    "iso_counts_all[1:5,1:10]\n",
    "head(rownames(iso_counts_all))\n",
    "head(iso_counts)\n",
    "                     "
   ]
  },
  {
   "cell_type": "code",
   "execution_count": 102,
   "metadata": {},
   "outputs": [
    {
     "data": {
      "text/html": [
       "'data.frame'"
      ],
      "text/latex": [
       "'data.frame'"
      ],
      "text/markdown": [
       "'data.frame'"
      ],
      "text/plain": [
       "[1] \"data.frame\""
      ]
     },
     "metadata": {},
     "output_type": "display_data"
    },
    {
     "data": {
      "text/html": [
       "<ol class=list-inline>\n",
       "\t<li>'1'</li>\n",
       "\t<li>'2'</li>\n",
       "\t<li>'3'</li>\n",
       "\t<li>'4'</li>\n",
       "\t<li>'5'</li>\n",
       "\t<li>'6'</li>\n",
       "</ol>\n"
      ],
      "text/latex": [
       "\\begin{enumerate*}\n",
       "\\item '1'\n",
       "\\item '2'\n",
       "\\item '3'\n",
       "\\item '4'\n",
       "\\item '5'\n",
       "\\item '6'\n",
       "\\end{enumerate*}\n"
      ],
      "text/markdown": [
       "1. '1'\n",
       "2. '2'\n",
       "3. '3'\n",
       "4. '4'\n",
       "5. '5'\n",
       "6. '6'\n",
       "\n",
       "\n"
      ],
      "text/plain": [
       "[1] \"1\" \"2\" \"3\" \"4\" \"5\" \"6\""
      ]
     },
     "metadata": {},
     "output_type": "display_data"
    },
    {
     "data": {
      "text/html": [
       "<table>\n",
       "<caption>A data.frame: 5 × 5</caption>\n",
       "<thead>\n",
       "\t<tr><th scope=col>X03id78cellHSC_S3_R1_001</th><th scope=col>X05pid25376ctHSC_S5_R1_001</th><th scope=col>X03x11379xHPCxxxxx_S3_R1_001</th><th scope=col>X06id00066PRO_S6_R1_001</th><th scope=col>X01id38cellHSC_S1_R1_001</th></tr>\n",
       "\t<tr><th scope=col>&lt;dbl&gt;</th><th scope=col>&lt;dbl&gt;</th><th scope=col>&lt;dbl&gt;</th><th scope=col>&lt;dbl&gt;</th><th scope=col>&lt;dbl&gt;</th></tr>\n",
       "</thead>\n",
       "<tbody>\n",
       "\t<tr><td>0</td><td>98</td><td>0</td><td>0</td><td>0</td></tr>\n",
       "\t<tr><td>1</td><td> 0</td><td>0</td><td>0</td><td>0</td></tr>\n",
       "\t<tr><td>0</td><td> 0</td><td>0</td><td>0</td><td>0</td></tr>\n",
       "\t<tr><td>0</td><td> 0</td><td>0</td><td>0</td><td>0</td></tr>\n",
       "\t<tr><td>0</td><td> 0</td><td>0</td><td>0</td><td>0</td></tr>\n",
       "</tbody>\n",
       "</table>\n"
      ],
      "text/latex": [
       "A data.frame: 5 × 5\n",
       "\\begin{tabular}{r|lllll}\n",
       " X03id78cellHSC\\_S3\\_R1\\_001 & X05pid25376ctHSC\\_S5\\_R1\\_001 & X03x11379xHPCxxxxx\\_S3\\_R1\\_001 & X06id00066PRO\\_S6\\_R1\\_001 & X01id38cellHSC\\_S1\\_R1\\_001\\\\\n",
       " <dbl> & <dbl> & <dbl> & <dbl> & <dbl>\\\\\n",
       "\\hline\n",
       "\t 0 & 98 & 0 & 0 & 0\\\\\n",
       "\t 1 &  0 & 0 & 0 & 0\\\\\n",
       "\t 0 &  0 & 0 & 0 & 0\\\\\n",
       "\t 0 &  0 & 0 & 0 & 0\\\\\n",
       "\t 0 &  0 & 0 & 0 & 0\\\\\n",
       "\\end{tabular}\n"
      ],
      "text/markdown": [
       "\n",
       "A data.frame: 5 × 5\n",
       "\n",
       "| X03id78cellHSC_S3_R1_001 &lt;dbl&gt; | X05pid25376ctHSC_S5_R1_001 &lt;dbl&gt; | X03x11379xHPCxxxxx_S3_R1_001 &lt;dbl&gt; | X06id00066PRO_S6_R1_001 &lt;dbl&gt; | X01id38cellHSC_S1_R1_001 &lt;dbl&gt; |\n",
       "|---|---|---|---|---|\n",
       "| 0 | 98 | 0 | 0 | 0 |\n",
       "| 1 |  0 | 0 | 0 | 0 |\n",
       "| 0 |  0 | 0 | 0 | 0 |\n",
       "| 0 |  0 | 0 | 0 | 0 |\n",
       "| 0 |  0 | 0 | 0 | 0 |\n",
       "\n"
      ],
      "text/plain": [
       "  X03id78cellHSC_S3_R1_001 X05pid25376ctHSC_S5_R1_001\n",
       "1 0                        98                        \n",
       "2 1                         0                        \n",
       "3 0                         0                        \n",
       "4 0                         0                        \n",
       "5 0                         0                        \n",
       "  X03x11379xHPCxxxxx_S3_R1_001 X06id00066PRO_S6_R1_001 X01id38cellHSC_S1_R1_001\n",
       "1 0                            0                       0                       \n",
       "2 0                            0                       0                       \n",
       "3 0                            0                       0                       \n",
       "4 0                            0                       0                       \n",
       "5 0                            0                       0                       "
      ]
     },
     "metadata": {},
     "output_type": "display_data"
    },
    {
     "data": {
      "text/html": [
       "<dl>\n",
       "\t<dt>$ENST00000368471</dt>\n",
       "\t\t<dd></dd>\n",
       "\t<dt>$ENST00000368474</dt>\n",
       "\t\t<dd></dd>\n",
       "</dl>\n"
      ],
      "text/latex": [
       "\\begin{description}\n",
       "\\item[\\$ENST00000368471] \n",
       "\\item[\\$ENST00000368474] \n",
       "\\end{description}\n"
      ],
      "text/markdown": [
       "$ENST00000368471\n",
       ":   \n",
       "$ENST00000368474\n",
       ":   \n",
       "\n",
       "\n"
      ],
      "text/plain": [
       "$ENST00000368471\n",
       "integer(0)\n",
       "\n",
       "$ENST00000368474\n",
       "integer(0)\n"
      ]
     },
     "metadata": {},
     "output_type": "display_data"
    },
    {
     "ename": "ERROR",
     "evalue": "Error in xj[i]: invalid subscript type 'list'\n",
     "output_type": "error",
     "traceback": [
      "Error in xj[i]: invalid subscript type 'list'\nTraceback:\n",
      "1. iso_counts[sapply(ADAR.tx, function(x) grep(x, gsub(\"[.],*$\", \n .     \"\", rownames(iso_counts)))), ]",
      "2. `[.data.frame`(iso_counts, sapply(ADAR.tx, function(x) grep(x, \n .     gsub(\"[.],*$\", \"\", rownames(iso_counts)))), )"
     ]
    }
   ],
   "source": [
    "class(iso_counts)\n",
    "head(rownames(iso_counts))\n",
    "ADAR.tx <- c(\"ENST00000368471\", \"ENST00000368474\")\n",
    "iso_counts[1:5,1:5]\n",
    "sapply(ADAR.tx, function(x) grep(x, gsub(\"[.].*$\", \"\", rownames(iso_counts))))\n",
    "iso_counts[sapply(ADAR.tx, function(x) grep(x, gsub(\"[.],*$\", \"\", rownames(iso_counts)))),]\n"
   ]
  },
  {
   "cell_type": "markdown",
   "metadata": {},
   "source": [
    "[Table of Contents](#Table-of-Contents)\n",
    "\n",
    "## Citations\n",
    "\n",
    "1. Law CW, Alhamdoosh M, Su S, Smyth GK, Ritchie ME. RNA-seq analysis is easy as 1-2-3 with limma, Glimma and edgeR. Version 2. F1000Res. 2016 Jun 17 [revised 2016 Jan 1];5:1408.\n",
    "2. Robinson MD, McCarthy DJ and Smyth GK (2010). edgeR: a Bioconductor package for differential expression analysis of digital gene expression data. Bioinformatics 26, 139-140.\n",
    "3. Huber W, Carey VJ, Gentleman R, Anders S, Carlson M, Carvalho BS, Bravo HC, Davis S, Gatto L, Girke T, Gottardo R, Hahne F, Hansen KD, Irizarry RA, Lawrence M, Love MI, MacDonald J, Obenchain V, Oleś AK, Pagès H, Reyes A, Shannon P, Smyth GK, Tenenbaum D, Waldron L, Morgan M. Orchestrating high-throughput genomic analysis with Bioconductor. Nat Methods. 2015 Feb;12(2):115-21.\n",
    "4. R Core Team (2016). R: A language and environment for statistical computing. R Foundation for Statistical Computing, Vienna, Austria. URL https://www.R-project.org/."
   ]
  },
  {
   "cell_type": "markdown",
   "metadata": {},
   "source": [
    "[Table of Contents](#Table-of-Contents)\n",
    "\n",
    "## Appendix: R Session Info"
   ]
  },
  {
   "cell_type": "code",
   "execution_count": 89,
   "metadata": {},
   "outputs": [
    {
     "data": {
      "text/plain": [
       "[1] \"2020-03-03 14:20:17 PST\""
      ]
     },
     "metadata": {},
     "output_type": "display_data"
    },
    {
     "data": {
      "text/plain": [
       "R version 3.4.3 (2017-11-30)\n",
       "Platform: x86_64-pc-linux-gnu (64-bit)\n",
       "Running under: Ubuntu 18.04.3 LTS\n",
       "\n",
       "Matrix products: default\n",
       "BLAS: /mnt/data1/tomw/anaconda2/lib/R/lib/libRblas.so\n",
       "LAPACK: /mnt/data1/tomw/anaconda2/lib/R/lib/libRlapack.so\n",
       "\n",
       "locale:\n",
       " [1] LC_CTYPE=en_US.UTF-8       LC_NUMERIC=C              \n",
       " [3] LC_TIME=en_US.UTF-8        LC_COLLATE=en_US.UTF-8    \n",
       " [5] LC_MONETARY=en_US.UTF-8    LC_MESSAGES=en_US.UTF-8   \n",
       " [7] LC_PAPER=en_US.UTF-8       LC_NAME=C                 \n",
       " [9] LC_ADDRESS=C               LC_TELEPHONE=C            \n",
       "[11] LC_MEASUREMENT=en_US.UTF-8 LC_IDENTIFICATION=C       \n",
       "\n",
       "attached base packages:\n",
       "[1] parallel  stats4    stats     graphics  grDevices utils     datasets \n",
       "[8] methods   base     \n",
       "\n",
       "other attached packages:\n",
       " [1] RColorBrewer_1.1-2                     \n",
       " [2] edgeR_3.20.9                           \n",
       " [3] limma_3.34.9                           \n",
       " [4] Homo.sapiens_1.3.1                     \n",
       " [5] TxDb.Hsapiens.UCSC.hg19.knownGene_3.2.2\n",
       " [6] org.Hs.eg.db_3.5.0                     \n",
       " [7] GO.db_3.5.0                            \n",
       " [8] OrganismDbi_1.20.0                     \n",
       " [9] GenomicFeatures_1.30.3                 \n",
       "[10] GenomicRanges_1.30.3                   \n",
       "[11] GenomeInfoDb_1.14.0                    \n",
       "[12] AnnotationDbi_1.40.0                   \n",
       "[13] IRanges_2.12.0                         \n",
       "[14] S4Vectors_0.16.0                       \n",
       "[15] Biobase_2.38.0                         \n",
       "[16] BiocGenerics_0.24.0                    \n",
       "[17] RevoUtils_10.0.8                       \n",
       "[18] RevoUtilsMath_10.0.1                   \n",
       "\n",
       "loaded via a namespace (and not attached):\n",
       " [1] locfit_1.5-9.1             Rcpp_1.0.1                \n",
       " [3] lattice_0.20-38            prettyunits_1.0.2         \n",
       " [5] Rsamtools_1.30.0           Biostrings_2.46.0         \n",
       " [7] zeallot_0.1.0              assertthat_0.2.1          \n",
       " [9] digest_0.6.19              IRdisplay_0.7.0           \n",
       "[11] R6_2.4.0                   repr_1.0.1                \n",
       "[13] backports_1.1.4            RSQLite_2.1.1             \n",
       "[15] evaluate_0.14              httr_1.4.0                \n",
       "[17] BiocInstaller_1.28.0       pillar_1.4.1              \n",
       "[19] zlibbioc_1.24.0            rlang_0.3.1               \n",
       "[21] progress_1.2.2             uuid_0.1-2                \n",
       "[23] blob_1.1.1                 Matrix_1.2-17             \n",
       "[25] RMySQL_0.10.17             BiocParallel_1.12.0       \n",
       "[27] stringr_1.4.0              RCurl_1.95-4.12           \n",
       "[29] bit_1.1-14                 biomaRt_2.34.2            \n",
       "[31] DelayedArray_0.4.1         compiler_3.4.3            \n",
       "[33] rtracklayer_1.38.3         pkgconfig_2.0.2           \n",
       "[35] base64enc_0.1-3            htmltools_0.3.6           \n",
       "[37] SummarizedExperiment_1.8.1 GenomeInfoDbData_1.0.0    \n",
       "[39] matrixStats_0.54.0         XML_3.98-1.20             \n",
       "[41] crayon_1.3.4               GenomicAlignments_1.14.2  \n",
       "[43] bitops_1.0-6               grid_3.4.3                \n",
       "[45] RBGL_1.54.0                jsonlite_1.6              \n",
       "[47] DBI_1.0.0                  magrittr_1.5              \n",
       "[49] graph_1.56.0               stringi_1.4.3             \n",
       "[51] XVector_0.18.0             vctrs_0.1.0               \n",
       "[53] IRkernel_1.0.1             tools_3.4.3               \n",
       "[55] bit64_0.9-7                hms_0.4.2                 \n",
       "[57] memoise_1.1.0              pbdZMQ_0.3-3              "
      ]
     },
     "metadata": {},
     "output_type": "display_data"
    }
   ],
   "source": [
    "Sys.time()\n",
    "sessionInfo()"
   ]
  },
  {
   "cell_type": "markdown",
   "metadata": {},
   "source": [
    "[Table of Contents](#Table-of-Contents)\n",
    "\n",
    "Copyright (c) 2018 UC San Diego Center for Computational Biology & Bioinformatics under the MIT License\n",
    "\n",
    "Notebook template by Amanda Birmingham"
   ]
  }
 ],
 "metadata": {
  "kernelspec": {
   "display_name": "R",
   "language": "R",
   "name": "ir"
  },
  "language_info": {
   "codemirror_mode": "r",
   "file_extension": ".r",
   "mimetype": "text/x-r-source",
   "name": "R",
   "pygments_lexer": "r",
   "version": "4.0.5"
  }
 },
 "nbformat": 4,
 "nbformat_minor": 2
}
