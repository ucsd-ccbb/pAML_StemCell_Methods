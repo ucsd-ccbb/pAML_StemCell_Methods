{
 "cells": [
  {
   "cell_type": "markdown",
   "metadata": {},
   "source": [
    "# Gencode Annotation Parsing for RNASeq notebooks\n",
    "\n",
    "* Art Nasamran, CCBB <cnasamran@ucsd.edu> \n",
    "* Adapted from notebook/code by: Kathleen Fisch, Ph.D. from \"CCBB_RNAseq_Differential_Expression_Notebook.html/ipynb\" circa 2017 and my gencodev28_annot.R script for Rattus_norvegicus.Rnor_6.0.92.gtf.\n",
    "* March 2019\n",
    "* **WARNING: Loading and parsing the gtf file is memory intensive. Not recommended for computers with <= 4GB of RAM.**\n",
    "\n",
    "The gencode annotation file, more commonly seen as \"ANNOT.Rdata\" in CCBB's RNASeq notebooks, is primarily used as a reference to distinguish between coding and non-coding RNAs. This notebook parses a gencode annotation file and creates an Rdata reference. [Helpful table of gene/transcript biotypes](https://www.gencodegenes.org/pages/biotypes.html) for distinguishing protein coding vs non-coding genes."
   ]
  },
  {
   "cell_type": "markdown",
   "metadata": {},
   "source": [
    "# Load annotation file\n",
    "* This notebook uses [Human annotation Release 29 (GRCh38.p12 Ensembl 94)](ftp://ftp.ebi.ac.uk/pub/databases/gencode/Gencode_human/release_29/gencode.v29.annotation.gtf.gz). However, any gencode annotation file should work with minimal code modifications.\n",
    "* Downloaded the Comprehensive gene annotation; CHR; GTF file"
   ]
  },
  {
   "cell_type": "code",
   "execution_count": 2,
   "metadata": {},
   "outputs": [],
   "source": [
    "## Do not run until location of gtf file specified ## \n",
    "gtf <- read.csv(\"../inputs/gencode.v29.annotation.gtf\", skip = 5, header = FALSE, sep = \"\\t\")\n",
    "# First 5 lines contain description, provider, contact, format, and date information"
   ]
  },
  {
   "cell_type": "code",
   "execution_count": 3,
   "metadata": {},
   "outputs": [
    {
     "data": {
      "text/html": [
       "<table>\n",
       "<caption>A data.frame: 6 × 9</caption>\n",
       "<thead>\n",
       "\t<tr><th scope=col>V1</th><th scope=col>V2</th><th scope=col>V3</th><th scope=col>V4</th><th scope=col>V5</th><th scope=col>V6</th><th scope=col>V7</th><th scope=col>V8</th><th scope=col>V9</th></tr>\n",
       "\t<tr><th scope=col>&lt;fct&gt;</th><th scope=col>&lt;fct&gt;</th><th scope=col>&lt;fct&gt;</th><th scope=col>&lt;int&gt;</th><th scope=col>&lt;int&gt;</th><th scope=col>&lt;fct&gt;</th><th scope=col>&lt;fct&gt;</th><th scope=col>&lt;fct&gt;</th><th scope=col>&lt;fct&gt;</th></tr>\n",
       "</thead>\n",
       "<tbody>\n",
       "\t<tr><td>chr1</td><td>HAVANA</td><td>gene      </td><td>11869</td><td>14409</td><td>.</td><td>+</td><td>.</td><td>gene_id ENSG00000223972.5; gene_type transcribed_unprocessed_pseudogene; gene_name DDX11L1; level 2; havana_gene OTTHUMG00000000961.2;                                                                                                                                                                                                                                    </td></tr>\n",
       "\t<tr><td>chr1</td><td>HAVANA</td><td>transcript</td><td>11869</td><td>14409</td><td>.</td><td>+</td><td>.</td><td>gene_id ENSG00000223972.5; transcript_id ENST00000456328.2; gene_type transcribed_unprocessed_pseudogene; gene_name DDX11L1; transcript_type processed_transcript; transcript_name DDX11L1-202; level 2; transcript_support_level 1; tag basic; havana_gene OTTHUMG00000000961.2; havana_transcript OTTHUMT00000362751.1;                                                 </td></tr>\n",
       "\t<tr><td>chr1</td><td>HAVANA</td><td>exon      </td><td>11869</td><td>12227</td><td>.</td><td>+</td><td>.</td><td>gene_id ENSG00000223972.5; transcript_id ENST00000456328.2; gene_type transcribed_unprocessed_pseudogene; gene_name DDX11L1; transcript_type processed_transcript; transcript_name DDX11L1-202; exon_number 1; exon_id ENSE00002234944.1; level 2; transcript_support_level 1; tag basic; havana_gene OTTHUMG00000000961.2; havana_transcript OTTHUMT00000362751.1;       </td></tr>\n",
       "\t<tr><td>chr1</td><td>HAVANA</td><td>exon      </td><td>12613</td><td>12721</td><td>.</td><td>+</td><td>.</td><td>gene_id ENSG00000223972.5; transcript_id ENST00000456328.2; gene_type transcribed_unprocessed_pseudogene; gene_name DDX11L1; transcript_type processed_transcript; transcript_name DDX11L1-202; exon_number 2; exon_id ENSE00003582793.1; level 2; transcript_support_level 1; tag basic; havana_gene OTTHUMG00000000961.2; havana_transcript OTTHUMT00000362751.1;       </td></tr>\n",
       "\t<tr><td>chr1</td><td>HAVANA</td><td>exon      </td><td>13221</td><td>14409</td><td>.</td><td>+</td><td>.</td><td>gene_id ENSG00000223972.5; transcript_id ENST00000456328.2; gene_type transcribed_unprocessed_pseudogene; gene_name DDX11L1; transcript_type processed_transcript; transcript_name DDX11L1-202; exon_number 3; exon_id ENSE00002312635.1; level 2; transcript_support_level 1; tag basic; havana_gene OTTHUMG00000000961.2; havana_transcript OTTHUMT00000362751.1;       </td></tr>\n",
       "\t<tr><td>chr1</td><td>HAVANA</td><td>transcript</td><td>12010</td><td>13670</td><td>.</td><td>+</td><td>.</td><td>gene_id ENSG00000223972.5; transcript_id ENST00000450305.2; gene_type transcribed_unprocessed_pseudogene; gene_name DDX11L1; transcript_type transcribed_unprocessed_pseudogene; transcript_name DDX11L1-201; level 2; transcript_support_level NA; ont PGO:0000005; ont PGO:0000019; tag basic; havana_gene OTTHUMG00000000961.2; havana_transcript OTTHUMT00000002844.2;</td></tr>\n",
       "</tbody>\n",
       "</table>\n"
      ],
      "text/latex": [
       "A data.frame: 6 × 9\n",
       "\\begin{tabular}{r|lllllllll}\n",
       " V1 & V2 & V3 & V4 & V5 & V6 & V7 & V8 & V9\\\\\n",
       " <fct> & <fct> & <fct> & <int> & <int> & <fct> & <fct> & <fct> & <fct>\\\\\n",
       "\\hline\n",
       "\t chr1 & HAVANA & gene       & 11869 & 14409 & . & + & . & gene\\_id ENSG00000223972.5; gene\\_type transcribed\\_unprocessed\\_pseudogene; gene\\_name DDX11L1; level 2; havana\\_gene OTTHUMG00000000961.2;                                                                                                                                                                                                                                    \\\\\n",
       "\t chr1 & HAVANA & transcript & 11869 & 14409 & . & + & . & gene\\_id ENSG00000223972.5; transcript\\_id ENST00000456328.2; gene\\_type transcribed\\_unprocessed\\_pseudogene; gene\\_name DDX11L1; transcript\\_type processed\\_transcript; transcript\\_name DDX11L1-202; level 2; transcript\\_support\\_level 1; tag basic; havana\\_gene OTTHUMG00000000961.2; havana\\_transcript OTTHUMT00000362751.1;                                                 \\\\\n",
       "\t chr1 & HAVANA & exon       & 11869 & 12227 & . & + & . & gene\\_id ENSG00000223972.5; transcript\\_id ENST00000456328.2; gene\\_type transcribed\\_unprocessed\\_pseudogene; gene\\_name DDX11L1; transcript\\_type processed\\_transcript; transcript\\_name DDX11L1-202; exon\\_number 1; exon\\_id ENSE00002234944.1; level 2; transcript\\_support\\_level 1; tag basic; havana\\_gene OTTHUMG00000000961.2; havana\\_transcript OTTHUMT00000362751.1;       \\\\\n",
       "\t chr1 & HAVANA & exon       & 12613 & 12721 & . & + & . & gene\\_id ENSG00000223972.5; transcript\\_id ENST00000456328.2; gene\\_type transcribed\\_unprocessed\\_pseudogene; gene\\_name DDX11L1; transcript\\_type processed\\_transcript; transcript\\_name DDX11L1-202; exon\\_number 2; exon\\_id ENSE00003582793.1; level 2; transcript\\_support\\_level 1; tag basic; havana\\_gene OTTHUMG00000000961.2; havana\\_transcript OTTHUMT00000362751.1;       \\\\\n",
       "\t chr1 & HAVANA & exon       & 13221 & 14409 & . & + & . & gene\\_id ENSG00000223972.5; transcript\\_id ENST00000456328.2; gene\\_type transcribed\\_unprocessed\\_pseudogene; gene\\_name DDX11L1; transcript\\_type processed\\_transcript; transcript\\_name DDX11L1-202; exon\\_number 3; exon\\_id ENSE00002312635.1; level 2; transcript\\_support\\_level 1; tag basic; havana\\_gene OTTHUMG00000000961.2; havana\\_transcript OTTHUMT00000362751.1;       \\\\\n",
       "\t chr1 & HAVANA & transcript & 12010 & 13670 & . & + & . & gene\\_id ENSG00000223972.5; transcript\\_id ENST00000450305.2; gene\\_type transcribed\\_unprocessed\\_pseudogene; gene\\_name DDX11L1; transcript\\_type transcribed\\_unprocessed\\_pseudogene; transcript\\_name DDX11L1-201; level 2; transcript\\_support\\_level NA; ont PGO:0000005; ont PGO:0000019; tag basic; havana\\_gene OTTHUMG00000000961.2; havana\\_transcript OTTHUMT00000002844.2;\\\\\n",
       "\\end{tabular}\n"
      ],
      "text/markdown": [
       "\n",
       "A data.frame: 6 × 9\n",
       "\n",
       "| V1 &lt;fct&gt; | V2 &lt;fct&gt; | V3 &lt;fct&gt; | V4 &lt;int&gt; | V5 &lt;int&gt; | V6 &lt;fct&gt; | V7 &lt;fct&gt; | V8 &lt;fct&gt; | V9 &lt;fct&gt; |\n",
       "|---|---|---|---|---|---|---|---|---|\n",
       "| chr1 | HAVANA | gene       | 11869 | 14409 | . | + | . | gene_id ENSG00000223972.5; gene_type transcribed_unprocessed_pseudogene; gene_name DDX11L1; level 2; havana_gene OTTHUMG00000000961.2;                                                                                                                                                                                                                                     |\n",
       "| chr1 | HAVANA | transcript | 11869 | 14409 | . | + | . | gene_id ENSG00000223972.5; transcript_id ENST00000456328.2; gene_type transcribed_unprocessed_pseudogene; gene_name DDX11L1; transcript_type processed_transcript; transcript_name DDX11L1-202; level 2; transcript_support_level 1; tag basic; havana_gene OTTHUMG00000000961.2; havana_transcript OTTHUMT00000362751.1;                                                  |\n",
       "| chr1 | HAVANA | exon       | 11869 | 12227 | . | + | . | gene_id ENSG00000223972.5; transcript_id ENST00000456328.2; gene_type transcribed_unprocessed_pseudogene; gene_name DDX11L1; transcript_type processed_transcript; transcript_name DDX11L1-202; exon_number 1; exon_id ENSE00002234944.1; level 2; transcript_support_level 1; tag basic; havana_gene OTTHUMG00000000961.2; havana_transcript OTTHUMT00000362751.1;        |\n",
       "| chr1 | HAVANA | exon       | 12613 | 12721 | . | + | . | gene_id ENSG00000223972.5; transcript_id ENST00000456328.2; gene_type transcribed_unprocessed_pseudogene; gene_name DDX11L1; transcript_type processed_transcript; transcript_name DDX11L1-202; exon_number 2; exon_id ENSE00003582793.1; level 2; transcript_support_level 1; tag basic; havana_gene OTTHUMG00000000961.2; havana_transcript OTTHUMT00000362751.1;        |\n",
       "| chr1 | HAVANA | exon       | 13221 | 14409 | . | + | . | gene_id ENSG00000223972.5; transcript_id ENST00000456328.2; gene_type transcribed_unprocessed_pseudogene; gene_name DDX11L1; transcript_type processed_transcript; transcript_name DDX11L1-202; exon_number 3; exon_id ENSE00002312635.1; level 2; transcript_support_level 1; tag basic; havana_gene OTTHUMG00000000961.2; havana_transcript OTTHUMT00000362751.1;        |\n",
       "| chr1 | HAVANA | transcript | 12010 | 13670 | . | + | . | gene_id ENSG00000223972.5; transcript_id ENST00000450305.2; gene_type transcribed_unprocessed_pseudogene; gene_name DDX11L1; transcript_type transcribed_unprocessed_pseudogene; transcript_name DDX11L1-201; level 2; transcript_support_level NA; ont PGO:0000005; ont PGO:0000019; tag basic; havana_gene OTTHUMG00000000961.2; havana_transcript OTTHUMT00000002844.2; |\n",
       "\n"
      ],
      "text/plain": [
       "  V1   V2     V3         V4    V5    V6 V7 V8\n",
       "1 chr1 HAVANA gene       11869 14409 .  +  . \n",
       "2 chr1 HAVANA transcript 11869 14409 .  +  . \n",
       "3 chr1 HAVANA exon       11869 12227 .  +  . \n",
       "4 chr1 HAVANA exon       12613 12721 .  +  . \n",
       "5 chr1 HAVANA exon       13221 14409 .  +  . \n",
       "6 chr1 HAVANA transcript 12010 13670 .  +  . \n",
       "  V9                                                                                                                                                                                                                                                                                                                                                                        \n",
       "1 gene_id ENSG00000223972.5; gene_type transcribed_unprocessed_pseudogene; gene_name DDX11L1; level 2; havana_gene OTTHUMG00000000961.2;                                                                                                                                                                                                                                    \n",
       "2 gene_id ENSG00000223972.5; transcript_id ENST00000456328.2; gene_type transcribed_unprocessed_pseudogene; gene_name DDX11L1; transcript_type processed_transcript; transcript_name DDX11L1-202; level 2; transcript_support_level 1; tag basic; havana_gene OTTHUMG00000000961.2; havana_transcript OTTHUMT00000362751.1;                                                 \n",
       "3 gene_id ENSG00000223972.5; transcript_id ENST00000456328.2; gene_type transcribed_unprocessed_pseudogene; gene_name DDX11L1; transcript_type processed_transcript; transcript_name DDX11L1-202; exon_number 1; exon_id ENSE00002234944.1; level 2; transcript_support_level 1; tag basic; havana_gene OTTHUMG00000000961.2; havana_transcript OTTHUMT00000362751.1;       \n",
       "4 gene_id ENSG00000223972.5; transcript_id ENST00000456328.2; gene_type transcribed_unprocessed_pseudogene; gene_name DDX11L1; transcript_type processed_transcript; transcript_name DDX11L1-202; exon_number 2; exon_id ENSE00003582793.1; level 2; transcript_support_level 1; tag basic; havana_gene OTTHUMG00000000961.2; havana_transcript OTTHUMT00000362751.1;       \n",
       "5 gene_id ENSG00000223972.5; transcript_id ENST00000456328.2; gene_type transcribed_unprocessed_pseudogene; gene_name DDX11L1; transcript_type processed_transcript; transcript_name DDX11L1-202; exon_number 3; exon_id ENSE00002312635.1; level 2; transcript_support_level 1; tag basic; havana_gene OTTHUMG00000000961.2; havana_transcript OTTHUMT00000362751.1;       \n",
       "6 gene_id ENSG00000223972.5; transcript_id ENST00000450305.2; gene_type transcribed_unprocessed_pseudogene; gene_name DDX11L1; transcript_type transcribed_unprocessed_pseudogene; transcript_name DDX11L1-201; level 2; transcript_support_level NA; ont PGO:0000005; ont PGO:0000019; tag basic; havana_gene OTTHUMG00000000961.2; havana_transcript OTTHUMT00000002844.2;"
      ]
     },
     "metadata": {},
     "output_type": "display_data"
    }
   ],
   "source": [
    "head(gtf)"
   ]
  },
  {
   "cell_type": "code",
   "execution_count": 4,
   "metadata": {},
   "outputs": [
    {
     "data": {
      "text/plain": [
       "\n",
       "ENSEMBL  HAVANA \n",
       " 251831 2490186 "
      ]
     },
     "metadata": {},
     "output_type": "display_data"
    }
   ],
   "source": [
    "table(gtf$V2)"
   ]
  },
  {
   "cell_type": "code",
   "execution_count": 8,
   "metadata": {},
   "outputs": [],
   "source": [
    "# Add column names\n",
    "names(gtf) <- c(\"chr\", \"database\", \"gene_location\", \"start\", \"stop\", \"blank2\", \"strand\", \"blank3\", \"info\")"
   ]
  },
  {
   "cell_type": "code",
   "execution_count": 18,
   "metadata": {},
   "outputs": [],
   "source": [
    "# Parse info column by ;\n",
    "require(splitstackshape)\n",
    "x <- cSplit(gtf, \"info\", sep = \";\")"
   ]
  },
  {
   "cell_type": "code",
   "execution_count": 19,
   "metadata": {},
   "outputs": [
    {
     "data": {
      "text/html": [
       "<table>\n",
       "<caption>A data.table: 6 × 30</caption>\n",
       "<thead>\n",
       "\t<tr><th scope=col>chr</th><th scope=col>database</th><th scope=col>gene_location</th><th scope=col>start</th><th scope=col>stop</th><th scope=col>blank2</th><th scope=col>strand</th><th scope=col>blank3</th><th scope=col>info_01</th><th scope=col>info_02</th><th scope=col>⋯</th><th scope=col>info_13</th><th scope=col>info_14</th><th scope=col>info_15</th><th scope=col>info_16</th><th scope=col>info_17</th><th scope=col>info_18</th><th scope=col>info_19</th><th scope=col>info_20</th><th scope=col>info_21</th><th scope=col>info_22</th></tr>\n",
       "\t<tr><th scope=col>&lt;fct&gt;</th><th scope=col>&lt;fct&gt;</th><th scope=col>&lt;fct&gt;</th><th scope=col>&lt;int&gt;</th><th scope=col>&lt;int&gt;</th><th scope=col>&lt;fct&gt;</th><th scope=col>&lt;fct&gt;</th><th scope=col>&lt;fct&gt;</th><th scope=col>&lt;fct&gt;</th><th scope=col>&lt;fct&gt;</th><th scope=col>⋯</th><th scope=col>&lt;fct&gt;</th><th scope=col>&lt;fct&gt;</th><th scope=col>&lt;fct&gt;</th><th scope=col>&lt;fct&gt;</th><th scope=col>&lt;fct&gt;</th><th scope=col>&lt;fct&gt;</th><th scope=col>&lt;fct&gt;</th><th scope=col>&lt;fct&gt;</th><th scope=col>&lt;fct&gt;</th><th scope=col>&lt;fct&gt;</th></tr>\n",
       "</thead>\n",
       "<tbody>\n",
       "\t<tr><td>chr1</td><td>HAVANA</td><td>gene      </td><td>11869</td><td>14409</td><td>.</td><td>+</td><td>.</td><td>gene_id ENSG00000223972.5</td><td>gene_type transcribed_unprocessed_pseudogene</td><td>⋯</td><td>NA                                    </td><td>NA</td><td>NA</td><td>NA</td><td>NA</td><td>NA</td><td>NA</td><td>NA</td><td>NA</td><td>NA</td></tr>\n",
       "\t<tr><td>chr1</td><td>HAVANA</td><td>transcript</td><td>11869</td><td>14409</td><td>.</td><td>+</td><td>.</td><td>gene_id ENSG00000223972.5</td><td>transcript_id ENST00000456328.2             </td><td>⋯</td><td>NA                                    </td><td>NA</td><td>NA</td><td>NA</td><td>NA</td><td>NA</td><td>NA</td><td>NA</td><td>NA</td><td>NA</td></tr>\n",
       "\t<tr><td>chr1</td><td>HAVANA</td><td>exon      </td><td>11869</td><td>12227</td><td>.</td><td>+</td><td>.</td><td>gene_id ENSG00000223972.5</td><td>transcript_id ENST00000456328.2             </td><td>⋯</td><td>havana_transcript OTTHUMT00000362751.1</td><td>NA</td><td>NA</td><td>NA</td><td>NA</td><td>NA</td><td>NA</td><td>NA</td><td>NA</td><td>NA</td></tr>\n",
       "\t<tr><td>chr1</td><td>HAVANA</td><td>exon      </td><td>12613</td><td>12721</td><td>.</td><td>+</td><td>.</td><td>gene_id ENSG00000223972.5</td><td>transcript_id ENST00000456328.2             </td><td>⋯</td><td>havana_transcript OTTHUMT00000362751.1</td><td>NA</td><td>NA</td><td>NA</td><td>NA</td><td>NA</td><td>NA</td><td>NA</td><td>NA</td><td>NA</td></tr>\n",
       "\t<tr><td>chr1</td><td>HAVANA</td><td>exon      </td><td>13221</td><td>14409</td><td>.</td><td>+</td><td>.</td><td>gene_id ENSG00000223972.5</td><td>transcript_id ENST00000456328.2             </td><td>⋯</td><td>havana_transcript OTTHUMT00000362751.1</td><td>NA</td><td>NA</td><td>NA</td><td>NA</td><td>NA</td><td>NA</td><td>NA</td><td>NA</td><td>NA</td></tr>\n",
       "\t<tr><td>chr1</td><td>HAVANA</td><td>transcript</td><td>12010</td><td>13670</td><td>.</td><td>+</td><td>.</td><td>gene_id ENSG00000223972.5</td><td>transcript_id ENST00000450305.2             </td><td>⋯</td><td>havana_transcript OTTHUMT00000002844.2</td><td>NA</td><td>NA</td><td>NA</td><td>NA</td><td>NA</td><td>NA</td><td>NA</td><td>NA</td><td>NA</td></tr>\n",
       "</tbody>\n",
       "</table>\n"
      ],
      "text/latex": [
       "A data.table: 6 × 30\n",
       "\\begin{tabular}{r|llllllllllllllllllllllllllllll}\n",
       " chr & database & gene\\_location & start & stop & blank2 & strand & blank3 & info\\_01 & info\\_02 & info\\_03 & info\\_04 & info\\_05 & info\\_06 & info\\_07 & info\\_08 & info\\_09 & info\\_10 & info\\_11 & info\\_12 & info\\_13 & info\\_14 & info\\_15 & info\\_16 & info\\_17 & info\\_18 & info\\_19 & info\\_20 & info\\_21 & info\\_22\\\\\n",
       " <fct> & <fct> & <fct> & <int> & <int> & <fct> & <fct> & <fct> & <fct> & <fct> & <fct> & <fct> & <fct> & <fct> & <fct> & <fct> & <fct> & <fct> & <fct> & <fct> & <fct> & <fct> & <fct> & <fct> & <fct> & <fct> & <fct> & <fct> & <fct> & <fct>\\\\\n",
       "\\hline\n",
       "\t chr1 & HAVANA & gene       & 11869 & 14409 & . & + & . & gene\\_id ENSG00000223972.5 & gene\\_type transcribed\\_unprocessed\\_pseudogene & gene\\_name DDX11L1                            & level 2           & havana\\_gene OTTHUMG00000000961.2                   & NA                          & NA            & NA                          & NA              & NA                               & NA                                     & NA                               & NA                                     & NA & NA & NA & NA & NA & NA & NA & NA & NA\\\\\n",
       "\t chr1 & HAVANA & transcript & 11869 & 14409 & . & + & . & gene\\_id ENSG00000223972.5 & transcript\\_id ENST00000456328.2              & gene\\_type transcribed\\_unprocessed\\_pseudogene & gene\\_name DDX11L1 & transcript\\_type processed\\_transcript               & transcript\\_name DDX11L1-202 & level 2       & transcript\\_support\\_level 1  & tag basic       & havana\\_gene OTTHUMG00000000961.2 & havana\\_transcript OTTHUMT00000362751.1 & NA                               & NA                                     & NA & NA & NA & NA & NA & NA & NA & NA & NA\\\\\n",
       "\t chr1 & HAVANA & exon       & 11869 & 12227 & . & + & . & gene\\_id ENSG00000223972.5 & transcript\\_id ENST00000456328.2              & gene\\_type transcribed\\_unprocessed\\_pseudogene & gene\\_name DDX11L1 & transcript\\_type processed\\_transcript               & transcript\\_name DDX11L1-202 & exon\\_number 1 & exon\\_id ENSE00002234944.1   & level 2         & transcript\\_support\\_level 1       & tag basic                              & havana\\_gene OTTHUMG00000000961.2 & havana\\_transcript OTTHUMT00000362751.1 & NA & NA & NA & NA & NA & NA & NA & NA & NA\\\\\n",
       "\t chr1 & HAVANA & exon       & 12613 & 12721 & . & + & . & gene\\_id ENSG00000223972.5 & transcript\\_id ENST00000456328.2              & gene\\_type transcribed\\_unprocessed\\_pseudogene & gene\\_name DDX11L1 & transcript\\_type processed\\_transcript               & transcript\\_name DDX11L1-202 & exon\\_number 2 & exon\\_id ENSE00003582793.1   & level 2         & transcript\\_support\\_level 1       & tag basic                              & havana\\_gene OTTHUMG00000000961.2 & havana\\_transcript OTTHUMT00000362751.1 & NA & NA & NA & NA & NA & NA & NA & NA & NA\\\\\n",
       "\t chr1 & HAVANA & exon       & 13221 & 14409 & . & + & . & gene\\_id ENSG00000223972.5 & transcript\\_id ENST00000456328.2              & gene\\_type transcribed\\_unprocessed\\_pseudogene & gene\\_name DDX11L1 & transcript\\_type processed\\_transcript               & transcript\\_name DDX11L1-202 & exon\\_number 3 & exon\\_id ENSE00002312635.1   & level 2         & transcript\\_support\\_level 1       & tag basic                              & havana\\_gene OTTHUMG00000000961.2 & havana\\_transcript OTTHUMT00000362751.1 & NA & NA & NA & NA & NA & NA & NA & NA & NA\\\\\n",
       "\t chr1 & HAVANA & transcript & 12010 & 13670 & . & + & . & gene\\_id ENSG00000223972.5 & transcript\\_id ENST00000450305.2              & gene\\_type transcribed\\_unprocessed\\_pseudogene & gene\\_name DDX11L1 & transcript\\_type transcribed\\_unprocessed\\_pseudogene & transcript\\_name DDX11L1-201 & level 2       & transcript\\_support\\_level NA & ont PGO:0000005 & ont PGO:0000019                  & tag basic                              & havana\\_gene OTTHUMG00000000961.2 & havana\\_transcript OTTHUMT00000002844.2 & NA & NA & NA & NA & NA & NA & NA & NA & NA\\\\\n",
       "\\end{tabular}\n"
      ],
      "text/markdown": [
       "\n",
       "A data.table: 6 × 30\n",
       "\n",
       "| chr &lt;fct&gt; | database &lt;fct&gt; | gene_location &lt;fct&gt; | start &lt;int&gt; | stop &lt;int&gt; | blank2 &lt;fct&gt; | strand &lt;fct&gt; | blank3 &lt;fct&gt; | info_01 &lt;fct&gt; | info_02 &lt;fct&gt; | ⋯ ⋯ | info_13 &lt;fct&gt; | info_14 &lt;fct&gt; | info_15 &lt;fct&gt; | info_16 &lt;fct&gt; | info_17 &lt;fct&gt; | info_18 &lt;fct&gt; | info_19 &lt;fct&gt; | info_20 &lt;fct&gt; | info_21 &lt;fct&gt; | info_22 &lt;fct&gt; |\n",
       "|---|---|---|---|---|---|---|---|---|---|---|---|---|---|---|---|---|---|---|---|---|\n",
       "| chr1 | HAVANA | gene       | 11869 | 14409 | . | + | . | gene_id ENSG00000223972.5 | gene_type transcribed_unprocessed_pseudogene | ⋯ | NA                                     | NA | NA | NA | NA | NA | NA | NA | NA | NA |\n",
       "| chr1 | HAVANA | transcript | 11869 | 14409 | . | + | . | gene_id ENSG00000223972.5 | transcript_id ENST00000456328.2              | ⋯ | NA                                     | NA | NA | NA | NA | NA | NA | NA | NA | NA |\n",
       "| chr1 | HAVANA | exon       | 11869 | 12227 | . | + | . | gene_id ENSG00000223972.5 | transcript_id ENST00000456328.2              | ⋯ | havana_transcript OTTHUMT00000362751.1 | NA | NA | NA | NA | NA | NA | NA | NA | NA |\n",
       "| chr1 | HAVANA | exon       | 12613 | 12721 | . | + | . | gene_id ENSG00000223972.5 | transcript_id ENST00000456328.2              | ⋯ | havana_transcript OTTHUMT00000362751.1 | NA | NA | NA | NA | NA | NA | NA | NA | NA |\n",
       "| chr1 | HAVANA | exon       | 13221 | 14409 | . | + | . | gene_id ENSG00000223972.5 | transcript_id ENST00000456328.2              | ⋯ | havana_transcript OTTHUMT00000362751.1 | NA | NA | NA | NA | NA | NA | NA | NA | NA |\n",
       "| chr1 | HAVANA | transcript | 12010 | 13670 | . | + | . | gene_id ENSG00000223972.5 | transcript_id ENST00000450305.2              | ⋯ | havana_transcript OTTHUMT00000002844.2 | NA | NA | NA | NA | NA | NA | NA | NA | NA |\n",
       "\n"
      ],
      "text/plain": [
       "  chr  database gene_location start stop  blank2 strand blank3\n",
       "1 chr1 HAVANA   gene          11869 14409 .      +      .     \n",
       "2 chr1 HAVANA   transcript    11869 14409 .      +      .     \n",
       "3 chr1 HAVANA   exon          11869 12227 .      +      .     \n",
       "4 chr1 HAVANA   exon          12613 12721 .      +      .     \n",
       "5 chr1 HAVANA   exon          13221 14409 .      +      .     \n",
       "6 chr1 HAVANA   transcript    12010 13670 .      +      .     \n",
       "  info_01                   info_02                                      ⋯\n",
       "1 gene_id ENSG00000223972.5 gene_type transcribed_unprocessed_pseudogene ⋯\n",
       "2 gene_id ENSG00000223972.5 transcript_id ENST00000456328.2              ⋯\n",
       "3 gene_id ENSG00000223972.5 transcript_id ENST00000456328.2              ⋯\n",
       "4 gene_id ENSG00000223972.5 transcript_id ENST00000456328.2              ⋯\n",
       "5 gene_id ENSG00000223972.5 transcript_id ENST00000456328.2              ⋯\n",
       "6 gene_id ENSG00000223972.5 transcript_id ENST00000450305.2              ⋯\n",
       "  info_13                                info_14 info_15 info_16 info_17\n",
       "1 NA                                     NA      NA      NA      NA     \n",
       "2 NA                                     NA      NA      NA      NA     \n",
       "3 havana_transcript OTTHUMT00000362751.1 NA      NA      NA      NA     \n",
       "4 havana_transcript OTTHUMT00000362751.1 NA      NA      NA      NA     \n",
       "5 havana_transcript OTTHUMT00000362751.1 NA      NA      NA      NA     \n",
       "6 havana_transcript OTTHUMT00000002844.2 NA      NA      NA      NA     \n",
       "  info_18 info_19 info_20 info_21 info_22\n",
       "1 NA      NA      NA      NA      NA     \n",
       "2 NA      NA      NA      NA      NA     \n",
       "3 NA      NA      NA      NA      NA     \n",
       "4 NA      NA      NA      NA      NA     \n",
       "5 NA      NA      NA      NA      NA     \n",
       "6 NA      NA      NA      NA      NA     "
      ]
     },
     "metadata": {},
     "output_type": "display_data"
    }
   ],
   "source": [
    "head(x)"
   ]
  },
  {
   "cell_type": "markdown",
   "metadata": {},
   "source": [
    "## Filter annotations by transcript\n",
    "We're interested in retaining the transcript annotations because they contain more detail than the gene annotations. Furthermore, the transcript annotations are useful for isoform-level analyses."
   ]
  },
  {
   "cell_type": "code",
   "execution_count": 7,
   "metadata": {},
   "outputs": [
    {
     "data": {
      "text/plain": [
       "\n",
       "           CDS           exon           gene Selenocysteine    start_codon \n",
       "        746753        1262773          58721            120          86445 \n",
       "    stop_codon     transcript            UTR \n",
       "         78574         206694         301937 "
      ]
     },
     "metadata": {},
     "output_type": "display_data"
    }
   ],
   "source": [
    "table(gtf$gene_location)"
   ]
  },
  {
   "cell_type": "code",
   "execution_count": 20,
   "metadata": {},
   "outputs": [
    {
     "data": {
      "text/html": [
       "<ol class=list-inline>\n",
       "\t<li>1262773</li>\n",
       "\t<li>30</li>\n",
       "</ol>\n"
      ],
      "text/latex": [
       "\\begin{enumerate*}\n",
       "\\item 1262773\n",
       "\\item 30\n",
       "\\end{enumerate*}\n"
      ],
      "text/markdown": [
       "1. 1262773\n",
       "2. 30\n",
       "\n",
       "\n"
      ],
      "text/plain": [
       "[1] 1262773      30"
      ]
     },
     "metadata": {},
     "output_type": "display_data"
    }
   ],
   "source": [
    "ex <- x[which(x$gene_location==\"exon\"),]\n",
    "dim(ex)"
   ]
  },
  {
   "cell_type": "code",
   "execution_count": 21,
   "metadata": {},
   "outputs": [
    {
     "data": {
      "text/html": [
       "<ol class=list-inline>\n",
       "\t<li>206694</li>\n",
       "\t<li>30</li>\n",
       "</ol>\n"
      ],
      "text/latex": [
       "\\begin{enumerate*}\n",
       "\\item 206694\n",
       "\\item 30\n",
       "\\end{enumerate*}\n"
      ],
      "text/markdown": [
       "1. 206694\n",
       "2. 30\n",
       "\n",
       "\n"
      ],
      "text/plain": [
       "[1] 206694     30"
      ]
     },
     "metadata": {},
     "output_type": "display_data"
    }
   ],
   "source": [
    "x <- x[which(x$gene_location == \"transcript\"),]\n",
    "dim(x)"
   ]
  },
  {
   "cell_type": "code",
   "execution_count": 9,
   "metadata": {},
   "outputs": [
    {
     "data": {
      "text/html": [
       "<table>\n",
       "<thead><tr><th scope=col>chr</th><th scope=col>database</th><th scope=col>gene_location</th><th scope=col>start</th><th scope=col>stop</th><th scope=col>blank2</th><th scope=col>strand</th><th scope=col>blank3</th><th scope=col>info_01</th><th scope=col>info_02</th><th scope=col>info_03</th><th scope=col>info_04</th><th scope=col>info_05</th><th scope=col>info_06</th></tr></thead>\n",
       "<tbody>\n",
       "\t<tr><td>chr1                                              </td><td>HAVANA                                            </td><td>transcript                                        </td><td>11869                                             </td><td>14409                                             </td><td>.                                                 </td><td>+                                                 </td><td>.                                                 </td><td>gene_id ENSG00000223972.5                         </td><td>transcript_id ENST00000456328.2                   </td><td>gene_type transcribed_unprocessed_pseudogene      </td><td>gene_name DDX11L1                                 </td><td>transcript_type processed_transcript              </td><td>transcript_name DDX11L1-202                       </td></tr>\n",
       "\t<tr><td>chr1                                              </td><td>HAVANA                                            </td><td>transcript                                        </td><td>12010                                             </td><td>13670                                             </td><td>.                                                 </td><td>+                                                 </td><td>.                                                 </td><td>gene_id ENSG00000223972.5                         </td><td>transcript_id ENST00000450305.2                   </td><td>gene_type transcribed_unprocessed_pseudogene      </td><td>gene_name DDX11L1                                 </td><td>transcript_type transcribed_unprocessed_pseudogene</td><td>transcript_name DDX11L1-201                       </td></tr>\n",
       "\t<tr><td>chr1                                              </td><td>HAVANA                                            </td><td>transcript                                        </td><td>14404                                             </td><td>29570                                             </td><td>.                                                 </td><td>-                                                 </td><td>.                                                 </td><td>gene_id ENSG00000227232.5                         </td><td>transcript_id ENST00000488147.1                   </td><td>gene_type unprocessed_pseudogene                  </td><td>gene_name WASH7P                                  </td><td>transcript_type unprocessed_pseudogene            </td><td>transcript_name WASH7P-201                        </td></tr>\n",
       "\t<tr><td>chr1                                              </td><td>ENSEMBL                                           </td><td>transcript                                        </td><td>17369                                             </td><td>17436                                             </td><td>.                                                 </td><td>-                                                 </td><td>.                                                 </td><td>gene_id ENSG00000278267.1                         </td><td>transcript_id ENST00000619216.1                   </td><td>gene_type miRNA                                   </td><td>gene_name MIR6859-1                               </td><td>transcript_type miRNA                             </td><td>transcript_name MIR6859-1-201                     </td></tr>\n",
       "\t<tr><td>chr1                                              </td><td>HAVANA                                            </td><td>transcript                                        </td><td>29554                                             </td><td>31097                                             </td><td>.                                                 </td><td>+                                                 </td><td>.                                                 </td><td>gene_id ENSG00000243485.5                         </td><td>transcript_id ENST00000473358.1                   </td><td>gene_type lincRNA                                 </td><td>gene_name MIR1302-2HG                             </td><td>transcript_type lincRNA                           </td><td>transcript_name MIR1302-2HG-202                   </td></tr>\n",
       "\t<tr><td>chr1                                              </td><td>HAVANA                                            </td><td>transcript                                        </td><td>30267                                             </td><td>31109                                             </td><td>.                                                 </td><td>+                                                 </td><td>.                                                 </td><td>gene_id ENSG00000243485.5                         </td><td>transcript_id ENST00000469289.1                   </td><td>gene_type lincRNA                                 </td><td>gene_name MIR1302-2HG                             </td><td>transcript_type lincRNA                           </td><td>transcript_name MIR1302-2HG-201                   </td></tr>\n",
       "</tbody>\n",
       "</table>\n"
      ],
      "text/latex": [
       "\\begin{tabular}{r|llllllllllllll}\n",
       " chr & database & gene\\_location & start & stop & blank2 & strand & blank3 & info\\_01 & info\\_02 & info\\_03 & info\\_04 & info\\_05 & info\\_06\\\\\n",
       "\\hline\n",
       "\t chr1                                                   & HAVANA                                                 & transcript                                             & 11869                                                  & 14409                                                  & .                                                      & +                                                      & .                                                      & gene\\_id ENSG00000223972.5                            & transcript\\_id ENST00000456328.2                      & gene\\_type transcribed\\_unprocessed\\_pseudogene     & gene\\_name DDX11L1                                    & transcript\\_type processed\\_transcript               & transcript\\_name DDX11L1-202                         \\\\\n",
       "\t chr1                                                     & HAVANA                                                   & transcript                                               & 12010                                                    & 13670                                                    & .                                                        & +                                                        & .                                                        & gene\\_id ENSG00000223972.5                              & transcript\\_id ENST00000450305.2                        & gene\\_type transcribed\\_unprocessed\\_pseudogene       & gene\\_name DDX11L1                                      & transcript\\_type transcribed\\_unprocessed\\_pseudogene & transcript\\_name DDX11L1-201                           \\\\\n",
       "\t chr1                                                   & HAVANA                                                 & transcript                                             & 14404                                                  & 29570                                                  & .                                                      & -                                                      & .                                                      & gene\\_id ENSG00000227232.5                            & transcript\\_id ENST00000488147.1                      & gene\\_type unprocessed\\_pseudogene                   & gene\\_name WASH7P                                     & transcript\\_type unprocessed\\_pseudogene             & transcript\\_name WASH7P-201                          \\\\\n",
       "\t chr1                                                 & ENSEMBL                                              & transcript                                           & 17369                                                & 17436                                                & .                                                    & -                                                    & .                                                    & gene\\_id ENSG00000278267.1                          & transcript\\_id ENST00000619216.1                    & gene\\_type miRNA                                    & gene\\_name MIR6859-1                                & transcript\\_type miRNA                              & transcript\\_name MIR6859-1-201                     \\\\\n",
       "\t chr1                                                 & HAVANA                                               & transcript                                           & 29554                                                & 31097                                                & .                                                    & +                                                    & .                                                    & gene\\_id ENSG00000243485.5                          & transcript\\_id ENST00000473358.1                    & gene\\_type lincRNA                                  & gene\\_name MIR1302-2HG                              & transcript\\_type lincRNA                            & transcript\\_name MIR1302-2HG-202                   \\\\\n",
       "\t chr1                                                 & HAVANA                                               & transcript                                           & 30267                                                & 31109                                                & .                                                    & +                                                    & .                                                    & gene\\_id ENSG00000243485.5                          & transcript\\_id ENST00000469289.1                    & gene\\_type lincRNA                                  & gene\\_name MIR1302-2HG                              & transcript\\_type lincRNA                            & transcript\\_name MIR1302-2HG-201                   \\\\\n",
       "\\end{tabular}\n"
      ],
      "text/markdown": [
       "\n",
       "chr | database | gene_location | start | stop | blank2 | strand | blank3 | info_01 | info_02 | info_03 | info_04 | info_05 | info_06 | \n",
       "|---|---|---|---|---|---|\n",
       "| chr1                                               | HAVANA                                             | transcript                                         | 11869                                              | 14409                                              | .                                                  | +                                                  | .                                                  | gene_id ENSG00000223972.5                          | transcript_id ENST00000456328.2                    | gene_type transcribed_unprocessed_pseudogene       | gene_name DDX11L1                                  | transcript_type processed_transcript               | transcript_name DDX11L1-202                        | \n",
       "| chr1                                               | HAVANA                                             | transcript                                         | 12010                                              | 13670                                              | .                                                  | +                                                  | .                                                  | gene_id ENSG00000223972.5                          | transcript_id ENST00000450305.2                    | gene_type transcribed_unprocessed_pseudogene       | gene_name DDX11L1                                  | transcript_type transcribed_unprocessed_pseudogene | transcript_name DDX11L1-201                        | \n",
       "| chr1                                               | HAVANA                                             | transcript                                         | 14404                                              | 29570                                              | .                                                  | -                                                  | .                                                  | gene_id ENSG00000227232.5                          | transcript_id ENST00000488147.1                    | gene_type unprocessed_pseudogene                   | gene_name WASH7P                                   | transcript_type unprocessed_pseudogene             | transcript_name WASH7P-201                         | \n",
       "| chr1                                               | ENSEMBL                                            | transcript                                         | 17369                                              | 17436                                              | .                                                  | -                                                  | .                                                  | gene_id ENSG00000278267.1                          | transcript_id ENST00000619216.1                    | gene_type miRNA                                    | gene_name MIR6859-1                                | transcript_type miRNA                              | transcript_name MIR6859-1-201                      | \n",
       "| chr1                                               | HAVANA                                             | transcript                                         | 29554                                              | 31097                                              | .                                                  | +                                                  | .                                                  | gene_id ENSG00000243485.5                          | transcript_id ENST00000473358.1                    | gene_type lincRNA                                  | gene_name MIR1302-2HG                              | transcript_type lincRNA                            | transcript_name MIR1302-2HG-202                    | \n",
       "| chr1                                               | HAVANA                                             | transcript                                         | 30267                                              | 31109                                              | .                                                  | +                                                  | .                                                  | gene_id ENSG00000243485.5                          | transcript_id ENST00000469289.1                    | gene_type lincRNA                                  | gene_name MIR1302-2HG                              | transcript_type lincRNA                            | transcript_name MIR1302-2HG-201                    | \n",
       "\n",
       "\n"
      ],
      "text/plain": [
       "  chr  database gene_location start stop  blank2 strand blank3\n",
       "1 chr1 HAVANA   transcript    11869 14409 .      +      .     \n",
       "2 chr1 HAVANA   transcript    12010 13670 .      +      .     \n",
       "3 chr1 HAVANA   transcript    14404 29570 .      -      .     \n",
       "4 chr1 ENSEMBL  transcript    17369 17436 .      -      .     \n",
       "5 chr1 HAVANA   transcript    29554 31097 .      +      .     \n",
       "6 chr1 HAVANA   transcript    30267 31109 .      +      .     \n",
       "  info_01                   info_02                        \n",
       "1 gene_id ENSG00000223972.5 transcript_id ENST00000456328.2\n",
       "2 gene_id ENSG00000223972.5 transcript_id ENST00000450305.2\n",
       "3 gene_id ENSG00000227232.5 transcript_id ENST00000488147.1\n",
       "4 gene_id ENSG00000278267.1 transcript_id ENST00000619216.1\n",
       "5 gene_id ENSG00000243485.5 transcript_id ENST00000473358.1\n",
       "6 gene_id ENSG00000243485.5 transcript_id ENST00000469289.1\n",
       "  info_03                                      info_04              \n",
       "1 gene_type transcribed_unprocessed_pseudogene gene_name DDX11L1    \n",
       "2 gene_type transcribed_unprocessed_pseudogene gene_name DDX11L1    \n",
       "3 gene_type unprocessed_pseudogene             gene_name WASH7P     \n",
       "4 gene_type miRNA                              gene_name MIR6859-1  \n",
       "5 gene_type lincRNA                            gene_name MIR1302-2HG\n",
       "6 gene_type lincRNA                            gene_name MIR1302-2HG\n",
       "  info_05                                           \n",
       "1 transcript_type processed_transcript              \n",
       "2 transcript_type transcribed_unprocessed_pseudogene\n",
       "3 transcript_type unprocessed_pseudogene            \n",
       "4 transcript_type miRNA                             \n",
       "5 transcript_type lincRNA                           \n",
       "6 transcript_type lincRNA                           \n",
       "  info_06                        \n",
       "1 transcript_name DDX11L1-202    \n",
       "2 transcript_name DDX11L1-201    \n",
       "3 transcript_name WASH7P-201     \n",
       "4 transcript_name MIR6859-1-201  \n",
       "5 transcript_name MIR1302-2HG-202\n",
       "6 transcript_name MIR1302-2HG-201"
      ]
     },
     "metadata": {},
     "output_type": "display_data"
    },
    {
     "data": {
      "text/html": [
       "<table>\n",
       "<thead><tr><th scope=col>info_07</th><th scope=col>info_08</th><th scope=col>info_09</th><th scope=col>info_10</th><th scope=col>info_11</th><th scope=col>info_12</th><th scope=col>info_13</th><th scope=col>info_14</th><th scope=col>info_15</th><th scope=col>info_16</th><th scope=col>info_17</th><th scope=col>info_18</th><th scope=col>info_19</th><th scope=col>info_20</th><th scope=col>info_21</th><th scope=col>info_22</th></tr></thead>\n",
       "<tbody>\n",
       "\t<tr><td>level 2                               </td><td>transcript_support_level 1            </td><td>tag basic                             </td><td>havana_gene OTTHUMG00000000961.2      </td><td>havana_transcript OTTHUMT00000362751.1</td><td>NA                                    </td><td>NA                                    </td><td>NA                                    </td><td>NA                                    </td><td>NA                                    </td><td>NA                                    </td><td>NA                                    </td><td>NA                                    </td><td>NA                                    </td><td>NA                                    </td><td>NA                                    </td></tr>\n",
       "\t<tr><td>level 2                               </td><td>transcript_support_level NA           </td><td>ont PGO:0000005                       </td><td>ont PGO:0000019                       </td><td>tag basic                             </td><td>havana_gene OTTHUMG00000000961.2      </td><td>havana_transcript OTTHUMT00000002844.2</td><td>NA                                    </td><td>NA                                    </td><td>NA                                    </td><td>NA                                    </td><td>NA                                    </td><td>NA                                    </td><td>NA                                    </td><td>NA                                    </td><td>NA                                    </td></tr>\n",
       "\t<tr><td>level 2                               </td><td>transcript_support_level NA           </td><td>ont PGO:0000005                       </td><td>tag basic                             </td><td>havana_gene OTTHUMG00000000958.1      </td><td>havana_transcript OTTHUMT00000002839.1</td><td>NA                                    </td><td>NA                                    </td><td>NA                                    </td><td>NA                                    </td><td>NA                                    </td><td>NA                                    </td><td>NA                                    </td><td>NA                                    </td><td>NA                                    </td><td>NA                                    </td></tr>\n",
       "\t<tr><td>level 3                               </td><td>transcript_support_level NA           </td><td>tag basic                             </td><td>NA                                    </td><td>NA                                    </td><td>NA                                    </td><td>NA                                    </td><td>NA                                    </td><td>NA                                    </td><td>NA                                    </td><td>NA                                    </td><td>NA                                    </td><td>NA                                    </td><td>NA                                    </td><td>NA                                    </td><td>NA                                    </td></tr>\n",
       "\t<tr><td>level 2                               </td><td>transcript_support_level 5            </td><td>tag not_best_in_genome_evidence       </td><td>tag dotter_confirmed                  </td><td>tag basic                             </td><td>havana_gene OTTHUMG00000000959.2      </td><td>havana_transcript OTTHUMT00000002840.1</td><td>NA                                    </td><td>NA                                    </td><td>NA                                    </td><td>NA                                    </td><td>NA                                    </td><td>NA                                    </td><td>NA                                    </td><td>NA                                    </td><td>NA                                    </td></tr>\n",
       "\t<tr><td>level 2                               </td><td>transcript_support_level 5            </td><td>tag not_best_in_genome_evidence       </td><td>tag basic                             </td><td>havana_gene OTTHUMG00000000959.2      </td><td>havana_transcript OTTHUMT00000002841.2</td><td>NA                                    </td><td>NA                                    </td><td>NA                                    </td><td>NA                                    </td><td>NA                                    </td><td>NA                                    </td><td>NA                                    </td><td>NA                                    </td><td>NA                                    </td><td>NA                                    </td></tr>\n",
       "</tbody>\n",
       "</table>\n"
      ],
      "text/latex": [
       "\\begin{tabular}{r|llllllllllllllll}\n",
       " info\\_07 & info\\_08 & info\\_09 & info\\_10 & info\\_11 & info\\_12 & info\\_13 & info\\_14 & info\\_15 & info\\_16 & info\\_17 & info\\_18 & info\\_19 & info\\_20 & info\\_21 & info\\_22\\\\\n",
       "\\hline\n",
       "\t level 2                                  & transcript\\_support\\_level 1           & tag basic                                & havana\\_gene OTTHUMG00000000961.2       & havana\\_transcript OTTHUMT00000362751.1 & NA                                       & NA                                       & NA                                       & NA                                       & NA                                       & NA                                       & NA                                       & NA                                       & NA                                       & NA                                       & NA                                      \\\\\n",
       "\t level 2                                  & transcript\\_support\\_level NA          & ont PGO:0000005                          & ont PGO:0000019                          & tag basic                                & havana\\_gene OTTHUMG00000000961.2       & havana\\_transcript OTTHUMT00000002844.2 & NA                                       & NA                                       & NA                                       & NA                                       & NA                                       & NA                                       & NA                                       & NA                                       & NA                                      \\\\\n",
       "\t level 2                                  & transcript\\_support\\_level NA          & ont PGO:0000005                          & tag basic                                & havana\\_gene OTTHUMG00000000958.1       & havana\\_transcript OTTHUMT00000002839.1 & NA                                       & NA                                       & NA                                       & NA                                       & NA                                       & NA                                       & NA                                       & NA                                       & NA                                       & NA                                      \\\\\n",
       "\t level 3                                & transcript\\_support\\_level NA        & tag basic                              & NA                                     & NA                                     & NA                                     & NA                                     & NA                                     & NA                                     & NA                                     & NA                                     & NA                                     & NA                                     & NA                                     & NA                                     & NA                                    \\\\\n",
       "\t level 2                                  & transcript\\_support\\_level 5           & tag not\\_best\\_in\\_genome\\_evidence  & tag dotter\\_confirmed                   & tag basic                                & havana\\_gene OTTHUMG00000000959.2       & havana\\_transcript OTTHUMT00000002840.1 & NA                                       & NA                                       & NA                                       & NA                                       & NA                                       & NA                                       & NA                                       & NA                                       & NA                                      \\\\\n",
       "\t level 2                                  & transcript\\_support\\_level 5           & tag not\\_best\\_in\\_genome\\_evidence  & tag basic                                & havana\\_gene OTTHUMG00000000959.2       & havana\\_transcript OTTHUMT00000002841.2 & NA                                       & NA                                       & NA                                       & NA                                       & NA                                       & NA                                       & NA                                       & NA                                       & NA                                       & NA                                      \\\\\n",
       "\\end{tabular}\n"
      ],
      "text/markdown": [
       "\n",
       "info_07 | info_08 | info_09 | info_10 | info_11 | info_12 | info_13 | info_14 | info_15 | info_16 | info_17 | info_18 | info_19 | info_20 | info_21 | info_22 | \n",
       "|---|---|---|---|---|---|\n",
       "| level 2                                | transcript_support_level 1             | tag basic                              | havana_gene OTTHUMG00000000961.2       | havana_transcript OTTHUMT00000362751.1 | NA                                     | NA                                     | NA                                     | NA                                     | NA                                     | NA                                     | NA                                     | NA                                     | NA                                     | NA                                     | NA                                     | \n",
       "| level 2                                | transcript_support_level NA            | ont PGO:0000005                        | ont PGO:0000019                        | tag basic                              | havana_gene OTTHUMG00000000961.2       | havana_transcript OTTHUMT00000002844.2 | NA                                     | NA                                     | NA                                     | NA                                     | NA                                     | NA                                     | NA                                     | NA                                     | NA                                     | \n",
       "| level 2                                | transcript_support_level NA            | ont PGO:0000005                        | tag basic                              | havana_gene OTTHUMG00000000958.1       | havana_transcript OTTHUMT00000002839.1 | NA                                     | NA                                     | NA                                     | NA                                     | NA                                     | NA                                     | NA                                     | NA                                     | NA                                     | NA                                     | \n",
       "| level 3                                | transcript_support_level NA            | tag basic                              | NA                                     | NA                                     | NA                                     | NA                                     | NA                                     | NA                                     | NA                                     | NA                                     | NA                                     | NA                                     | NA                                     | NA                                     | NA                                     | \n",
       "| level 2                                | transcript_support_level 5             | tag not_best_in_genome_evidence        | tag dotter_confirmed                   | tag basic                              | havana_gene OTTHUMG00000000959.2       | havana_transcript OTTHUMT00000002840.1 | NA                                     | NA                                     | NA                                     | NA                                     | NA                                     | NA                                     | NA                                     | NA                                     | NA                                     | \n",
       "| level 2                                | transcript_support_level 5             | tag not_best_in_genome_evidence        | tag basic                              | havana_gene OTTHUMG00000000959.2       | havana_transcript OTTHUMT00000002841.2 | NA                                     | NA                                     | NA                                     | NA                                     | NA                                     | NA                                     | NA                                     | NA                                     | NA                                     | NA                                     | \n",
       "\n",
       "\n"
      ],
      "text/plain": [
       "  info_07 info_08                     info_09                        \n",
       "1 level 2 transcript_support_level 1  tag basic                      \n",
       "2 level 2 transcript_support_level NA ont PGO:0000005                \n",
       "3 level 2 transcript_support_level NA ont PGO:0000005                \n",
       "4 level 3 transcript_support_level NA tag basic                      \n",
       "5 level 2 transcript_support_level 5  tag not_best_in_genome_evidence\n",
       "6 level 2 transcript_support_level 5  tag not_best_in_genome_evidence\n",
       "  info_10                          info_11                               \n",
       "1 havana_gene OTTHUMG00000000961.2 havana_transcript OTTHUMT00000362751.1\n",
       "2 ont PGO:0000019                  tag basic                             \n",
       "3 tag basic                        havana_gene OTTHUMG00000000958.1      \n",
       "4 NA                               NA                                    \n",
       "5 tag dotter_confirmed             tag basic                             \n",
       "6 tag basic                        havana_gene OTTHUMG00000000959.2      \n",
       "  info_12                                info_13                               \n",
       "1 NA                                     NA                                    \n",
       "2 havana_gene OTTHUMG00000000961.2       havana_transcript OTTHUMT00000002844.2\n",
       "3 havana_transcript OTTHUMT00000002839.1 NA                                    \n",
       "4 NA                                     NA                                    \n",
       "5 havana_gene OTTHUMG00000000959.2       havana_transcript OTTHUMT00000002840.1\n",
       "6 havana_transcript OTTHUMT00000002841.2 NA                                    \n",
       "  info_14 info_15 info_16 info_17 info_18 info_19 info_20 info_21 info_22\n",
       "1 NA      NA      NA      NA      NA      NA      NA      NA      NA     \n",
       "2 NA      NA      NA      NA      NA      NA      NA      NA      NA     \n",
       "3 NA      NA      NA      NA      NA      NA      NA      NA      NA     \n",
       "4 NA      NA      NA      NA      NA      NA      NA      NA      NA     \n",
       "5 NA      NA      NA      NA      NA      NA      NA      NA      NA     \n",
       "6 NA      NA      NA      NA      NA      NA      NA      NA      NA     "
      ]
     },
     "metadata": {},
     "output_type": "display_data"
    },
    {
     "data": {
      "text/html": [
       "<ol class=list-inline>\n",
       "\t<li>206694</li>\n",
       "\t<li>30</li>\n",
       "</ol>\n"
      ],
      "text/latex": [
       "\\begin{enumerate*}\n",
       "\\item 206694\n",
       "\\item 30\n",
       "\\end{enumerate*}\n"
      ],
      "text/markdown": [
       "1. 206694\n",
       "2. 30\n",
       "\n",
       "\n"
      ],
      "text/plain": [
       "[1] 206694     30"
      ]
     },
     "metadata": {},
     "output_type": "display_data"
    },
    {
     "data": {
      "text/html": [
       "<ol class=list-inline>\n",
       "\t<li>'chr'</li>\n",
       "\t<li>'database'</li>\n",
       "\t<li>'gene_location'</li>\n",
       "\t<li>'start'</li>\n",
       "\t<li>'stop'</li>\n",
       "\t<li>'blank2'</li>\n",
       "\t<li>'strand'</li>\n",
       "\t<li>'blank3'</li>\n",
       "\t<li>'info_01'</li>\n",
       "\t<li>'info_02'</li>\n",
       "\t<li>'info_03'</li>\n",
       "\t<li>'info_04'</li>\n",
       "\t<li>'info_05'</li>\n",
       "\t<li>'info_06'</li>\n",
       "\t<li>'info_07'</li>\n",
       "\t<li>'info_08'</li>\n",
       "\t<li>'info_09'</li>\n",
       "\t<li>'info_10'</li>\n",
       "\t<li>'info_11'</li>\n",
       "\t<li>'info_12'</li>\n",
       "\t<li>'info_13'</li>\n",
       "\t<li>'info_14'</li>\n",
       "\t<li>'info_15'</li>\n",
       "\t<li>'info_16'</li>\n",
       "\t<li>'info_17'</li>\n",
       "\t<li>'info_18'</li>\n",
       "\t<li>'info_19'</li>\n",
       "\t<li>'info_20'</li>\n",
       "\t<li>'info_21'</li>\n",
       "\t<li>'info_22'</li>\n",
       "</ol>\n"
      ],
      "text/latex": [
       "\\begin{enumerate*}\n",
       "\\item 'chr'\n",
       "\\item 'database'\n",
       "\\item 'gene\\_location'\n",
       "\\item 'start'\n",
       "\\item 'stop'\n",
       "\\item 'blank2'\n",
       "\\item 'strand'\n",
       "\\item 'blank3'\n",
       "\\item 'info\\_01'\n",
       "\\item 'info\\_02'\n",
       "\\item 'info\\_03'\n",
       "\\item 'info\\_04'\n",
       "\\item 'info\\_05'\n",
       "\\item 'info\\_06'\n",
       "\\item 'info\\_07'\n",
       "\\item 'info\\_08'\n",
       "\\item 'info\\_09'\n",
       "\\item 'info\\_10'\n",
       "\\item 'info\\_11'\n",
       "\\item 'info\\_12'\n",
       "\\item 'info\\_13'\n",
       "\\item 'info\\_14'\n",
       "\\item 'info\\_15'\n",
       "\\item 'info\\_16'\n",
       "\\item 'info\\_17'\n",
       "\\item 'info\\_18'\n",
       "\\item 'info\\_19'\n",
       "\\item 'info\\_20'\n",
       "\\item 'info\\_21'\n",
       "\\item 'info\\_22'\n",
       "\\end{enumerate*}\n"
      ],
      "text/markdown": [
       "1. 'chr'\n",
       "2. 'database'\n",
       "3. 'gene_location'\n",
       "4. 'start'\n",
       "5. 'stop'\n",
       "6. 'blank2'\n",
       "7. 'strand'\n",
       "8. 'blank3'\n",
       "9. 'info_01'\n",
       "10. 'info_02'\n",
       "11. 'info_03'\n",
       "12. 'info_04'\n",
       "13. 'info_05'\n",
       "14. 'info_06'\n",
       "15. 'info_07'\n",
       "16. 'info_08'\n",
       "17. 'info_09'\n",
       "18. 'info_10'\n",
       "19. 'info_11'\n",
       "20. 'info_12'\n",
       "21. 'info_13'\n",
       "22. 'info_14'\n",
       "23. 'info_15'\n",
       "24. 'info_16'\n",
       "25. 'info_17'\n",
       "26. 'info_18'\n",
       "27. 'info_19'\n",
       "28. 'info_20'\n",
       "29. 'info_21'\n",
       "30. 'info_22'\n",
       "\n",
       "\n"
      ],
      "text/plain": [
       " [1] \"chr\"           \"database\"      \"gene_location\" \"start\"        \n",
       " [5] \"stop\"          \"blank2\"        \"strand\"        \"blank3\"       \n",
       " [9] \"info_01\"       \"info_02\"       \"info_03\"       \"info_04\"      \n",
       "[13] \"info_05\"       \"info_06\"       \"info_07\"       \"info_08\"      \n",
       "[17] \"info_09\"       \"info_10\"       \"info_11\"       \"info_12\"      \n",
       "[21] \"info_13\"       \"info_14\"       \"info_15\"       \"info_16\"      \n",
       "[25] \"info_17\"       \"info_18\"       \"info_19\"       \"info_20\"      \n",
       "[29] \"info_21\"       \"info_22\"      "
      ]
     },
     "metadata": {},
     "output_type": "display_data"
    }
   ],
   "source": [
    "head(x)[,1:14]\n",
    "head(x)[,15:30]\n",
    "dim(x)\n",
    "colnames(x)"
   ]
  },
  {
   "cell_type": "markdown",
   "metadata": {},
   "source": [
    "# Parse x object\n",
    "\n",
    "## Remove descriptive text from data\n",
    "* Look at the headers of the previous cell to find the appropriate names for columns of interest."
   ]
  },
  {
   "cell_type": "code",
   "execution_count": 22,
   "metadata": {},
   "outputs": [],
   "source": [
    "x$info_01 <- sub(\"gene_id \", \"\", x$info_01)\n",
    "x$info_02 <- sub(\"transcript_id \", \"\", x$info_02)\n",
    "x$info_03 <- sub(\"gene_type \", \"\", x$info_03)\n",
    "#x$info_04 <- sub(\"gene_name \", \"\", x$info_04)\n",
    "#x$info_05 <- sub(\"transcript_type \", \"\", x$info_05)\n",
    "#x$info_06 <- sub(\"transcript_name \", \"\", x$info_06)\n",
    "#x$info_07 <- sub(\"exon_number \", \"\", x$info_07)\n",
    "#x$info_08 <- sub(\"exon_id \", \"\", x$info_08)\n",
    "\n",
    "ex$info_01 <- sub(\"gene_id \", \"\", ex$info_01)\n",
    "ex$info_02 <- sub(\"transcript_id \", \"\", ex$info_02)\n",
    "ex$info_03 <- sub(\"gene_type \", \"\", ex$info_03)\n",
    "ex$info_04 <- sub(\"gene_name \", \"\", ex$info_04)\n",
    "ex$info_05 <- sub(\"transcript_type \", \"\", ex$info_05)\n",
    "ex$info_06 <- sub(\"transcript_name \", \"\", ex$info_06)\n",
    "ex$info_07 <- sub(\"exon_number \", \"\", ex$info_07)\n",
    "ex$info_08 <- sub(\"exon_id \", \"\", ex$info_08)\n"
   ]
  },
  {
   "cell_type": "markdown",
   "metadata": {},
   "source": [
    "# Create ANNOT object"
   ]
  },
  {
   "cell_type": "code",
   "execution_count": 23,
   "metadata": {},
   "outputs": [],
   "source": [
    "ANNOT <- data.frame(\"gene_type\" = x$info_03,\n",
    "                    \"gene_id\" = x$info_01,\n",
    "                    \"transcript_id\" = x$info_02)\n",
    "\n",
    "ANNOT_ex <- data.frame(\"chr\" = ex$chr, \n",
    "                       \"start\" = ex$start,\n",
    "                       \"stop\" = ex$stop,\n",
    "                       \"stand\" = ex$strand,\n",
    "                       \"gene_type\" = ex$info_03,\n",
    "                       \"gene_id\" = ex$info_01,\n",
    "                       \"transcript_id\" = ex$info_02, \n",
    "                      \"gene_name\" = ex$info_04, \n",
    "                      \"transcript_type\" = ex$info_05, \n",
    "                      \"exon_number\" = ex$info_07,\n",
    "                      \"exon_id\" = ex$info_08)"
   ]
  },
  {
   "cell_type": "markdown",
   "metadata": {},
   "source": [
    "## Remove white space from character columns"
   ]
  },
  {
   "cell_type": "code",
   "execution_count": 24,
   "metadata": {},
   "outputs": [],
   "source": [
    "#ANNOT$type <- gsub(\" \", \"\", ANNOT$type)\n",
    "#ANNOT$gene_location <- gsub(\" \", \"\", ANNOT$gene_location)\n",
    "ANNOT$gene_id <- gsub(\" \", \"\", ANNOT$gene_id)\n",
    "ANNOT$transcript_id <- gsub(\" \", \"\", ANNOT$transcript_id)\n",
    "ANNOT$gene_type <- gsub(\" \", \"\", ANNOT$gene_type)\n",
    "#ANNOT$gene_name <- gsub(\" \", \"\", ANNOT$gene_name)\n",
    "\n",
    "#ANNOT_ex$type <- gsub(\" \", \"\", ANNOT_ex$type)\n",
    "#ANNOT_ex$gene_location <- gsub(\" \", \"\", ANNOT_ex$gene_location)\n",
    "ANNOT_ex$gene_id <- gsub(\" \", \"\", ANNOT_ex$gene_id)\n",
    "ANNOT_ex$transcript_id <- gsub(\" \", \"\", ANNOT_ex$transcript_id)\n",
    "ANNOT_ex$gene_type <- gsub(\" \", \"\", ANNOT_ex$gene_type)\n",
    "ANNOT_ex$gene_name <- gsub(\" \", \"\", ANNOT_ex$gene_name)\n",
    "ANNOT_ex$transcript_type <- gsub(\" \", \"\", ANNOT_ex$transcript_type)\n",
    "ANNOT_ex$exon_number <- gsub(\" \", \"\", ANNOT_ex$exon_number)\n",
    "ANNOT_ex$exon_id <- gsub(\" \", \"\", ANNOT_ex$exon_id)"
   ]
  },
  {
   "cell_type": "code",
   "execution_count": 16,
   "metadata": {},
   "outputs": [
    {
     "data": {
      "text/plain": [
       "\n",
       "          3prime_overlapping_ncRNA                          antisense \n",
       "                                38                              10330 \n",
       "     bidirectional_promoter_lncRNA                          IG_C_gene \n",
       "                               273                                 24 \n",
       "                   IG_C_pseudogene                          IG_D_gene \n",
       "                                 9                                 37 \n",
       "                         IG_J_gene                    IG_J_pseudogene \n",
       "                                18                                  3 \n",
       "                     IG_pseudogene                          IG_V_gene \n",
       "                                 1                                153 \n",
       "                   IG_V_pseudogene                            lincRNA \n",
       "                               188                              13188 \n",
       "                      macro_lncRNA                              miRNA \n",
       "                                 1                               1881 \n",
       "                          misc_RNA                            Mt_rRNA \n",
       "                              2213                                  2 \n",
       "                           Mt_tRNA                         non_coding \n",
       "                                22                                  2 \n",
       "            polymorphic_pseudogene               processed_pseudogene \n",
       "                               117                              10202 \n",
       "              processed_transcript                     protein_coding \n",
       "                              3348                             151222 \n",
       "                        pseudogene                           ribozyme \n",
       "                                18                                  8 \n",
       "                              rRNA                    rRNA_pseudogene \n",
       "                                52                                500 \n",
       "                            scaRNA                              scRNA \n",
       "                                49                                  1 \n",
       "                    sense_intronic                  sense_overlapping \n",
       "                               954                                344 \n",
       "                            snoRNA                              snRNA \n",
       "                               955                               1900 \n",
       "                              sRNA                                TEC \n",
       "                                 5                               1088 \n",
       "                         TR_C_gene                          TR_D_gene \n",
       "                                 6                                  4 \n",
       "                         TR_J_gene                    TR_J_pseudogene \n",
       "                                79                                  4 \n",
       "                         TR_V_gene                    TR_V_pseudogene \n",
       "                               107                                 33 \n",
       "  transcribed_processed_pseudogene     transcribed_unitary_pseudogene \n",
       "                              1057                                634 \n",
       "transcribed_unprocessed_pseudogene    translated_processed_pseudogene \n",
       "                              2875                                  3 \n",
       "                unitary_pseudogene             unprocessed_pseudogene \n",
       "                                95                               2650 \n",
       "                          vaultRNA \n",
       "                                 1 "
      ]
     },
     "metadata": {},
     "output_type": "display_data"
    }
   ],
   "source": [
    "table(ANNOT$gene_type)"
   ]
  },
  {
   "cell_type": "code",
   "execution_count": 27,
   "metadata": {},
   "outputs": [
    {
     "data": {
      "text/plain": [
       "\n",
       "          3prime_overlapping_ncRNA                          antisense \n",
       "                                78                              30719 \n",
       "     bidirectional_promoter_lncRNA                          IG_C_gene \n",
       "                              1122                                105 \n",
       "                   IG_C_pseudogene                          IG_D_gene \n",
       "                                15                                 37 \n",
       "                         IG_J_gene                    IG_J_pseudogene \n",
       "                                18                                  3 \n",
       "                     IG_pseudogene                          IG_V_gene \n",
       "                                 1                                301 \n",
       "                   IG_V_pseudogene                            lincRNA \n",
       "                               288                              41163 \n",
       "                      macro_lncRNA                              miRNA \n",
       "                                 1                               1881 \n",
       "                          misc_RNA                            Mt_rRNA \n",
       "                              2213                                  2 \n",
       "                           Mt_tRNA                         non_coding \n",
       "                                22                                  2 \n",
       "            polymorphic_pseudogene               processed_pseudogene \n",
       "                               733                              11827 \n",
       "              processed_transcript                     protein_coding \n",
       "                             15096                            1119753 \n",
       "                        pseudogene                           ribozyme \n",
       "                                40                                  8 \n",
       "                              rRNA                    rRNA_pseudogene \n",
       "                                52                                500 \n",
       "                            scaRNA                              scRNA \n",
       "                                49                                  1 \n",
       "                    sense_intronic                  sense_overlapping \n",
       "                              1728                                982 \n",
       "                            snoRNA                              snRNA \n",
       "                               955                               1900 \n",
       "                              sRNA                                TEC \n",
       "                                 5                               1102 \n",
       "                         TR_C_gene                          TR_D_gene \n",
       "                                23                                  4 \n",
       "                         TR_J_gene                    TR_J_pseudogene \n",
       "                                79                                  4 \n",
       "                         TR_V_gene                    TR_V_pseudogene \n",
       "                               212                                 57 \n",
       "  transcribed_processed_pseudogene     transcribed_unitary_pseudogene \n",
       "                              2296                               3794 \n",
       "transcribed_unprocessed_pseudogene    translated_processed_pseudogene \n",
       "                             15207                                  3 \n",
       "                unitary_pseudogene             unprocessed_pseudogene \n",
       "                               292                               8099 \n",
       "                          vaultRNA \n",
       "                                 1 "
      ]
     },
     "metadata": {},
     "output_type": "display_data"
    },
    {
     "data": {
      "text/html": [
       "<ol class=list-inline>\n",
       "\t<li>1262773</li>\n",
       "\t<li>11</li>\n",
       "</ol>\n"
      ],
      "text/latex": [
       "\\begin{enumerate*}\n",
       "\\item 1262773\n",
       "\\item 11\n",
       "\\end{enumerate*}\n"
      ],
      "text/markdown": [
       "1. 1262773\n",
       "2. 11\n",
       "\n",
       "\n"
      ],
      "text/plain": [
       "[1] 1262773      11"
      ]
     },
     "metadata": {},
     "output_type": "display_data"
    },
    {
     "data": {
      "text/html": [
       "58721"
      ],
      "text/latex": [
       "58721"
      ],
      "text/markdown": [
       "58721"
      ],
      "text/plain": [
       "[1] 58721"
      ]
     },
     "metadata": {},
     "output_type": "display_data"
    }
   ],
   "source": [
    "table(ANNOT_ex$gene_type)\n",
    "dim(ANNOT_ex)\n",
    "length(unique(ANNOT_ex$gene_id))"
   ]
  },
  {
   "cell_type": "code",
   "execution_count": 26,
   "metadata": {},
   "outputs": [
    {
     "data": {
      "text/html": [
       "58721"
      ],
      "text/latex": [
       "58721"
      ],
      "text/markdown": [
       "58721"
      ],
      "text/plain": [
       "[1] 58721"
      ]
     },
     "metadata": {},
     "output_type": "display_data"
    }
   ],
   "source": [
    "length(unique(ANNOT$gene_id))"
   ]
  },
  {
   "cell_type": "markdown",
   "metadata": {},
   "source": [
    "## Remove pseudoautosomal regions (PAR)\n",
    "* [PAR](https://uswest.ensembl.org/info/genome/genebuild/human_PARS.html) occur where chromosome X and Y share homologous sequences. These genes are not relevant to the protein coding and non-protein coding designations that we use the annotation file for and can be removed. They also disrupt the RNASeq notebook from properly parsing coding and non-coding gene lists.\n",
    "* PAR are designated with a _PAR_X/Y suffix"
   ]
  },
  {
   "cell_type": "code",
   "execution_count": 29,
   "metadata": {},
   "outputs": [],
   "source": [
    "par.idx <- grep(\"*_PAR_*\", ANNOT$gene_id)\n",
    "par.idx.ex <- grep(\"*_PAR_*\", ANNOT_ex$gene_id)"
   ]
  },
  {
   "cell_type": "code",
   "execution_count": 30,
   "metadata": {},
   "outputs": [
    {
     "data": {
      "text/html": [
       "<table>\n",
       "<caption>A data.frame: 5 × 3</caption>\n",
       "<thead>\n",
       "\t<tr><th></th><th scope=col>gene_type</th><th scope=col>gene_id</th><th scope=col>transcript_id</th></tr>\n",
       "\t<tr><th></th><th scope=col>&lt;chr&gt;</th><th scope=col>&lt;chr&gt;</th><th scope=col>&lt;chr&gt;</th></tr>\n",
       "</thead>\n",
       "<tbody>\n",
       "\t<tr><th scope=row>205760</th><td>unprocessed_pseudogene</td><td>ENSG00000228572.7_PAR_Y </td><td>ENST00000431238.7_PAR_Y</td></tr>\n",
       "\t<tr><th scope=row>205761</th><td>protein_coding        </td><td>ENSG00000182378.13_PAR_Y</td><td>ENST00000399012.6_PAR_Y</td></tr>\n",
       "\t<tr><th scope=row>205762</th><td>protein_coding        </td><td>ENSG00000182378.13_PAR_Y</td><td>ENST00000484611.7_PAR_Y</td></tr>\n",
       "\t<tr><th scope=row>205763</th><td>protein_coding        </td><td>ENSG00000182378.13_PAR_Y</td><td>ENST00000430923.7_PAR_Y</td></tr>\n",
       "\t<tr><th scope=row>205764</th><td>protein_coding        </td><td>ENSG00000182378.13_PAR_Y</td><td>ENST00000445062.6_PAR_Y</td></tr>\n",
       "</tbody>\n",
       "</table>\n"
      ],
      "text/latex": [
       "A data.frame: 5 × 3\n",
       "\\begin{tabular}{r|lll}\n",
       "  & gene\\_type & gene\\_id & transcript\\_id\\\\\n",
       "  & <chr> & <chr> & <chr>\\\\\n",
       "\\hline\n",
       "\t205760 & unprocessed\\_pseudogene & ENSG00000228572.7\\_PAR\\_Y  & ENST00000431238.7\\_PAR\\_Y\\\\\n",
       "\t205761 & protein\\_coding         & ENSG00000182378.13\\_PAR\\_Y & ENST00000399012.6\\_PAR\\_Y\\\\\n",
       "\t205762 & protein\\_coding         & ENSG00000182378.13\\_PAR\\_Y & ENST00000484611.7\\_PAR\\_Y\\\\\n",
       "\t205763 & protein\\_coding         & ENSG00000182378.13\\_PAR\\_Y & ENST00000430923.7\\_PAR\\_Y\\\\\n",
       "\t205764 & protein\\_coding         & ENSG00000182378.13\\_PAR\\_Y & ENST00000445062.6\\_PAR\\_Y\\\\\n",
       "\\end{tabular}\n"
      ],
      "text/markdown": [
       "\n",
       "A data.frame: 5 × 3\n",
       "\n",
       "| <!--/--> | gene_type &lt;chr&gt; | gene_id &lt;chr&gt; | transcript_id &lt;chr&gt; |\n",
       "|---|---|---|---|\n",
       "| 205760 | unprocessed_pseudogene | ENSG00000228572.7_PAR_Y  | ENST00000431238.7_PAR_Y |\n",
       "| 205761 | protein_coding         | ENSG00000182378.13_PAR_Y | ENST00000399012.6_PAR_Y |\n",
       "| 205762 | protein_coding         | ENSG00000182378.13_PAR_Y | ENST00000484611.7_PAR_Y |\n",
       "| 205763 | protein_coding         | ENSG00000182378.13_PAR_Y | ENST00000430923.7_PAR_Y |\n",
       "| 205764 | protein_coding         | ENSG00000182378.13_PAR_Y | ENST00000445062.6_PAR_Y |\n",
       "\n"
      ],
      "text/plain": [
       "       gene_type              gene_id                  transcript_id          \n",
       "205760 unprocessed_pseudogene ENSG00000228572.7_PAR_Y  ENST00000431238.7_PAR_Y\n",
       "205761 protein_coding         ENSG00000182378.13_PAR_Y ENST00000399012.6_PAR_Y\n",
       "205762 protein_coding         ENSG00000182378.13_PAR_Y ENST00000484611.7_PAR_Y\n",
       "205763 protein_coding         ENSG00000182378.13_PAR_Y ENST00000430923.7_PAR_Y\n",
       "205764 protein_coding         ENSG00000182378.13_PAR_Y ENST00000445062.6_PAR_Y"
      ]
     },
     "metadata": {},
     "output_type": "display_data"
    },
    {
     "data": {
      "text/html": [
       "45"
      ],
      "text/latex": [
       "45"
      ],
      "text/markdown": [
       "45"
      ],
      "text/plain": [
       "[1] 45"
      ]
     },
     "metadata": {},
     "output_type": "display_data"
    },
    {
     "data": {
      "text/html": [
       "<table>\n",
       "<caption>A data.frame: 5 × 11</caption>\n",
       "<thead>\n",
       "\t<tr><th></th><th scope=col>chr</th><th scope=col>start</th><th scope=col>stop</th><th scope=col>stand</th><th scope=col>gene_type</th><th scope=col>gene_id</th><th scope=col>transcript_id</th><th scope=col>gene_name</th><th scope=col>transcript_type</th><th scope=col>exon_number</th><th scope=col>exon_id</th></tr>\n",
       "\t<tr><th></th><th scope=col>&lt;fct&gt;</th><th scope=col>&lt;int&gt;</th><th scope=col>&lt;int&gt;</th><th scope=col>&lt;fct&gt;</th><th scope=col>&lt;chr&gt;</th><th scope=col>&lt;chr&gt;</th><th scope=col>&lt;chr&gt;</th><th scope=col>&lt;chr&gt;</th><th scope=col>&lt;chr&gt;</th><th scope=col>&lt;chr&gt;</th><th scope=col>&lt;chr&gt;</th></tr>\n",
       "</thead>\n",
       "<tbody>\n",
       "\t<tr><th scope=row>1258107</th><td>chrY</td><td>253743</td><td>253846</td><td>+</td><td>unprocessed_pseudogene</td><td>ENSG00000228572.7_PAR_Y </td><td>ENST00000431238.7_PAR_Y</td><td>AL954722.1</td><td>unprocessed_pseudogene</td><td>1</td><td>ENSE00001702291.1</td></tr>\n",
       "\t<tr><th scope=row>1258108</th><td>chrY</td><td>254937</td><td>255091</td><td>+</td><td>unprocessed_pseudogene</td><td>ENSG00000228572.7_PAR_Y </td><td>ENST00000431238.7_PAR_Y</td><td>AL954722.1</td><td>unprocessed_pseudogene</td><td>2</td><td>ENSE00001655436.1</td></tr>\n",
       "\t<tr><th scope=row>1258109</th><td>chrY</td><td>276322</td><td>276394</td><td>+</td><td>protein_coding        </td><td>ENSG00000182378.13_PAR_Y</td><td>ENST00000399012.6_PAR_Y</td><td>PLCXD1    </td><td>protein_coding        </td><td>1</td><td>ENSE00001489430.1</td></tr>\n",
       "\t<tr><th scope=row>1258110</th><td>chrY</td><td>281482</td><td>281684</td><td>+</td><td>protein_coding        </td><td>ENSG00000182378.13_PAR_Y</td><td>ENST00000399012.6_PAR_Y</td><td>PLCXD1    </td><td>protein_coding        </td><td>2</td><td>ENSE00001306908.2</td></tr>\n",
       "\t<tr><th scope=row>1258111</th><td>chrY</td><td>284167</td><td>284314</td><td>+</td><td>protein_coding        </td><td>ENSG00000182378.13_PAR_Y</td><td>ENST00000399012.6_PAR_Y</td><td>PLCXD1    </td><td>protein_coding        </td><td>3</td><td>ENSE00003812308.1</td></tr>\n",
       "</tbody>\n",
       "</table>\n"
      ],
      "text/latex": [
       "A data.frame: 5 × 11\n",
       "\\begin{tabular}{r|lllllllllll}\n",
       "  & chr & start & stop & stand & gene\\_type & gene\\_id & transcript\\_id & gene\\_name & transcript\\_type & exon\\_number & exon\\_id\\\\\n",
       "  & <fct> & <int> & <int> & <fct> & <chr> & <chr> & <chr> & <chr> & <chr> & <chr> & <chr>\\\\\n",
       "\\hline\n",
       "\t1258107 & chrY & 253743 & 253846 & + & unprocessed\\_pseudogene & ENSG00000228572.7\\_PAR\\_Y  & ENST00000431238.7\\_PAR\\_Y & AL954722.1 & unprocessed\\_pseudogene & 1 & ENSE00001702291.1\\\\\n",
       "\t1258108 & chrY & 254937 & 255091 & + & unprocessed\\_pseudogene & ENSG00000228572.7\\_PAR\\_Y  & ENST00000431238.7\\_PAR\\_Y & AL954722.1 & unprocessed\\_pseudogene & 2 & ENSE00001655436.1\\\\\n",
       "\t1258109 & chrY & 276322 & 276394 & + & protein\\_coding         & ENSG00000182378.13\\_PAR\\_Y & ENST00000399012.6\\_PAR\\_Y & PLCXD1     & protein\\_coding         & 1 & ENSE00001489430.1\\\\\n",
       "\t1258110 & chrY & 281482 & 281684 & + & protein\\_coding         & ENSG00000182378.13\\_PAR\\_Y & ENST00000399012.6\\_PAR\\_Y & PLCXD1     & protein\\_coding         & 2 & ENSE00001306908.2\\\\\n",
       "\t1258111 & chrY & 284167 & 284314 & + & protein\\_coding         & ENSG00000182378.13\\_PAR\\_Y & ENST00000399012.6\\_PAR\\_Y & PLCXD1     & protein\\_coding         & 3 & ENSE00003812308.1\\\\\n",
       "\\end{tabular}\n"
      ],
      "text/markdown": [
       "\n",
       "A data.frame: 5 × 11\n",
       "\n",
       "| <!--/--> | chr &lt;fct&gt; | start &lt;int&gt; | stop &lt;int&gt; | stand &lt;fct&gt; | gene_type &lt;chr&gt; | gene_id &lt;chr&gt; | transcript_id &lt;chr&gt; | gene_name &lt;chr&gt; | transcript_type &lt;chr&gt; | exon_number &lt;chr&gt; | exon_id &lt;chr&gt; |\n",
       "|---|---|---|---|---|---|---|---|---|---|---|---|\n",
       "| 1258107 | chrY | 253743 | 253846 | + | unprocessed_pseudogene | ENSG00000228572.7_PAR_Y  | ENST00000431238.7_PAR_Y | AL954722.1 | unprocessed_pseudogene | 1 | ENSE00001702291.1 |\n",
       "| 1258108 | chrY | 254937 | 255091 | + | unprocessed_pseudogene | ENSG00000228572.7_PAR_Y  | ENST00000431238.7_PAR_Y | AL954722.1 | unprocessed_pseudogene | 2 | ENSE00001655436.1 |\n",
       "| 1258109 | chrY | 276322 | 276394 | + | protein_coding         | ENSG00000182378.13_PAR_Y | ENST00000399012.6_PAR_Y | PLCXD1     | protein_coding         | 1 | ENSE00001489430.1 |\n",
       "| 1258110 | chrY | 281482 | 281684 | + | protein_coding         | ENSG00000182378.13_PAR_Y | ENST00000399012.6_PAR_Y | PLCXD1     | protein_coding         | 2 | ENSE00001306908.2 |\n",
       "| 1258111 | chrY | 284167 | 284314 | + | protein_coding         | ENSG00000182378.13_PAR_Y | ENST00000399012.6_PAR_Y | PLCXD1     | protein_coding         | 3 | ENSE00003812308.1 |\n",
       "\n"
      ],
      "text/plain": [
       "        chr  start  stop   stand gene_type             \n",
       "1258107 chrY 253743 253846 +     unprocessed_pseudogene\n",
       "1258108 chrY 254937 255091 +     unprocessed_pseudogene\n",
       "1258109 chrY 276322 276394 +     protein_coding        \n",
       "1258110 chrY 281482 281684 +     protein_coding        \n",
       "1258111 chrY 284167 284314 +     protein_coding        \n",
       "        gene_id                  transcript_id           gene_name \n",
       "1258107 ENSG00000228572.7_PAR_Y  ENST00000431238.7_PAR_Y AL954722.1\n",
       "1258108 ENSG00000228572.7_PAR_Y  ENST00000431238.7_PAR_Y AL954722.1\n",
       "1258109 ENSG00000182378.13_PAR_Y ENST00000399012.6_PAR_Y PLCXD1    \n",
       "1258110 ENSG00000182378.13_PAR_Y ENST00000399012.6_PAR_Y PLCXD1    \n",
       "1258111 ENSG00000182378.13_PAR_Y ENST00000399012.6_PAR_Y PLCXD1    \n",
       "        transcript_type        exon_number exon_id          \n",
       "1258107 unprocessed_pseudogene 1           ENSE00001702291.1\n",
       "1258108 unprocessed_pseudogene 2           ENSE00001655436.1\n",
       "1258109 protein_coding         1           ENSE00001489430.1\n",
       "1258110 protein_coding         2           ENSE00001306908.2\n",
       "1258111 protein_coding         3           ENSE00003812308.1"
      ]
     },
     "metadata": {},
     "output_type": "display_data"
    },
    {
     "data": {
      "text/html": [
       "45"
      ],
      "text/latex": [
       "45"
      ],
      "text/markdown": [
       "45"
      ],
      "text/plain": [
       "[1] 45"
      ]
     },
     "metadata": {},
     "output_type": "display_data"
    }
   ],
   "source": [
    "head(ANNOT[par.idx,], 5)\n",
    "length(unique(ANNOT[par.idx, \"gene_id\"]))\n",
    "head(ANNOT_ex[par.idx.ex,], 5)\n",
    "length(unique(ANNOT_ex[par.idx.ex, \"gene_id\"]))"
   ]
  },
  {
   "cell_type": "code",
   "execution_count": 31,
   "metadata": {},
   "outputs": [
    {
     "data": {
      "text/html": [
       "<ol class=list-inline>\n",
       "\t<li>206694</li>\n",
       "\t<li>3</li>\n",
       "</ol>\n"
      ],
      "text/latex": [
       "\\begin{enumerate*}\n",
       "\\item 206694\n",
       "\\item 3\n",
       "\\end{enumerate*}\n"
      ],
      "text/markdown": [
       "1. 206694\n",
       "2. 3\n",
       "\n",
       "\n"
      ],
      "text/plain": [
       "[1] 206694      3"
      ]
     },
     "metadata": {},
     "output_type": "display_data"
    },
    {
     "data": {
      "text/html": [
       "<ol class=list-inline>\n",
       "\t<li>206534</li>\n",
       "\t<li>3</li>\n",
       "</ol>\n"
      ],
      "text/latex": [
       "\\begin{enumerate*}\n",
       "\\item 206534\n",
       "\\item 3\n",
       "\\end{enumerate*}\n"
      ],
      "text/markdown": [
       "1. 206534\n",
       "2. 3\n",
       "\n",
       "\n"
      ],
      "text/plain": [
       "[1] 206534      3"
      ]
     },
     "metadata": {},
     "output_type": "display_data"
    },
    {
     "data": {
      "text/html": [
       "<ol class=list-inline>\n",
       "\t<li>1262773</li>\n",
       "\t<li>11</li>\n",
       "</ol>\n"
      ],
      "text/latex": [
       "\\begin{enumerate*}\n",
       "\\item 1262773\n",
       "\\item 11\n",
       "\\end{enumerate*}\n"
      ],
      "text/markdown": [
       "1. 1262773\n",
       "2. 11\n",
       "\n",
       "\n"
      ],
      "text/plain": [
       "[1] 1262773      11"
      ]
     },
     "metadata": {},
     "output_type": "display_data"
    },
    {
     "data": {
      "text/html": [
       "<ol class=list-inline>\n",
       "\t<li>1261907</li>\n",
       "\t<li>11</li>\n",
       "</ol>\n"
      ],
      "text/latex": [
       "\\begin{enumerate*}\n",
       "\\item 1261907\n",
       "\\item 11\n",
       "\\end{enumerate*}\n"
      ],
      "text/markdown": [
       "1. 1261907\n",
       "2. 11\n",
       "\n",
       "\n"
      ],
      "text/plain": [
       "[1] 1261907      11"
      ]
     },
     "metadata": {},
     "output_type": "display_data"
    }
   ],
   "source": [
    "dim(ANNOT)\n",
    "ANNOT <- ANNOT[-par.idx,]\n",
    "dim(ANNOT)\n",
    "\n",
    "dim(ANNOT_ex)\n",
    "ANNOT_ex <- ANNOT_ex[-par.idx.ex,]\n",
    "dim(ANNOT_ex)"
   ]
  },
  {
   "cell_type": "markdown",
   "metadata": {},
   "source": [
    "## Remove duplicate rows"
   ]
  },
  {
   "cell_type": "code",
   "execution_count": 24,
   "metadata": {},
   "outputs": [
    {
     "data": {
      "text/html": [
       "<table>\n",
       "<thead><tr><th scope=col>gene_type</th><th scope=col>gene_id</th><th scope=col>transcript_id</th></tr></thead>\n",
       "<tbody>\n",
       "\t<tr><td>transcribed_unprocessed_pseudogene</td><td>ENSG00000223972.5                 </td><td>ENST00000456328.2                 </td></tr>\n",
       "\t<tr><td>transcribed_unprocessed_pseudogene</td><td>ENSG00000223972.5                 </td><td>ENST00000450305.2                 </td></tr>\n",
       "\t<tr><td>unprocessed_pseudogene            </td><td>ENSG00000227232.5                 </td><td>ENST00000488147.1                 </td></tr>\n",
       "\t<tr><td>miRNA                             </td><td>ENSG00000278267.1                 </td><td>ENST00000619216.1                 </td></tr>\n",
       "\t<tr><td>lincRNA                           </td><td>ENSG00000243485.5                 </td><td>ENST00000473358.1                 </td></tr>\n",
       "\t<tr><td>lincRNA                           </td><td>ENSG00000243485.5                 </td><td>ENST00000469289.1                 </td></tr>\n",
       "\t<tr><td>miRNA                             </td><td>ENSG00000284332.1                 </td><td>ENST00000607096.1                 </td></tr>\n",
       "\t<tr><td>lincRNA                           </td><td>ENSG00000237613.2                 </td><td>ENST00000417324.1                 </td></tr>\n",
       "\t<tr><td>lincRNA                           </td><td>ENSG00000237613.2                 </td><td>ENST00000461467.1                 </td></tr>\n",
       "\t<tr><td>unprocessed_pseudogene            </td><td>ENSG00000268020.3                 </td><td>ENST00000606857.1                 </td></tr>\n",
       "</tbody>\n",
       "</table>\n"
      ],
      "text/latex": [
       "\\begin{tabular}{r|lll}\n",
       " gene\\_type & gene\\_id & transcript\\_id\\\\\n",
       "\\hline\n",
       "\t transcribed\\_unprocessed\\_pseudogene & ENSG00000223972.5                      & ENST00000456328.2                     \\\\\n",
       "\t transcribed\\_unprocessed\\_pseudogene & ENSG00000223972.5                      & ENST00000450305.2                     \\\\\n",
       "\t unprocessed\\_pseudogene             & ENSG00000227232.5                    & ENST00000488147.1                   \\\\\n",
       "\t miRNA                              & ENSG00000278267.1                  & ENST00000619216.1                 \\\\\n",
       "\t lincRNA                            & ENSG00000243485.5                  & ENST00000473358.1                 \\\\\n",
       "\t lincRNA                            & ENSG00000243485.5                  & ENST00000469289.1                 \\\\\n",
       "\t miRNA                              & ENSG00000284332.1                  & ENST00000607096.1                 \\\\\n",
       "\t lincRNA                            & ENSG00000237613.2                  & ENST00000417324.1                 \\\\\n",
       "\t lincRNA                            & ENSG00000237613.2                  & ENST00000461467.1                 \\\\\n",
       "\t unprocessed\\_pseudogene             & ENSG00000268020.3                    & ENST00000606857.1                   \\\\\n",
       "\\end{tabular}\n"
      ],
      "text/markdown": [
       "\n",
       "gene_type | gene_id | transcript_id | \n",
       "|---|---|---|---|---|---|---|---|---|---|\n",
       "| transcribed_unprocessed_pseudogene | ENSG00000223972.5                  | ENST00000456328.2                  | \n",
       "| transcribed_unprocessed_pseudogene | ENSG00000223972.5                  | ENST00000450305.2                  | \n",
       "| unprocessed_pseudogene             | ENSG00000227232.5                  | ENST00000488147.1                  | \n",
       "| miRNA                              | ENSG00000278267.1                  | ENST00000619216.1                  | \n",
       "| lincRNA                            | ENSG00000243485.5                  | ENST00000473358.1                  | \n",
       "| lincRNA                            | ENSG00000243485.5                  | ENST00000469289.1                  | \n",
       "| miRNA                              | ENSG00000284332.1                  | ENST00000607096.1                  | \n",
       "| lincRNA                            | ENSG00000237613.2                  | ENST00000417324.1                  | \n",
       "| lincRNA                            | ENSG00000237613.2                  | ENST00000461467.1                  | \n",
       "| unprocessed_pseudogene             | ENSG00000268020.3                  | ENST00000606857.1                  | \n",
       "\n",
       "\n"
      ],
      "text/plain": [
       "   gene_type                          gene_id           transcript_id    \n",
       "1  transcribed_unprocessed_pseudogene ENSG00000223972.5 ENST00000456328.2\n",
       "2  transcribed_unprocessed_pseudogene ENSG00000223972.5 ENST00000450305.2\n",
       "3  unprocessed_pseudogene             ENSG00000227232.5 ENST00000488147.1\n",
       "4  miRNA                              ENSG00000278267.1 ENST00000619216.1\n",
       "5  lincRNA                            ENSG00000243485.5 ENST00000473358.1\n",
       "6  lincRNA                            ENSG00000243485.5 ENST00000469289.1\n",
       "7  miRNA                              ENSG00000284332.1 ENST00000607096.1\n",
       "8  lincRNA                            ENSG00000237613.2 ENST00000417324.1\n",
       "9  lincRNA                            ENSG00000237613.2 ENST00000461467.1\n",
       "10 unprocessed_pseudogene             ENSG00000268020.3 ENST00000606857.1"
      ]
     },
     "metadata": {},
     "output_type": "display_data"
    },
    {
     "data": {
      "text/html": [
       "<ol class=list-inline>\n",
       "\t<li>206534</li>\n",
       "\t<li>3</li>\n",
       "</ol>\n"
      ],
      "text/latex": [
       "\\begin{enumerate*}\n",
       "\\item 206534\n",
       "\\item 3\n",
       "\\end{enumerate*}\n"
      ],
      "text/markdown": [
       "1. 206534\n",
       "2. 3\n",
       "\n",
       "\n"
      ],
      "text/plain": [
       "[1] 206534      3"
      ]
     },
     "metadata": {},
     "output_type": "display_data"
    }
   ],
   "source": [
    "head(ANNOT,10)\n",
    "dim(ANNOT)"
   ]
  },
  {
   "cell_type": "code",
   "execution_count": 25,
   "metadata": {
    "collapsed": true
   },
   "outputs": [],
   "source": [
    "ANNOT <- unique(ANNOT[,1:3])"
   ]
  },
  {
   "cell_type": "code",
   "execution_count": 26,
   "metadata": {},
   "outputs": [
    {
     "data": {
      "text/html": [
       "<table>\n",
       "<thead><tr><th scope=col>gene_type</th><th scope=col>gene_id</th><th scope=col>transcript_id</th></tr></thead>\n",
       "<tbody>\n",
       "\t<tr><td>transcribed_unprocessed_pseudogene</td><td>ENSG00000223972.5                 </td><td>ENST00000456328.2                 </td></tr>\n",
       "\t<tr><td>transcribed_unprocessed_pseudogene</td><td>ENSG00000223972.5                 </td><td>ENST00000450305.2                 </td></tr>\n",
       "\t<tr><td>unprocessed_pseudogene            </td><td>ENSG00000227232.5                 </td><td>ENST00000488147.1                 </td></tr>\n",
       "\t<tr><td>miRNA                             </td><td>ENSG00000278267.1                 </td><td>ENST00000619216.1                 </td></tr>\n",
       "\t<tr><td>lincRNA                           </td><td>ENSG00000243485.5                 </td><td>ENST00000473358.1                 </td></tr>\n",
       "\t<tr><td>lincRNA                           </td><td>ENSG00000243485.5                 </td><td>ENST00000469289.1                 </td></tr>\n",
       "\t<tr><td>miRNA                             </td><td>ENSG00000284332.1                 </td><td>ENST00000607096.1                 </td></tr>\n",
       "\t<tr><td>lincRNA                           </td><td>ENSG00000237613.2                 </td><td>ENST00000417324.1                 </td></tr>\n",
       "\t<tr><td>lincRNA                           </td><td>ENSG00000237613.2                 </td><td>ENST00000461467.1                 </td></tr>\n",
       "\t<tr><td>unprocessed_pseudogene            </td><td>ENSG00000268020.3                 </td><td>ENST00000606857.1                 </td></tr>\n",
       "</tbody>\n",
       "</table>\n"
      ],
      "text/latex": [
       "\\begin{tabular}{r|lll}\n",
       " gene\\_type & gene\\_id & transcript\\_id\\\\\n",
       "\\hline\n",
       "\t transcribed\\_unprocessed\\_pseudogene & ENSG00000223972.5                      & ENST00000456328.2                     \\\\\n",
       "\t transcribed\\_unprocessed\\_pseudogene & ENSG00000223972.5                      & ENST00000450305.2                     \\\\\n",
       "\t unprocessed\\_pseudogene             & ENSG00000227232.5                    & ENST00000488147.1                   \\\\\n",
       "\t miRNA                              & ENSG00000278267.1                  & ENST00000619216.1                 \\\\\n",
       "\t lincRNA                            & ENSG00000243485.5                  & ENST00000473358.1                 \\\\\n",
       "\t lincRNA                            & ENSG00000243485.5                  & ENST00000469289.1                 \\\\\n",
       "\t miRNA                              & ENSG00000284332.1                  & ENST00000607096.1                 \\\\\n",
       "\t lincRNA                            & ENSG00000237613.2                  & ENST00000417324.1                 \\\\\n",
       "\t lincRNA                            & ENSG00000237613.2                  & ENST00000461467.1                 \\\\\n",
       "\t unprocessed\\_pseudogene             & ENSG00000268020.3                    & ENST00000606857.1                   \\\\\n",
       "\\end{tabular}\n"
      ],
      "text/markdown": [
       "\n",
       "gene_type | gene_id | transcript_id | \n",
       "|---|---|---|---|---|---|---|---|---|---|\n",
       "| transcribed_unprocessed_pseudogene | ENSG00000223972.5                  | ENST00000456328.2                  | \n",
       "| transcribed_unprocessed_pseudogene | ENSG00000223972.5                  | ENST00000450305.2                  | \n",
       "| unprocessed_pseudogene             | ENSG00000227232.5                  | ENST00000488147.1                  | \n",
       "| miRNA                              | ENSG00000278267.1                  | ENST00000619216.1                  | \n",
       "| lincRNA                            | ENSG00000243485.5                  | ENST00000473358.1                  | \n",
       "| lincRNA                            | ENSG00000243485.5                  | ENST00000469289.1                  | \n",
       "| miRNA                              | ENSG00000284332.1                  | ENST00000607096.1                  | \n",
       "| lincRNA                            | ENSG00000237613.2                  | ENST00000417324.1                  | \n",
       "| lincRNA                            | ENSG00000237613.2                  | ENST00000461467.1                  | \n",
       "| unprocessed_pseudogene             | ENSG00000268020.3                  | ENST00000606857.1                  | \n",
       "\n",
       "\n"
      ],
      "text/plain": [
       "   gene_type                          gene_id           transcript_id    \n",
       "1  transcribed_unprocessed_pseudogene ENSG00000223972.5 ENST00000456328.2\n",
       "2  transcribed_unprocessed_pseudogene ENSG00000223972.5 ENST00000450305.2\n",
       "3  unprocessed_pseudogene             ENSG00000227232.5 ENST00000488147.1\n",
       "4  miRNA                              ENSG00000278267.1 ENST00000619216.1\n",
       "5  lincRNA                            ENSG00000243485.5 ENST00000473358.1\n",
       "6  lincRNA                            ENSG00000243485.5 ENST00000469289.1\n",
       "7  miRNA                              ENSG00000284332.1 ENST00000607096.1\n",
       "8  lincRNA                            ENSG00000237613.2 ENST00000417324.1\n",
       "9  lincRNA                            ENSG00000237613.2 ENST00000461467.1\n",
       "10 unprocessed_pseudogene             ENSG00000268020.3 ENST00000606857.1"
      ]
     },
     "metadata": {},
     "output_type": "display_data"
    },
    {
     "data": {
      "text/html": [
       "<ol class=list-inline>\n",
       "\t<li>206534</li>\n",
       "\t<li>3</li>\n",
       "</ol>\n"
      ],
      "text/latex": [
       "\\begin{enumerate*}\n",
       "\\item 206534\n",
       "\\item 3\n",
       "\\end{enumerate*}\n"
      ],
      "text/markdown": [
       "1. 206534\n",
       "2. 3\n",
       "\n",
       "\n"
      ],
      "text/plain": [
       "[1] 206534      3"
      ]
     },
     "metadata": {},
     "output_type": "display_data"
    }
   ],
   "source": [
    "head(ANNOT,10)\n",
    "dim(ANNOT)"
   ]
  },
  {
   "cell_type": "code",
   "execution_count": 27,
   "metadata": {},
   "outputs": [
    {
     "data": {
      "text/plain": [
       "\n",
       "          3prime_overlapping_ncRNA                          antisense \n",
       "                                38                              10322 \n",
       "     bidirectional_promoter_lncRNA                          IG_C_gene \n",
       "                               273                                 24 \n",
       "                   IG_C_pseudogene                          IG_D_gene \n",
       "                                 9                                 37 \n",
       "                         IG_J_gene                    IG_J_pseudogene \n",
       "                                18                                  3 \n",
       "                     IG_pseudogene                          IG_V_gene \n",
       "                                 1                                153 \n",
       "                   IG_V_pseudogene                            lincRNA \n",
       "                               188                              13180 \n",
       "                      macro_lncRNA                              miRNA \n",
       "                                 1                               1879 \n",
       "                          misc_RNA                            Mt_rRNA \n",
       "                              2212                                  2 \n",
       "                           Mt_tRNA                         non_coding \n",
       "                                22                                  2 \n",
       "            polymorphic_pseudogene               processed_pseudogene \n",
       "                               117                              10195 \n",
       "              processed_transcript                     protein_coding \n",
       "                              3347                             151113 \n",
       "                        pseudogene                           ribozyme \n",
       "                                18                                  8 \n",
       "                              rRNA                    rRNA_pseudogene \n",
       "                                52                                499 \n",
       "                            scaRNA                              scRNA \n",
       "                                49                                  1 \n",
       "                    sense_intronic                  sense_overlapping \n",
       "                               953                                344 \n",
       "                            snoRNA                              snRNA \n",
       "                               955                               1900 \n",
       "                              sRNA                                TEC \n",
       "                                 5                               1088 \n",
       "                         TR_C_gene                          TR_D_gene \n",
       "                                 6                                  4 \n",
       "                         TR_J_gene                    TR_J_pseudogene \n",
       "                                79                                  4 \n",
       "                         TR_V_gene                    TR_V_pseudogene \n",
       "                               107                                 33 \n",
       "  transcribed_processed_pseudogene     transcribed_unitary_pseudogene \n",
       "                              1057                                634 \n",
       "transcribed_unprocessed_pseudogene    translated_processed_pseudogene \n",
       "                              2855                                  3 \n",
       "                unitary_pseudogene             unprocessed_pseudogene \n",
       "                                95                               2648 \n",
       "                          vaultRNA \n",
       "                                 1 "
      ]
     },
     "metadata": {},
     "output_type": "display_data"
    }
   ],
   "source": [
    "table(ANNOT$gene_type)"
   ]
  },
  {
   "cell_type": "markdown",
   "metadata": {},
   "source": [
    "# Save ANNOT file in .Rdata format for fast loading\n",
    "* **Please include species name, reference genome name and version, and the gencode version in the file name.**\n",
    "* Also store the source URL for your gtf file"
   ]
  },
  {
   "cell_type": "code",
   "execution_count": 34,
   "metadata": {},
   "outputs": [],
   "source": [
    "gtfSourceURL <- \"ftp://ftp.ebi.ac.uk/pub/databases/gencode/Gencode_human/release_29/gencode.v29.annotation.gtf.gz\""
   ]
  },
  {
   "cell_type": "code",
   "execution_count": 29,
   "metadata": {
    "collapsed": true
   },
   "outputs": [],
   "source": [
    "save(ANNOT, gtfSourceURL, file = \"Homo_sapiens_GRCh38p12_gencodev29_ANNOT.Rdata\")"
   ]
  },
  {
   "cell_type": "code",
   "execution_count": 35,
   "metadata": {},
   "outputs": [],
   "source": [
    "save(ANNOT_ex, file = \"../inputs/Homo_sapiens_GRCh38p12_gencodev29_exons_ANNOT.Rdata\")"
   ]
  },
  {
   "cell_type": "markdown",
   "metadata": {},
   "source": [
    "\n",
    "## Software and code used"
   ]
  },
  {
   "cell_type": "code",
   "execution_count": 30,
   "metadata": {},
   "outputs": [
    {
     "data": {
      "text/plain": [
       "R version 3.4.3 (2017-11-30)\n",
       "Platform: x86_64-redhat-linux-gnu (64-bit)\n",
       "Running under: CentOS Linux 7 (Core)\n",
       "\n",
       "Matrix products: default\n",
       "BLAS/LAPACK: /usr/lib64/R/lib/libRblas.so\n",
       "\n",
       "locale:\n",
       " [1] LC_CTYPE=en_US.UTF-8       LC_NUMERIC=C              \n",
       " [3] LC_TIME=en_US.UTF-8        LC_COLLATE=en_US.UTF-8    \n",
       " [5] LC_MONETARY=en_US.UTF-8    LC_MESSAGES=en_US.UTF-8   \n",
       " [7] LC_PAPER=en_US.UTF-8       LC_NAME=C                 \n",
       " [9] LC_ADDRESS=C               LC_TELEPHONE=C            \n",
       "[11] LC_MEASUREMENT=en_US.UTF-8 LC_IDENTIFICATION=C       \n",
       "\n",
       "attached base packages:\n",
       "[1] stats     graphics  grDevices utils     datasets  methods   base     \n",
       "\n",
       "other attached packages:\n",
       "[1] splitstackshape_1.4.6\n",
       "\n",
       "loaded via a namespace (and not attached):\n",
       " [1] Rcpp_1.0.0           digest_0.6.17        crayon_1.3.4        \n",
       " [4] IRdisplay_0.5.0      repr_0.15.0          jsonlite_1.6        \n",
       " [7] magrittr_1.5         evaluate_0.11        stringi_1.2.4       \n",
       "[10] uuid_0.1-2           data.table_1.12.0    IRkernel_0.8.12.9000\n",
       "[13] tools_3.4.3          stringr_1.3.1        compiler_3.4.3      \n",
       "[16] base64enc_0.1-3      htmltools_0.3.6      pbdZMQ_0.3-3        "
      ]
     },
     "metadata": {},
     "output_type": "display_data"
    }
   ],
   "source": [
    "sessionInfo()"
   ]
  },
  {
   "cell_type": "markdown",
   "metadata": {
    "collapsed": true
   },
   "source": [
    "2019 UC San Diego Center for Computational Biology & Bioinformatics\n",
    "\n",
    "Notebook by Art Nasamran <cnasamran@ucsd.edu>"
   ]
  }
 ],
 "metadata": {
  "anaconda-cloud": {},
  "kernelspec": {
   "display_name": "R",
   "language": "R",
   "name": "ir"
  },
  "language_info": {
   "codemirror_mode": "r",
   "file_extension": ".r",
   "mimetype": "text/x-r-source",
   "name": "R",
   "pygments_lexer": "r",
   "version": "3.4.3"
  },
  "toc": {
   "base_numbering": 1,
   "nav_menu": {},
   "number_sections": true,
   "sideBar": true,
   "skip_h1_title": false,
   "title_cell": "Table of Contents",
   "title_sidebar": "Contents",
   "toc_cell": false,
   "toc_position": {},
   "toc_section_display": true,
   "toc_window_display": false
  }
 },
 "nbformat": 4,
 "nbformat_minor": 1
}
